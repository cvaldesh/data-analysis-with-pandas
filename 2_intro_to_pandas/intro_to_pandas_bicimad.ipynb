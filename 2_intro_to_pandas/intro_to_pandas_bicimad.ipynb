{
 "cells": [
  {
   "cell_type": "markdown",
   "metadata": {},
   "source": [
    "### Import libraries"
   ]
  },
  {
   "cell_type": "code",
   "execution_count": 1,
   "metadata": {
    "ExecuteTime": {
     "end_time": "2020-04-04T12:40:32.421136Z",
     "start_time": "2020-04-04T12:40:29.106586Z"
    }
   },
   "outputs": [],
   "source": [
    "import pandas as pd\n",
    "import numpy as np\n",
    "import matplotlib.pyplot as plt\n",
    "from datetime import date, datetime\n",
    "import seaborn as sns\n",
    "import pandas_profiling\n",
    "\n",
    "%matplotlib inline"
   ]
  },
  {
   "cell_type": "markdown",
   "metadata": {},
   "source": [
    "### Import the data"
   ]
  },
  {
   "cell_type": "code",
   "execution_count": 2,
   "metadata": {
    "ExecuteTime": {
     "end_time": "2020-04-04T12:40:32.436312Z",
     "start_time": "2020-04-04T12:40:32.425306Z"
    }
   },
   "outputs": [],
   "source": [
    "bicimad = pd.read_csv(\"bicimad.csv\")"
   ]
  },
  {
   "cell_type": "markdown",
   "metadata": {},
   "source": [
    "### What's in there?"
   ]
  },
  {
   "cell_type": "code",
   "execution_count": 3,
   "metadata": {
    "ExecuteTime": {
     "end_time": "2020-04-04T12:40:32.455327Z",
     "start_time": "2020-04-04T12:40:32.439023Z"
    }
   },
   "outputs": [
    {
     "data": {
      "text/html": [
       "<div>\n",
       "<style scoped>\n",
       "    .dataframe tbody tr th:only-of-type {\n",
       "        vertical-align: middle;\n",
       "    }\n",
       "\n",
       "    .dataframe tbody tr th {\n",
       "        vertical-align: top;\n",
       "    }\n",
       "\n",
       "    .dataframe thead th {\n",
       "        text-align: right;\n",
       "    }\n",
       "</style>\n",
       "<table border=\"1\" class=\"dataframe\">\n",
       "  <thead>\n",
       "    <tr style=\"text-align: right;\">\n",
       "      <th></th>\n",
       "      <th>date</th>\n",
       "      <th>year_subs_trips</th>\n",
       "      <th>temp_subs_trips</th>\n",
       "    </tr>\n",
       "  </thead>\n",
       "  <tbody>\n",
       "    <tr>\n",
       "      <th>0</th>\n",
       "      <td>2014-06-23</td>\n",
       "      <td>17</td>\n",
       "      <td>79</td>\n",
       "    </tr>\n",
       "    <tr>\n",
       "      <th>1</th>\n",
       "      <td>2014-06-24</td>\n",
       "      <td>24</td>\n",
       "      <td>48</td>\n",
       "    </tr>\n",
       "    <tr>\n",
       "      <th>2</th>\n",
       "      <td>2014-06-25</td>\n",
       "      <td>105</td>\n",
       "      <td>14</td>\n",
       "    </tr>\n",
       "    <tr>\n",
       "      <th>3</th>\n",
       "      <td>2014-06-26</td>\n",
       "      <td>120</td>\n",
       "      <td>15</td>\n",
       "    </tr>\n",
       "    <tr>\n",
       "      <th>4</th>\n",
       "      <td>2014-06-27</td>\n",
       "      <td>131</td>\n",
       "      <td>18</td>\n",
       "    </tr>\n",
       "  </tbody>\n",
       "</table>\n",
       "</div>"
      ],
      "text/plain": [
       "         date  year_subs_trips  temp_subs_trips\n",
       "0  2014-06-23               17               79\n",
       "1  2014-06-24               24               48\n",
       "2  2014-06-25              105               14\n",
       "3  2014-06-26              120               15\n",
       "4  2014-06-27              131               18"
      ]
     },
     "execution_count": 3,
     "metadata": {},
     "output_type": "execute_result"
    }
   ],
   "source": [
    "bicimad.head()  # prints first 5 rows"
   ]
  },
  {
   "cell_type": "code",
   "execution_count": 4,
   "metadata": {
    "ExecuteTime": {
     "end_time": "2020-04-04T12:40:32.476752Z",
     "start_time": "2020-04-04T12:40:32.458539Z"
    }
   },
   "outputs": [
    {
     "data": {
      "text/html": [
       "<div>\n",
       "<style scoped>\n",
       "    .dataframe tbody tr th:only-of-type {\n",
       "        vertical-align: middle;\n",
       "    }\n",
       "\n",
       "    .dataframe tbody tr th {\n",
       "        vertical-align: top;\n",
       "    }\n",
       "\n",
       "    .dataframe thead th {\n",
       "        text-align: right;\n",
       "    }\n",
       "</style>\n",
       "<table border=\"1\" class=\"dataframe\">\n",
       "  <thead>\n",
       "    <tr style=\"text-align: right;\">\n",
       "      <th></th>\n",
       "      <th>date</th>\n",
       "      <th>year_subs_trips</th>\n",
       "      <th>temp_subs_trips</th>\n",
       "    </tr>\n",
       "  </thead>\n",
       "  <tbody>\n",
       "    <tr>\n",
       "      <th>2013</th>\n",
       "      <td>2019-12-27</td>\n",
       "      <td>6387</td>\n",
       "      <td>0</td>\n",
       "    </tr>\n",
       "    <tr>\n",
       "      <th>2014</th>\n",
       "      <td>2019-12-28</td>\n",
       "      <td>5058</td>\n",
       "      <td>0</td>\n",
       "    </tr>\n",
       "    <tr>\n",
       "      <th>2015</th>\n",
       "      <td>2019-12-29</td>\n",
       "      <td>4616</td>\n",
       "      <td>0</td>\n",
       "    </tr>\n",
       "    <tr>\n",
       "      <th>2016</th>\n",
       "      <td>2019-12-30</td>\n",
       "      <td>5772</td>\n",
       "      <td>0</td>\n",
       "    </tr>\n",
       "    <tr>\n",
       "      <th>2017</th>\n",
       "      <td>2019-12-31</td>\n",
       "      <td>5270</td>\n",
       "      <td>0</td>\n",
       "    </tr>\n",
       "  </tbody>\n",
       "</table>\n",
       "</div>"
      ],
      "text/plain": [
       "            date  year_subs_trips  temp_subs_trips\n",
       "2013  2019-12-27             6387                0\n",
       "2014  2019-12-28             5058                0\n",
       "2015  2019-12-29             4616                0\n",
       "2016  2019-12-30             5772                0\n",
       "2017  2019-12-31             5270                0"
      ]
     },
     "execution_count": 4,
     "metadata": {},
     "output_type": "execute_result"
    }
   ],
   "source": [
    "bicimad.tail()  # prints last 5 rows"
   ]
  },
  {
   "cell_type": "code",
   "execution_count": 5,
   "metadata": {
    "ExecuteTime": {
     "end_time": "2020-04-04T12:40:32.497355Z",
     "start_time": "2020-04-04T12:40:32.486331Z"
    }
   },
   "outputs": [
    {
     "data": {
      "text/html": [
       "<div>\n",
       "<style scoped>\n",
       "    .dataframe tbody tr th:only-of-type {\n",
       "        vertical-align: middle;\n",
       "    }\n",
       "\n",
       "    .dataframe tbody tr th {\n",
       "        vertical-align: top;\n",
       "    }\n",
       "\n",
       "    .dataframe thead th {\n",
       "        text-align: right;\n",
       "    }\n",
       "</style>\n",
       "<table border=\"1\" class=\"dataframe\">\n",
       "  <thead>\n",
       "    <tr style=\"text-align: right;\">\n",
       "      <th></th>\n",
       "      <th>date</th>\n",
       "      <th>year_subs_trips</th>\n",
       "      <th>temp_subs_trips</th>\n",
       "    </tr>\n",
       "  </thead>\n",
       "  <tbody>\n",
       "    <tr>\n",
       "      <th>1447</th>\n",
       "      <td>2018-06-09</td>\n",
       "      <td>8789</td>\n",
       "      <td>394</td>\n",
       "    </tr>\n",
       "    <tr>\n",
       "      <th>1439</th>\n",
       "      <td>2018-06-01</td>\n",
       "      <td>13170</td>\n",
       "      <td>213</td>\n",
       "    </tr>\n",
       "    <tr>\n",
       "      <th>1463</th>\n",
       "      <td>2018-06-25</td>\n",
       "      <td>13282</td>\n",
       "      <td>216</td>\n",
       "    </tr>\n",
       "    <tr>\n",
       "      <th>713</th>\n",
       "      <td>2016-06-05</td>\n",
       "      <td>9158</td>\n",
       "      <td>570</td>\n",
       "    </tr>\n",
       "    <tr>\n",
       "      <th>595</th>\n",
       "      <td>2016-02-08</td>\n",
       "      <td>7387</td>\n",
       "      <td>73</td>\n",
       "    </tr>\n",
       "  </tbody>\n",
       "</table>\n",
       "</div>"
      ],
      "text/plain": [
       "            date  year_subs_trips  temp_subs_trips\n",
       "1447  2018-06-09             8789              394\n",
       "1439  2018-06-01            13170              213\n",
       "1463  2018-06-25            13282              216\n",
       "713   2016-06-05             9158              570\n",
       "595   2016-02-08             7387               73"
      ]
     },
     "execution_count": 5,
     "metadata": {},
     "output_type": "execute_result"
    }
   ],
   "source": [
    "bicimad.sample(n=5)  # prints random sample of n rows"
   ]
  },
  {
   "cell_type": "code",
   "execution_count": 6,
   "metadata": {
    "ExecuteTime": {
     "end_time": "2020-04-04T12:40:32.521823Z",
     "start_time": "2020-04-04T12:40:32.504468Z"
    }
   },
   "outputs": [
    {
     "data": {
      "text/plain": [
       "date               object\n",
       "year_subs_trips     int64\n",
       "temp_subs_trips     int64\n",
       "dtype: object"
      ]
     },
     "execution_count": 6,
     "metadata": {},
     "output_type": "execute_result"
    }
   ],
   "source": [
    "bicimad.dtypes  # prints the type of data contained in each column"
   ]
  },
  {
   "cell_type": "code",
   "execution_count": 7,
   "metadata": {
    "ExecuteTime": {
     "end_time": "2020-04-04T12:40:32.533297Z",
     "start_time": "2020-04-04T12:40:32.526935Z"
    }
   },
   "outputs": [
    {
     "data": {
      "text/plain": [
       "Index(['date', 'year_subs_trips', 'temp_subs_trips'], dtype='object')"
      ]
     },
     "execution_count": 7,
     "metadata": {},
     "output_type": "execute_result"
    }
   ],
   "source": [
    "bicimad.columns  # names of the columns"
   ]
  },
  {
   "cell_type": "code",
   "execution_count": 8,
   "metadata": {
    "ExecuteTime": {
     "end_time": "2020-04-04T12:40:32.562086Z",
     "start_time": "2020-04-04T12:40:32.538847Z"
    }
   },
   "outputs": [
    {
     "data": {
      "text/html": [
       "<div>\n",
       "<style scoped>\n",
       "    .dataframe tbody tr th:only-of-type {\n",
       "        vertical-align: middle;\n",
       "    }\n",
       "\n",
       "    .dataframe tbody tr th {\n",
       "        vertical-align: top;\n",
       "    }\n",
       "\n",
       "    .dataframe thead th {\n",
       "        text-align: right;\n",
       "    }\n",
       "</style>\n",
       "<table border=\"1\" class=\"dataframe\">\n",
       "  <thead>\n",
       "    <tr style=\"text-align: right;\">\n",
       "      <th></th>\n",
       "      <th>year_subs_trips</th>\n",
       "      <th>temp_subs_trips</th>\n",
       "    </tr>\n",
       "  </thead>\n",
       "  <tbody>\n",
       "    <tr>\n",
       "      <th>count</th>\n",
       "      <td>2018.000000</td>\n",
       "      <td>2018.000000</td>\n",
       "    </tr>\n",
       "    <tr>\n",
       "      <th>mean</th>\n",
       "      <td>8483.408325</td>\n",
       "      <td>162.712587</td>\n",
       "    </tr>\n",
       "    <tr>\n",
       "      <th>std</th>\n",
       "      <td>3377.176507</td>\n",
       "      <td>131.755530</td>\n",
       "    </tr>\n",
       "    <tr>\n",
       "      <th>min</th>\n",
       "      <td>17.000000</td>\n",
       "      <td>0.000000</td>\n",
       "    </tr>\n",
       "    <tr>\n",
       "      <th>25%</th>\n",
       "      <td>5874.000000</td>\n",
       "      <td>63.000000</td>\n",
       "    </tr>\n",
       "    <tr>\n",
       "      <th>50%</th>\n",
       "      <td>8511.500000</td>\n",
       "      <td>138.000000</td>\n",
       "    </tr>\n",
       "    <tr>\n",
       "      <th>75%</th>\n",
       "      <td>11027.500000</td>\n",
       "      <td>222.750000</td>\n",
       "    </tr>\n",
       "    <tr>\n",
       "      <th>max</th>\n",
       "      <td>17054.000000</td>\n",
       "      <td>745.000000</td>\n",
       "    </tr>\n",
       "  </tbody>\n",
       "</table>\n",
       "</div>"
      ],
      "text/plain": [
       "       year_subs_trips  temp_subs_trips\n",
       "count      2018.000000      2018.000000\n",
       "mean       8483.408325       162.712587\n",
       "std        3377.176507       131.755530\n",
       "min          17.000000         0.000000\n",
       "25%        5874.000000        63.000000\n",
       "50%        8511.500000       138.000000\n",
       "75%       11027.500000       222.750000\n",
       "max       17054.000000       745.000000"
      ]
     },
     "execution_count": 8,
     "metadata": {},
     "output_type": "execute_result"
    }
   ],
   "source": [
    "bicimad.describe() #returns a summary of some important statistic values for the numeric columns"
   ]
  },
  {
   "cell_type": "code",
   "execution_count": null,
   "metadata": {},
   "outputs": [],
   "source": []
  },
  {
   "cell_type": "code",
   "execution_count": 9,
   "metadata": {
    "ExecuteTime": {
     "end_time": "2020-04-04T12:40:33.250306Z",
     "start_time": "2020-04-04T12:40:32.565587Z"
    }
   },
   "outputs": [
    {
     "data": {
      "text/plain": [
       "<matplotlib.axes._subplots.AxesSubplot at 0x11a947130>"
      ]
     },
     "execution_count": 9,
     "metadata": {},
     "output_type": "execute_result"
    },
    {
     "data": {
      "image/png": "[encoded data removed]",
      "text/plain": [
       "<Figure size 1080x432 with 1 Axes>"
      ]
     },
     "metadata": {
      "needs_background": "light"
     },
     "output_type": "display_data"
    }
   ],
   "source": [
    "# using pandas pd.plot() we can plot all the numeric columns in a single chart\n",
    "bicimad.plot(figsize=(15, 6))  # uses matplotlib.pyplot to plot "
   ]
  },
  {
   "cell_type": "code",
   "execution_count": 10,
   "metadata": {
    "ExecuteTime": {
     "end_time": "2020-04-04T12:40:34.928890Z",
     "start_time": "2020-04-04T12:40:33.254711Z"
    }
   },
   "outputs": [
    {
     "data": {
      "text/plain": [
       "<seaborn.axisgrid.PairGrid at 0x11cda12b0>"
      ]
     },
     "execution_count": 10,
     "metadata": {},
     "output_type": "execute_result"
    },
    {
     "data": {
      "image/png": "[encoded data removed]",
      "text/plain": [
       "<Figure size 360x360 with 6 Axes>"
      ]
     },
     "metadata": {
      "needs_background": "light"
     },
     "output_type": "display_data"
    }
   ],
   "source": [
    "# this seaborn functionality is very useful to detect correlations in your features\n",
    "sns.pairplot(bicimad.iloc[:, 1:])  # useful plot from seaborn to get an idea of how the data looks like"
   ]
  },
  {
   "cell_type": "markdown",
   "metadata": {},
   "source": [
    "### Process data a bit"
   ]
  },
  {
   "cell_type": "code",
   "execution_count": 11,
   "metadata": {
    "ExecuteTime": {
     "end_time": "2020-04-04T12:40:34.947544Z",
     "start_time": "2020-04-04T12:40:34.941952Z"
    }
   },
   "outputs": [],
   "source": [
    "bicimad[\"date\"] = pd.to_datetime(bicimad[\"date\"])  # convert date from string to datetime"
   ]
  },
  {
   "cell_type": "code",
   "execution_count": 12,
   "metadata": {
    "ExecuteTime": {
     "end_time": "2020-04-04T12:40:34.961124Z",
     "start_time": "2020-04-04T12:40:34.949847Z"
    }
   },
   "outputs": [
    {
     "data": {
      "text/plain": [
       "date               datetime64[ns]\n",
       "year_subs_trips             int64\n",
       "temp_subs_trips             int64\n",
       "dtype: object"
      ]
     },
     "execution_count": 12,
     "metadata": {},
     "output_type": "execute_result"
    }
   ],
   "source": [
    "bicimad.dtypes  # get the types for each column"
   ]
  },
  {
   "cell_type": "code",
   "execution_count": 13,
   "metadata": {
    "ExecuteTime": {
     "end_time": "2020-04-04T12:40:34.973864Z",
     "start_time": "2020-04-04T12:40:34.963477Z"
    }
   },
   "outputs": [],
   "source": [
    "bicimad[\"year\"] = bicimad[\"date\"].dt.year  # get the year out of the datetime object"
   ]
  },
  {
   "cell_type": "code",
   "execution_count": 14,
   "metadata": {
    "ExecuteTime": {
     "end_time": "2020-04-04T12:40:35.024572Z",
     "start_time": "2020-04-04T12:40:34.976717Z"
    }
   },
   "outputs": [],
   "source": [
    "# create some time related variables\n",
    "\n",
    "bicimad[\"year\"] = bicimad[\"date\"].map(lambda x: x.year)\n",
    "bicimad[\"month\"] = bicimad[\"date\"].map(lambda x: x.month)\n",
    "bicimad[\"day\"] = bicimad[\"date\"].map(lambda x: x.day)\n",
    "bicimad[\"weekday\"] = bicimad[\"date\"].map(lambda x: x.weekday())\n",
    "bicimad[\"weekend\"] = np.where(bicimad[\"weekday\"] < 5, 0, 1)"
   ]
  },
  {
   "cell_type": "code",
   "execution_count": 15,
   "metadata": {
    "ExecuteTime": {
     "end_time": "2020-04-04T12:40:35.038684Z",
     "start_time": "2020-04-04T12:40:35.028259Z"
    }
   },
   "outputs": [],
   "source": [
    "bicimad[\"weekend_lambda\"] = bicimad[\"weekday\"].map(lambda x: 1*(x>4))  # another way to get the weekend value"
   ]
  },
  {
   "cell_type": "code",
   "execution_count": 16,
   "metadata": {
    "ExecuteTime": {
     "end_time": "2020-04-04T12:40:35.053489Z",
     "start_time": "2020-04-04T12:40:35.041430Z"
    }
   },
   "outputs": [
    {
     "data": {
      "text/html": [
       "<div>\n",
       "<style scoped>\n",
       "    .dataframe tbody tr th:only-of-type {\n",
       "        vertical-align: middle;\n",
       "    }\n",
       "\n",
       "    .dataframe tbody tr th {\n",
       "        vertical-align: top;\n",
       "    }\n",
       "\n",
       "    .dataframe thead th {\n",
       "        text-align: right;\n",
       "    }\n",
       "</style>\n",
       "<table border=\"1\" class=\"dataframe\">\n",
       "  <thead>\n",
       "    <tr style=\"text-align: right;\">\n",
       "      <th></th>\n",
       "      <th>date</th>\n",
       "      <th>year_subs_trips</th>\n",
       "      <th>temp_subs_trips</th>\n",
       "      <th>year</th>\n",
       "      <th>month</th>\n",
       "      <th>day</th>\n",
       "      <th>weekday</th>\n",
       "      <th>weekend</th>\n",
       "      <th>weekend_lambda</th>\n",
       "    </tr>\n",
       "  </thead>\n",
       "  <tbody>\n",
       "    <tr>\n",
       "      <th>0</th>\n",
       "      <td>2014-06-23</td>\n",
       "      <td>17</td>\n",
       "      <td>79</td>\n",
       "      <td>2014</td>\n",
       "      <td>6</td>\n",
       "      <td>23</td>\n",
       "      <td>0</td>\n",
       "      <td>0</td>\n",
       "      <td>0</td>\n",
       "    </tr>\n",
       "    <tr>\n",
       "      <th>1</th>\n",
       "      <td>2014-06-24</td>\n",
       "      <td>24</td>\n",
       "      <td>48</td>\n",
       "      <td>2014</td>\n",
       "      <td>6</td>\n",
       "      <td>24</td>\n",
       "      <td>1</td>\n",
       "      <td>0</td>\n",
       "      <td>0</td>\n",
       "    </tr>\n",
       "    <tr>\n",
       "      <th>2</th>\n",
       "      <td>2014-06-25</td>\n",
       "      <td>105</td>\n",
       "      <td>14</td>\n",
       "      <td>2014</td>\n",
       "      <td>6</td>\n",
       "      <td>25</td>\n",
       "      <td>2</td>\n",
       "      <td>0</td>\n",
       "      <td>0</td>\n",
       "    </tr>\n",
       "    <tr>\n",
       "      <th>3</th>\n",
       "      <td>2014-06-26</td>\n",
       "      <td>120</td>\n",
       "      <td>15</td>\n",
       "      <td>2014</td>\n",
       "      <td>6</td>\n",
       "      <td>26</td>\n",
       "      <td>3</td>\n",
       "      <td>0</td>\n",
       "      <td>0</td>\n",
       "    </tr>\n",
       "    <tr>\n",
       "      <th>4</th>\n",
       "      <td>2014-06-27</td>\n",
       "      <td>131</td>\n",
       "      <td>18</td>\n",
       "      <td>2014</td>\n",
       "      <td>6</td>\n",
       "      <td>27</td>\n",
       "      <td>4</td>\n",
       "      <td>0</td>\n",
       "      <td>0</td>\n",
       "    </tr>\n",
       "  </tbody>\n",
       "</table>\n",
       "</div>"
      ],
      "text/plain": [
       "        date  year_subs_trips  temp_subs_trips  year  month  day  weekday  \\\n",
       "0 2014-06-23               17               79  2014      6   23        0   \n",
       "1 2014-06-24               24               48  2014      6   24        1   \n",
       "2 2014-06-25              105               14  2014      6   25        2   \n",
       "3 2014-06-26              120               15  2014      6   26        3   \n",
       "4 2014-06-27              131               18  2014      6   27        4   \n",
       "\n",
       "   weekend  weekend_lambda  \n",
       "0        0               0  \n",
       "1        0               0  \n",
       "2        0               0  \n",
       "3        0               0  \n",
       "4        0               0  "
      ]
     },
     "execution_count": 16,
     "metadata": {},
     "output_type": "execute_result"
    }
   ],
   "source": [
    "bicimad.head()"
   ]
  },
  {
   "cell_type": "code",
   "execution_count": 17,
   "metadata": {
    "ExecuteTime": {
     "end_time": "2020-04-04T12:40:35.074314Z",
     "start_time": "2020-04-04T12:40:35.055527Z"
    }
   },
   "outputs": [
    {
     "data": {
      "text/html": [
       "<div>\n",
       "<style scoped>\n",
       "    .dataframe tbody tr th:only-of-type {\n",
       "        vertical-align: middle;\n",
       "    }\n",
       "\n",
       "    .dataframe tbody tr th {\n",
       "        vertical-align: top;\n",
       "    }\n",
       "\n",
       "    .dataframe thead th {\n",
       "        text-align: right;\n",
       "    }\n",
       "</style>\n",
       "<table border=\"1\" class=\"dataframe\">\n",
       "  <thead>\n",
       "    <tr style=\"text-align: right;\">\n",
       "      <th></th>\n",
       "      <th>date</th>\n",
       "      <th>year_subs_trips</th>\n",
       "      <th>temp_subs_trips</th>\n",
       "      <th>year</th>\n",
       "      <th>month</th>\n",
       "      <th>day</th>\n",
       "      <th>weekday</th>\n",
       "      <th>weekend</th>\n",
       "      <th>weekend_lambda</th>\n",
       "    </tr>\n",
       "  </thead>\n",
       "  <tbody>\n",
       "    <tr>\n",
       "      <th>0</th>\n",
       "      <td>2014-06-23</td>\n",
       "      <td>17</td>\n",
       "      <td>79</td>\n",
       "      <td>2014</td>\n",
       "      <td>6</td>\n",
       "      <td>23</td>\n",
       "      <td>0</td>\n",
       "      <td>0</td>\n",
       "      <td>0</td>\n",
       "    </tr>\n",
       "    <tr>\n",
       "      <th>1</th>\n",
       "      <td>2014-06-24</td>\n",
       "      <td>24</td>\n",
       "      <td>48</td>\n",
       "      <td>2014</td>\n",
       "      <td>6</td>\n",
       "      <td>24</td>\n",
       "      <td>1</td>\n",
       "      <td>0</td>\n",
       "      <td>0</td>\n",
       "    </tr>\n",
       "    <tr>\n",
       "      <th>2</th>\n",
       "      <td>2014-06-25</td>\n",
       "      <td>105</td>\n",
       "      <td>14</td>\n",
       "      <td>2014</td>\n",
       "      <td>6</td>\n",
       "      <td>25</td>\n",
       "      <td>2</td>\n",
       "      <td>0</td>\n",
       "      <td>0</td>\n",
       "    </tr>\n",
       "    <tr>\n",
       "      <th>3</th>\n",
       "      <td>2014-06-26</td>\n",
       "      <td>120</td>\n",
       "      <td>15</td>\n",
       "      <td>2014</td>\n",
       "      <td>6</td>\n",
       "      <td>26</td>\n",
       "      <td>3</td>\n",
       "      <td>0</td>\n",
       "      <td>0</td>\n",
       "    </tr>\n",
       "    <tr>\n",
       "      <th>4</th>\n",
       "      <td>2014-06-27</td>\n",
       "      <td>131</td>\n",
       "      <td>18</td>\n",
       "      <td>2014</td>\n",
       "      <td>6</td>\n",
       "      <td>27</td>\n",
       "      <td>4</td>\n",
       "      <td>0</td>\n",
       "      <td>0</td>\n",
       "    </tr>\n",
       "  </tbody>\n",
       "</table>\n",
       "</div>"
      ],
      "text/plain": [
       "        date  year_subs_trips  temp_subs_trips  year  month  day  weekday  \\\n",
       "0 2014-06-23               17               79  2014      6   23        0   \n",
       "1 2014-06-24               24               48  2014      6   24        1   \n",
       "2 2014-06-25              105               14  2014      6   25        2   \n",
       "3 2014-06-26              120               15  2014      6   26        3   \n",
       "4 2014-06-27              131               18  2014      6   27        4   \n",
       "\n",
       "   weekend  weekend_lambda  \n",
       "0        0               0  \n",
       "1        0               0  \n",
       "2        0               0  \n",
       "3        0               0  \n",
       "4        0               0  "
      ]
     },
     "execution_count": 17,
     "metadata": {},
     "output_type": "execute_result"
    }
   ],
   "source": [
    "bicimad.head()"
   ]
  },
  {
   "cell_type": "markdown",
   "metadata": {},
   "source": [
    "### Slicing"
   ]
  },
  {
   "cell_type": "code",
   "execution_count": 18,
   "metadata": {
    "ExecuteTime": {
     "end_time": "2020-04-04T12:40:35.098941Z",
     "start_time": "2020-04-04T12:40:35.077888Z"
    }
   },
   "outputs": [
    {
     "data": {
      "text/html": [
       "<div>\n",
       "<style scoped>\n",
       "    .dataframe tbody tr th:only-of-type {\n",
       "        vertical-align: middle;\n",
       "    }\n",
       "\n",
       "    .dataframe tbody tr th {\n",
       "        vertical-align: top;\n",
       "    }\n",
       "\n",
       "    .dataframe thead th {\n",
       "        text-align: right;\n",
       "    }\n",
       "</style>\n",
       "<table border=\"1\" class=\"dataframe\">\n",
       "  <thead>\n",
       "    <tr style=\"text-align: right;\">\n",
       "      <th></th>\n",
       "      <th>date</th>\n",
       "      <th>year_subs_trips</th>\n",
       "      <th>temp_subs_trips</th>\n",
       "      <th>year</th>\n",
       "      <th>month</th>\n",
       "      <th>day</th>\n",
       "      <th>weekday</th>\n",
       "      <th>weekend</th>\n",
       "      <th>weekend_lambda</th>\n",
       "    </tr>\n",
       "  </thead>\n",
       "  <tbody>\n",
       "    <tr>\n",
       "      <th>5</th>\n",
       "      <td>2014-06-28</td>\n",
       "      <td>101</td>\n",
       "      <td>18</td>\n",
       "      <td>2014</td>\n",
       "      <td>6</td>\n",
       "      <td>28</td>\n",
       "      <td>5</td>\n",
       "      <td>1</td>\n",
       "      <td>1</td>\n",
       "    </tr>\n",
       "    <tr>\n",
       "      <th>6</th>\n",
       "      <td>2014-06-29</td>\n",
       "      <td>107</td>\n",
       "      <td>33</td>\n",
       "      <td>2014</td>\n",
       "      <td>6</td>\n",
       "      <td>29</td>\n",
       "      <td>6</td>\n",
       "      <td>1</td>\n",
       "      <td>1</td>\n",
       "    </tr>\n",
       "    <tr>\n",
       "      <th>12</th>\n",
       "      <td>2014-07-05</td>\n",
       "      <td>783</td>\n",
       "      <td>3</td>\n",
       "      <td>2014</td>\n",
       "      <td>7</td>\n",
       "      <td>5</td>\n",
       "      <td>5</td>\n",
       "      <td>1</td>\n",
       "      <td>1</td>\n",
       "    </tr>\n",
       "    <tr>\n",
       "      <th>13</th>\n",
       "      <td>2014-07-06</td>\n",
       "      <td>1230</td>\n",
       "      <td>5</td>\n",
       "      <td>2014</td>\n",
       "      <td>7</td>\n",
       "      <td>6</td>\n",
       "      <td>6</td>\n",
       "      <td>1</td>\n",
       "      <td>1</td>\n",
       "    </tr>\n",
       "    <tr>\n",
       "      <th>19</th>\n",
       "      <td>2014-07-12</td>\n",
       "      <td>1949</td>\n",
       "      <td>4</td>\n",
       "      <td>2014</td>\n",
       "      <td>7</td>\n",
       "      <td>12</td>\n",
       "      <td>5</td>\n",
       "      <td>1</td>\n",
       "      <td>1</td>\n",
       "    </tr>\n",
       "    <tr>\n",
       "      <th>...</th>\n",
       "      <td>...</td>\n",
       "      <td>...</td>\n",
       "      <td>...</td>\n",
       "      <td>...</td>\n",
       "      <td>...</td>\n",
       "      <td>...</td>\n",
       "      <td>...</td>\n",
       "      <td>...</td>\n",
       "      <td>...</td>\n",
       "    </tr>\n",
       "    <tr>\n",
       "      <th>2001</th>\n",
       "      <td>2019-12-15</td>\n",
       "      <td>6714</td>\n",
       "      <td>1</td>\n",
       "      <td>2019</td>\n",
       "      <td>12</td>\n",
       "      <td>15</td>\n",
       "      <td>6</td>\n",
       "      <td>1</td>\n",
       "      <td>1</td>\n",
       "    </tr>\n",
       "    <tr>\n",
       "      <th>2007</th>\n",
       "      <td>2019-12-21</td>\n",
       "      <td>5353</td>\n",
       "      <td>0</td>\n",
       "      <td>2019</td>\n",
       "      <td>12</td>\n",
       "      <td>21</td>\n",
       "      <td>5</td>\n",
       "      <td>1</td>\n",
       "      <td>1</td>\n",
       "    </tr>\n",
       "    <tr>\n",
       "      <th>2008</th>\n",
       "      <td>2019-12-22</td>\n",
       "      <td>4891</td>\n",
       "      <td>0</td>\n",
       "      <td>2019</td>\n",
       "      <td>12</td>\n",
       "      <td>22</td>\n",
       "      <td>6</td>\n",
       "      <td>1</td>\n",
       "      <td>1</td>\n",
       "    </tr>\n",
       "    <tr>\n",
       "      <th>2014</th>\n",
       "      <td>2019-12-28</td>\n",
       "      <td>5058</td>\n",
       "      <td>0</td>\n",
       "      <td>2019</td>\n",
       "      <td>12</td>\n",
       "      <td>28</td>\n",
       "      <td>5</td>\n",
       "      <td>1</td>\n",
       "      <td>1</td>\n",
       "    </tr>\n",
       "    <tr>\n",
       "      <th>2015</th>\n",
       "      <td>2019-12-29</td>\n",
       "      <td>4616</td>\n",
       "      <td>0</td>\n",
       "      <td>2019</td>\n",
       "      <td>12</td>\n",
       "      <td>29</td>\n",
       "      <td>6</td>\n",
       "      <td>1</td>\n",
       "      <td>1</td>\n",
       "    </tr>\n",
       "  </tbody>\n",
       "</table>\n",
       "<p>576 rows × 9 columns</p>\n",
       "</div>"
      ],
      "text/plain": [
       "           date  year_subs_trips  temp_subs_trips  year  month  day  weekday  \\\n",
       "5    2014-06-28              101               18  2014      6   28        5   \n",
       "6    2014-06-29              107               33  2014      6   29        6   \n",
       "12   2014-07-05              783                3  2014      7    5        5   \n",
       "13   2014-07-06             1230                5  2014      7    6        6   \n",
       "19   2014-07-12             1949                4  2014      7   12        5   \n",
       "...         ...              ...              ...   ...    ...  ...      ...   \n",
       "2001 2019-12-15             6714                1  2019     12   15        6   \n",
       "2007 2019-12-21             5353                0  2019     12   21        5   \n",
       "2008 2019-12-22             4891                0  2019     12   22        6   \n",
       "2014 2019-12-28             5058                0  2019     12   28        5   \n",
       "2015 2019-12-29             4616                0  2019     12   29        6   \n",
       "\n",
       "      weekend  weekend_lambda  \n",
       "5           1               1  \n",
       "6           1               1  \n",
       "12          1               1  \n",
       "13          1               1  \n",
       "19          1               1  \n",
       "...       ...             ...  \n",
       "2001        1               1  \n",
       "2007        1               1  \n",
       "2008        1               1  \n",
       "2014        1               1  \n",
       "2015        1               1  \n",
       "\n",
       "[576 rows x 9 columns]"
      ]
     },
     "execution_count": 18,
     "metadata": {},
     "output_type": "execute_result"
    }
   ],
   "source": [
    "# trips during weekends\n",
    "\n",
    "bicimad.query(\"weekend == True\")"
   ]
  },
  {
   "cell_type": "code",
   "execution_count": 19,
   "metadata": {
    "ExecuteTime": {
     "end_time": "2020-04-04T12:40:35.115500Z",
     "start_time": "2020-04-04T12:40:35.102918Z"
    },
    "scrolled": true
   },
   "outputs": [
    {
     "data": {
      "text/html": [
       "<div>\n",
       "<style scoped>\n",
       "    .dataframe tbody tr th:only-of-type {\n",
       "        vertical-align: middle;\n",
       "    }\n",
       "\n",
       "    .dataframe tbody tr th {\n",
       "        vertical-align: top;\n",
       "    }\n",
       "\n",
       "    .dataframe thead th {\n",
       "        text-align: right;\n",
       "    }\n",
       "</style>\n",
       "<table border=\"1\" class=\"dataframe\">\n",
       "  <thead>\n",
       "    <tr style=\"text-align: right;\">\n",
       "      <th></th>\n",
       "      <th>date</th>\n",
       "      <th>year_subs_trips</th>\n",
       "      <th>temp_subs_trips</th>\n",
       "      <th>year</th>\n",
       "      <th>month</th>\n",
       "      <th>day</th>\n",
       "      <th>weekday</th>\n",
       "      <th>weekend</th>\n",
       "      <th>weekend_lambda</th>\n",
       "    </tr>\n",
       "  </thead>\n",
       "  <tbody>\n",
       "    <tr>\n",
       "      <th>1106</th>\n",
       "      <td>2017-07-03</td>\n",
       "      <td>11905</td>\n",
       "      <td>256</td>\n",
       "      <td>2017</td>\n",
       "      <td>7</td>\n",
       "      <td>3</td>\n",
       "      <td>0</td>\n",
       "      <td>0</td>\n",
       "      <td>0</td>\n",
       "    </tr>\n",
       "    <tr>\n",
       "      <th>1113</th>\n",
       "      <td>2017-07-10</td>\n",
       "      <td>11684</td>\n",
       "      <td>289</td>\n",
       "      <td>2017</td>\n",
       "      <td>7</td>\n",
       "      <td>10</td>\n",
       "      <td>0</td>\n",
       "      <td>0</td>\n",
       "      <td>0</td>\n",
       "    </tr>\n",
       "    <tr>\n",
       "      <th>1120</th>\n",
       "      <td>2017-07-17</td>\n",
       "      <td>11127</td>\n",
       "      <td>193</td>\n",
       "      <td>2017</td>\n",
       "      <td>7</td>\n",
       "      <td>17</td>\n",
       "      <td>0</td>\n",
       "      <td>0</td>\n",
       "      <td>0</td>\n",
       "    </tr>\n",
       "    <tr>\n",
       "      <th>1127</th>\n",
       "      <td>2017-07-24</td>\n",
       "      <td>10956</td>\n",
       "      <td>136</td>\n",
       "      <td>2017</td>\n",
       "      <td>7</td>\n",
       "      <td>24</td>\n",
       "      <td>0</td>\n",
       "      <td>0</td>\n",
       "      <td>0</td>\n",
       "    </tr>\n",
       "    <tr>\n",
       "      <th>1134</th>\n",
       "      <td>2017-07-31</td>\n",
       "      <td>9759</td>\n",
       "      <td>258</td>\n",
       "      <td>2017</td>\n",
       "      <td>7</td>\n",
       "      <td>31</td>\n",
       "      <td>0</td>\n",
       "      <td>0</td>\n",
       "      <td>0</td>\n",
       "    </tr>\n",
       "  </tbody>\n",
       "</table>\n",
       "</div>"
      ],
      "text/plain": [
       "           date  year_subs_trips  temp_subs_trips  year  month  day  weekday  \\\n",
       "1106 2017-07-03            11905              256  2017      7    3        0   \n",
       "1113 2017-07-10            11684              289  2017      7   10        0   \n",
       "1120 2017-07-17            11127              193  2017      7   17        0   \n",
       "1127 2017-07-24            10956              136  2017      7   24        0   \n",
       "1134 2017-07-31             9759              258  2017      7   31        0   \n",
       "\n",
       "      weekend  weekend_lambda  \n",
       "1106        0               0  \n",
       "1113        0               0  \n",
       "1120        0               0  \n",
       "1127        0               0  \n",
       "1134        0               0  "
      ]
     },
     "execution_count": 19,
     "metadata": {},
     "output_type": "execute_result"
    }
   ],
   "source": [
    "# trips on Mondays during July 2017\n",
    "bicimad[\n",
    "    (bicimad[\"year\"] == 2017) &\n",
    "    (bicimad[\"month\"] == 7) &\n",
    "    (bicimad[\"weekday\"] == 0)\n",
    "]"
   ]
  },
  {
   "cell_type": "code",
   "execution_count": 20,
   "metadata": {
    "ExecuteTime": {
     "end_time": "2020-04-04T12:40:35.131614Z",
     "start_time": "2020-04-04T12:40:35.118648Z"
    }
   },
   "outputs": [
    {
     "data": {
      "text/html": [
       "<div>\n",
       "<style scoped>\n",
       "    .dataframe tbody tr th:only-of-type {\n",
       "        vertical-align: middle;\n",
       "    }\n",
       "\n",
       "    .dataframe tbody tr th {\n",
       "        vertical-align: top;\n",
       "    }\n",
       "\n",
       "    .dataframe thead th {\n",
       "        text-align: right;\n",
       "    }\n",
       "</style>\n",
       "<table border=\"1\" class=\"dataframe\">\n",
       "  <thead>\n",
       "    <tr style=\"text-align: right;\">\n",
       "      <th></th>\n",
       "      <th>year_subs_trips</th>\n",
       "      <th>date</th>\n",
       "      <th>weekend</th>\n",
       "    </tr>\n",
       "  </thead>\n",
       "  <tbody>\n",
       "    <tr>\n",
       "      <th>0</th>\n",
       "      <td>17</td>\n",
       "      <td>2014-06-23</td>\n",
       "      <td>0</td>\n",
       "    </tr>\n",
       "    <tr>\n",
       "      <th>1</th>\n",
       "      <td>24</td>\n",
       "      <td>2014-06-24</td>\n",
       "      <td>0</td>\n",
       "    </tr>\n",
       "    <tr>\n",
       "      <th>2</th>\n",
       "      <td>105</td>\n",
       "      <td>2014-06-25</td>\n",
       "      <td>0</td>\n",
       "    </tr>\n",
       "    <tr>\n",
       "      <th>3</th>\n",
       "      <td>120</td>\n",
       "      <td>2014-06-26</td>\n",
       "      <td>0</td>\n",
       "    </tr>\n",
       "    <tr>\n",
       "      <th>4</th>\n",
       "      <td>131</td>\n",
       "      <td>2014-06-27</td>\n",
       "      <td>0</td>\n",
       "    </tr>\n",
       "    <tr>\n",
       "      <th>...</th>\n",
       "      <td>...</td>\n",
       "      <td>...</td>\n",
       "      <td>...</td>\n",
       "    </tr>\n",
       "    <tr>\n",
       "      <th>2013</th>\n",
       "      <td>6387</td>\n",
       "      <td>2019-12-27</td>\n",
       "      <td>0</td>\n",
       "    </tr>\n",
       "    <tr>\n",
       "      <th>2014</th>\n",
       "      <td>5058</td>\n",
       "      <td>2019-12-28</td>\n",
       "      <td>1</td>\n",
       "    </tr>\n",
       "    <tr>\n",
       "      <th>2015</th>\n",
       "      <td>4616</td>\n",
       "      <td>2019-12-29</td>\n",
       "      <td>1</td>\n",
       "    </tr>\n",
       "    <tr>\n",
       "      <th>2016</th>\n",
       "      <td>5772</td>\n",
       "      <td>2019-12-30</td>\n",
       "      <td>0</td>\n",
       "    </tr>\n",
       "    <tr>\n",
       "      <th>2017</th>\n",
       "      <td>5270</td>\n",
       "      <td>2019-12-31</td>\n",
       "      <td>0</td>\n",
       "    </tr>\n",
       "  </tbody>\n",
       "</table>\n",
       "<p>2018 rows × 3 columns</p>\n",
       "</div>"
      ],
      "text/plain": [
       "      year_subs_trips       date  weekend\n",
       "0                  17 2014-06-23        0\n",
       "1                  24 2014-06-24        0\n",
       "2                 105 2014-06-25        0\n",
       "3                 120 2014-06-26        0\n",
       "4                 131 2014-06-27        0\n",
       "...               ...        ...      ...\n",
       "2013             6387 2019-12-27        0\n",
       "2014             5058 2019-12-28        1\n",
       "2015             4616 2019-12-29        1\n",
       "2016             5772 2019-12-30        0\n",
       "2017             5270 2019-12-31        0\n",
       "\n",
       "[2018 rows x 3 columns]"
      ]
     },
     "execution_count": 20,
     "metadata": {},
     "output_type": "execute_result"
    }
   ],
   "source": [
    "# only year_subs_trips, date, weekend\n",
    "# post example\n",
    "\n",
    "bicimad.filter([\"year_subs_trips\", \"date\", \"weekend\"])\n",
    "\n",
    "# bicimad.head()"
   ]
  },
  {
   "cell_type": "markdown",
   "metadata": {},
   "source": [
    "### Filter the data\n",
    "\n",
    "Filter:\n",
    "* between 2015 and 2018\n",
    "* Monday to Thursday\n",
    "* summer"
   ]
  },
  {
   "cell_type": "code",
   "execution_count": 21,
   "metadata": {
    "ExecuteTime": {
     "end_time": "2020-04-04T12:40:35.157248Z",
     "start_time": "2020-04-04T12:40:35.137448Z"
    }
   },
   "outputs": [],
   "source": [
    "# we need a function to extract season from date\n",
    "def get_season(date_to_convert):\n",
    "    \n",
    "    year = date_to_convert.year\n",
    "    \n",
    "    seasons = [\n",
    "        (\"winter\", date(year, 12, 21), date(year, 12, 31)),\n",
    "        (\"summer\", date(year, 6, 21), date(year, 9, 20)),\n",
    "        (\"fall\", date(year, 9, 21), date(year, 12, 20)),\n",
    "        (\"winter\", date(year, 1, 1), date(year, 3, 20)),\n",
    "        (\"spring\", date(year, 3, 21), date(year, 6, 20))\n",
    "    ]\n",
    "    \n",
    "    for season in seasons:\n",
    "        if date_to_convert>=season[1] and date_to_convert<=season[2]:\n",
    "            return season[0]\n",
    "        \n",
    "bicimad[\"season\"] = bicimad[\"date\"].map(get_season)"
   ]
  },
  {
   "cell_type": "code",
   "execution_count": 22,
   "metadata": {
    "ExecuteTime": {
     "end_time": "2020-04-04T12:40:35.171592Z",
     "start_time": "2020-04-04T12:40:35.162732Z"
    }
   },
   "outputs": [
    {
     "data": {
      "text/html": [
       "<div>\n",
       "<style scoped>\n",
       "    .dataframe tbody tr th:only-of-type {\n",
       "        vertical-align: middle;\n",
       "    }\n",
       "\n",
       "    .dataframe tbody tr th {\n",
       "        vertical-align: top;\n",
       "    }\n",
       "\n",
       "    .dataframe thead th {\n",
       "        text-align: right;\n",
       "    }\n",
       "</style>\n",
       "<table border=\"1\" class=\"dataframe\">\n",
       "  <thead>\n",
       "    <tr style=\"text-align: right;\">\n",
       "      <th></th>\n",
       "      <th>date</th>\n",
       "      <th>year_subs_trips</th>\n",
       "      <th>temp_subs_trips</th>\n",
       "      <th>year</th>\n",
       "      <th>month</th>\n",
       "      <th>day</th>\n",
       "      <th>weekday</th>\n",
       "      <th>weekend</th>\n",
       "      <th>weekend_lambda</th>\n",
       "      <th>season</th>\n",
       "    </tr>\n",
       "  </thead>\n",
       "  <tbody>\n",
       "    <tr>\n",
       "      <th>1740</th>\n",
       "      <td>2019-03-29</td>\n",
       "      <td>12201</td>\n",
       "      <td>136</td>\n",
       "      <td>2019</td>\n",
       "      <td>3</td>\n",
       "      <td>29</td>\n",
       "      <td>4</td>\n",
       "      <td>0</td>\n",
       "      <td>0</td>\n",
       "      <td>spring</td>\n",
       "    </tr>\n",
       "    <tr>\n",
       "      <th>414</th>\n",
       "      <td>2015-08-11</td>\n",
       "      <td>8750</td>\n",
       "      <td>191</td>\n",
       "      <td>2015</td>\n",
       "      <td>8</td>\n",
       "      <td>11</td>\n",
       "      <td>1</td>\n",
       "      <td>0</td>\n",
       "      <td>0</td>\n",
       "      <td>summer</td>\n",
       "    </tr>\n",
       "    <tr>\n",
       "      <th>1958</th>\n",
       "      <td>2019-11-02</td>\n",
       "      <td>8203</td>\n",
       "      <td>299</td>\n",
       "      <td>2019</td>\n",
       "      <td>11</td>\n",
       "      <td>2</td>\n",
       "      <td>5</td>\n",
       "      <td>1</td>\n",
       "      <td>1</td>\n",
       "      <td>fall</td>\n",
       "    </tr>\n",
       "    <tr>\n",
       "      <th>1129</th>\n",
       "      <td>2017-07-26</td>\n",
       "      <td>12065</td>\n",
       "      <td>137</td>\n",
       "      <td>2017</td>\n",
       "      <td>7</td>\n",
       "      <td>26</td>\n",
       "      <td>2</td>\n",
       "      <td>0</td>\n",
       "      <td>0</td>\n",
       "      <td>summer</td>\n",
       "    </tr>\n",
       "  </tbody>\n",
       "</table>\n",
       "</div>"
      ],
      "text/plain": [
       "           date  year_subs_trips  temp_subs_trips  year  month  day  weekday  \\\n",
       "1740 2019-03-29            12201              136  2019      3   29        4   \n",
       "414  2015-08-11             8750              191  2015      8   11        1   \n",
       "1958 2019-11-02             8203              299  2019     11    2        5   \n",
       "1129 2017-07-26            12065              137  2017      7   26        2   \n",
       "\n",
       "      weekend  weekend_lambda  season  \n",
       "1740        0               0  spring  \n",
       "414         0               0  summer  \n",
       "1958        1               1    fall  \n",
       "1129        0               0  summer  "
      ]
     },
     "execution_count": 22,
     "metadata": {},
     "output_type": "execute_result"
    }
   ],
   "source": [
    "bicimad.sample(4)  # boom"
   ]
  },
  {
   "cell_type": "code",
   "execution_count": 24,
   "metadata": {
    "ExecuteTime": {
     "end_time": "2020-04-04T12:40:52.185103Z",
     "start_time": "2020-04-04T12:40:52.162304Z"
    }
   },
   "outputs": [
    {
     "data": {
      "text/html": [
       "<div>\n",
       "<style scoped>\n",
       "    .dataframe tbody tr th:only-of-type {\n",
       "        vertical-align: middle;\n",
       "    }\n",
       "\n",
       "    .dataframe tbody tr th {\n",
       "        vertical-align: top;\n",
       "    }\n",
       "\n",
       "    .dataframe thead th {\n",
       "        text-align: right;\n",
       "    }\n",
       "</style>\n",
       "<table border=\"1\" class=\"dataframe\">\n",
       "  <thead>\n",
       "    <tr style=\"text-align: right;\">\n",
       "      <th></th>\n",
       "      <th>date</th>\n",
       "      <th>year_subs_trips</th>\n",
       "      <th>temp_subs_trips</th>\n",
       "      <th>year</th>\n",
       "      <th>month</th>\n",
       "      <th>day</th>\n",
       "      <th>weekday</th>\n",
       "      <th>weekend</th>\n",
       "      <th>weekend_lambda</th>\n",
       "      <th>season</th>\n",
       "    </tr>\n",
       "  </thead>\n",
       "  <tbody>\n",
       "    <tr>\n",
       "      <th>364</th>\n",
       "      <td>2015-06-22</td>\n",
       "      <td>9903</td>\n",
       "      <td>183</td>\n",
       "      <td>2015</td>\n",
       "      <td>6</td>\n",
       "      <td>22</td>\n",
       "      <td>0</td>\n",
       "      <td>0</td>\n",
       "      <td>0</td>\n",
       "      <td>summer</td>\n",
       "    </tr>\n",
       "    <tr>\n",
       "      <th>365</th>\n",
       "      <td>2015-06-23</td>\n",
       "      <td>9334</td>\n",
       "      <td>148</td>\n",
       "      <td>2015</td>\n",
       "      <td>6</td>\n",
       "      <td>23</td>\n",
       "      <td>1</td>\n",
       "      <td>0</td>\n",
       "      <td>0</td>\n",
       "      <td>summer</td>\n",
       "    </tr>\n",
       "    <tr>\n",
       "      <th>366</th>\n",
       "      <td>2015-06-24</td>\n",
       "      <td>11459</td>\n",
       "      <td>179</td>\n",
       "      <td>2015</td>\n",
       "      <td>6</td>\n",
       "      <td>24</td>\n",
       "      <td>2</td>\n",
       "      <td>0</td>\n",
       "      <td>0</td>\n",
       "      <td>summer</td>\n",
       "    </tr>\n",
       "    <tr>\n",
       "      <th>367</th>\n",
       "      <td>2015-06-25</td>\n",
       "      <td>12147</td>\n",
       "      <td>182</td>\n",
       "      <td>2015</td>\n",
       "      <td>6</td>\n",
       "      <td>25</td>\n",
       "      <td>3</td>\n",
       "      <td>0</td>\n",
       "      <td>0</td>\n",
       "      <td>summer</td>\n",
       "    </tr>\n",
       "    <tr>\n",
       "      <th>371</th>\n",
       "      <td>2015-06-29</td>\n",
       "      <td>9721</td>\n",
       "      <td>141</td>\n",
       "      <td>2015</td>\n",
       "      <td>6</td>\n",
       "      <td>29</td>\n",
       "      <td>0</td>\n",
       "      <td>0</td>\n",
       "      <td>0</td>\n",
       "      <td>summer</td>\n",
       "    </tr>\n",
       "    <tr>\n",
       "      <th>...</th>\n",
       "      <td>...</td>\n",
       "      <td>...</td>\n",
       "      <td>...</td>\n",
       "      <td>...</td>\n",
       "      <td>...</td>\n",
       "      <td>...</td>\n",
       "      <td>...</td>\n",
       "      <td>...</td>\n",
       "      <td>...</td>\n",
       "      <td>...</td>\n",
       "    </tr>\n",
       "    <tr>\n",
       "      <th>1543</th>\n",
       "      <td>2018-09-13</td>\n",
       "      <td>16189</td>\n",
       "      <td>196</td>\n",
       "      <td>2018</td>\n",
       "      <td>9</td>\n",
       "      <td>13</td>\n",
       "      <td>3</td>\n",
       "      <td>0</td>\n",
       "      <td>0</td>\n",
       "      <td>summer</td>\n",
       "    </tr>\n",
       "    <tr>\n",
       "      <th>1547</th>\n",
       "      <td>2018-09-17</td>\n",
       "      <td>14316</td>\n",
       "      <td>208</td>\n",
       "      <td>2018</td>\n",
       "      <td>9</td>\n",
       "      <td>17</td>\n",
       "      <td>0</td>\n",
       "      <td>0</td>\n",
       "      <td>0</td>\n",
       "      <td>summer</td>\n",
       "    </tr>\n",
       "    <tr>\n",
       "      <th>1548</th>\n",
       "      <td>2018-09-18</td>\n",
       "      <td>15149</td>\n",
       "      <td>120</td>\n",
       "      <td>2018</td>\n",
       "      <td>9</td>\n",
       "      <td>18</td>\n",
       "      <td>1</td>\n",
       "      <td>0</td>\n",
       "      <td>0</td>\n",
       "      <td>summer</td>\n",
       "    </tr>\n",
       "    <tr>\n",
       "      <th>1549</th>\n",
       "      <td>2018-09-19</td>\n",
       "      <td>16313</td>\n",
       "      <td>140</td>\n",
       "      <td>2018</td>\n",
       "      <td>9</td>\n",
       "      <td>19</td>\n",
       "      <td>2</td>\n",
       "      <td>0</td>\n",
       "      <td>0</td>\n",
       "      <td>summer</td>\n",
       "    </tr>\n",
       "    <tr>\n",
       "      <th>1550</th>\n",
       "      <td>2018-09-20</td>\n",
       "      <td>16529</td>\n",
       "      <td>203</td>\n",
       "      <td>2018</td>\n",
       "      <td>9</td>\n",
       "      <td>20</td>\n",
       "      <td>3</td>\n",
       "      <td>0</td>\n",
       "      <td>0</td>\n",
       "      <td>summer</td>\n",
       "    </tr>\n",
       "  </tbody>\n",
       "</table>\n",
       "<p>211 rows × 10 columns</p>\n",
       "</div>"
      ],
      "text/plain": [
       "           date  year_subs_trips  temp_subs_trips  year  month  day  weekday  \\\n",
       "364  2015-06-22             9903              183  2015      6   22        0   \n",
       "365  2015-06-23             9334              148  2015      6   23        1   \n",
       "366  2015-06-24            11459              179  2015      6   24        2   \n",
       "367  2015-06-25            12147              182  2015      6   25        3   \n",
       "371  2015-06-29             9721              141  2015      6   29        0   \n",
       "...         ...              ...              ...   ...    ...  ...      ...   \n",
       "1543 2018-09-13            16189              196  2018      9   13        3   \n",
       "1547 2018-09-17            14316              208  2018      9   17        0   \n",
       "1548 2018-09-18            15149              120  2018      9   18        1   \n",
       "1549 2018-09-19            16313              140  2018      9   19        2   \n",
       "1550 2018-09-20            16529              203  2018      9   20        3   \n",
       "\n",
       "      weekend  weekend_lambda  season  \n",
       "364         0               0  summer  \n",
       "365         0               0  summer  \n",
       "366         0               0  summer  \n",
       "367         0               0  summer  \n",
       "371         0               0  summer  \n",
       "...       ...             ...     ...  \n",
       "1543        0               0  summer  \n",
       "1547        0               0  summer  \n",
       "1548        0               0  summer  \n",
       "1549        0               0  summer  \n",
       "1550        0               0  summer  \n",
       "\n",
       "[211 rows x 10 columns]"
      ]
     },
     "execution_count": 24,
     "metadata": {},
     "output_type": "execute_result"
    }
   ],
   "source": [
    "# now we can work on our filters\n",
    "\n",
    "year_filter = range(2015, 2019)  # get only trips during 2015, 2016, 2017, 2018\n",
    "weekday_filter = range(4)  # for Fridays\n",
    "season_filter = \"summer\"  # in summer\n",
    "\n",
    "# filter time\n",
    "bicimad[\n",
    "    (bicimad[\"year\"].isin(year_filter)) &\n",
    "    (bicimad[\"weekday\"].isin(weekday_filter)) &\n",
    "    (bicimad[\"season\"]==\"summer\") \n",
    "]"
   ]
  },
  {
   "cell_type": "markdown",
   "metadata": {},
   "source": [
    "### Plots"
   ]
  },
  {
   "cell_type": "markdown",
   "metadata": {},
   "source": [
    "Plotting the distribution of trips during weekends and during Mon-Fri we can see the difference in traffic"
   ]
  },
  {
   "cell_type": "code",
   "execution_count": 25,
   "metadata": {
    "ExecuteTime": {
     "end_time": "2020-04-04T12:40:56.278324Z",
     "start_time": "2020-04-04T12:40:55.749585Z"
    }
   },
   "outputs": [
    {
     "data": {
      "text/plain": [
       "<seaborn.axisgrid.FacetGrid at 0x11cbebe80>"
      ]
     },
     "execution_count": 25,
     "metadata": {},
     "output_type": "execute_result"
    },
    {
     "data": {
      "text/plain": [
       "<Figure size 1080x432 with 0 Axes>"
      ]
     },
     "metadata": {},
     "output_type": "display_data"
    },
    {
     "data": {
      "image/png": "[encoded data removed]",
      "text/plain": [
       "<Figure size 261.75x216 with 1 Axes>"
      ]
     },
     "metadata": {
      "needs_background": "light"
     },
     "output_type": "display_data"
    }
   ],
   "source": [
    "# using seaborn\n",
    "g = sns.FacetGrid(bicimad, hue=\"weekend\")\n",
    "g = g.map(sns.distplot, \"year_subs_trips\")\n",
    "g.add_legend()"
   ]
  },
  {
   "cell_type": "code",
   "execution_count": null,
   "metadata": {},
   "outputs": [],
   "source": []
  }
 ],
 "metadata": {
  "kernelspec": {
   "display_name": "Python (mbd)",
   "language": "python",
   "name": "mbd"
  },
  "language_info": {
   "codemirror_mode": {
    "name": "ipython",
    "version": 3
   },
   "file_extension": ".py",
   "mimetype": "text/x-python",
   "name": "python",
   "nbconvert_exporter": "python",
   "pygments_lexer": "ipython3",
   "version": "3.8.0"
  },
  "toc": {
   "base_numbering": 1,
   "nav_menu": {},
   "number_sections": true,
   "sideBar": true,
   "skip_h1_title": false,
   "title_cell": "Table of Contents",
   "title_sidebar": "Contents",
   "toc_cell": false,
   "toc_position": {},
   "toc_section_display": true,
   "toc_window_display": false
  }
 },
 "nbformat": 4,
 "nbformat_minor": 2
}
