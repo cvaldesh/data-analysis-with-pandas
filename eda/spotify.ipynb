{
 "cells": [
  {
   "cell_type": "markdown",
   "metadata": {},
   "source": [
    "\n",
    "### Imports"
   ]
  },
  {
   "cell_type": "code",
   "execution_count": 1,
   "metadata": {
    "ExecuteTime": {
     "end_time": "2020-03-04T08:10:43.301167Z",
     "start_time": "2020-03-04T08:10:41.772976Z"
    }
   },
   "outputs": [],
   "source": [
    "import pandas as pd\n",
    "import numpy as np\n",
    "from datetime import datetime\n",
    "import json\n",
    "import matplotlib.pyplot as plt\n",
    "import os\n",
    "%matplotlib inline\n"
   ]
  },
  {
   "cell_type": "markdown",
   "metadata": {},
   "source": [
    "### Let's see what's in the folder Spotify sends"
   ]
  },
  {
   "cell_type": "code",
   "execution_count": 2,
   "metadata": {
    "ExecuteTime": {
     "end_time": "2020-03-04T08:11:10.850850Z",
     "start_time": "2020-03-04T08:11:10.844783Z"
    }
   },
   "outputs": [
    {
     "data": {
      "text/plain": [
       "['Follow.json',\n",
       " '.DS_Store',\n",
       " 'StreamingHistory2.json',\n",
       " 'Userdata.json',\n",
       " 'StreamingHistory3.json',\n",
       " 'StreamingHistory0.json',\n",
       " 'YourLibrary.json',\n",
       " 'StreamingHistory1.json',\n",
       " 'madpeople.tsv']"
      ]
     },
     "execution_count": 2,
     "metadata": {},
     "output_type": "execute_result"
    }
   ],
   "source": [
    "spotify_data = \"./spotify_data/\"\n",
    "\n",
    "files = os.listdir(spotify_data)\n",
    "\n",
    "files"
   ]
  },
  {
   "cell_type": "markdown",
   "metadata": {},
   "source": [
    "### JSON reader function"
   ]
  },
  {
   "cell_type": "code",
   "execution_count": 3,
   "metadata": {
    "ExecuteTime": {
     "end_time": "2020-03-04T08:12:14.812285Z",
     "start_time": "2020-03-04T08:12:14.802433Z"
    }
   },
   "outputs": [],
   "source": [
    "def load_json(json_filename):\n",
    "    with open(json_filename, encoding=\"utf8\") as f:\n",
    "        dict_from_json = json.loads(f.read())\n",
    "    return dict_from_json\n",
    "\n",
    "def json_to_df(json_filename):\n",
    "    json_file = load_json(json_filename)\n",
    "    return pd.DataFrame(json_file)"
   ]
  },
  {
   "cell_type": "markdown",
   "metadata": {},
   "source": [
    "### Check that it's my stuff\n",
    "\n",
    "Also define a function to read json files as Python dictionaries"
   ]
  },
  {
   "cell_type": "code",
   "execution_count": 4,
   "metadata": {
    "ExecuteTime": {
     "end_time": "2020-03-04T08:12:19.651840Z",
     "start_time": "2020-03-04T08:12:19.632628Z"
    }
   },
   "outputs": [
    {
     "data": {
      "text/plain": [
       "{'username': 'dgarhdez',\n",
       " 'email': 'dgarhdez@gmail.com',\n",
       " 'country': 'ES',\n",
       " 'createdFromFacebook': False,\n",
       " 'facebookUid': None,\n",
       " 'birthdate': '1987-12-17',\n",
       " 'gender': 'male',\n",
       " 'postalCode': '28729',\n",
       " 'mobileNumber': None,\n",
       " 'mobileOperator': None,\n",
       " 'mobileBrand': None,\n",
       " 'creationTime': '2009-05-26'}"
      ]
     },
     "execution_count": 4,
     "metadata": {},
     "output_type": "execute_result"
    }
   ],
   "source": [
    "userdata = load_json(spotify_data + \"Userdata.json\")\n",
    "\n",
    "userdata"
   ]
  },
  {
   "cell_type": "markdown",
   "metadata": {},
   "source": [
    "### Load streaming history as a single dataframe"
   ]
  },
  {
   "cell_type": "code",
   "execution_count": 5,
   "metadata": {
    "ExecuteTime": {
     "end_time": "2020-03-04T08:16:23.592623Z",
     "start_time": "2020-03-04T08:16:23.586679Z"
    }
   },
   "outputs": [
    {
     "data": {
      "text/plain": [
       "['StreamingHistory2.json',\n",
       " 'StreamingHistory3.json',\n",
       " 'StreamingHistory0.json',\n",
       " 'StreamingHistory1.json']"
      ]
     },
     "execution_count": 5,
     "metadata": {},
     "output_type": "execute_result"
    }
   ],
   "source": [
    "# create a list of my streaming history files\n",
    "streaming_history = [file for file in files if \"StreamingHistory\" in file]\n",
    "\n",
    "streaming_history"
   ]
  },
  {
   "cell_type": "code",
   "execution_count": 17,
   "metadata": {
    "ExecuteTime": {
     "end_time": "2020-03-04T08:28:34.191620Z",
     "start_time": "2020-03-04T08:28:34.060107Z"
    }
   },
   "outputs": [
    {
     "data": {
      "text/html": [
       "<div>\n",
       "<style scoped>\n",
       "    .dataframe tbody tr th:only-of-type {\n",
       "        vertical-align: middle;\n",
       "    }\n",
       "\n",
       "    .dataframe tbody tr th {\n",
       "        vertical-align: top;\n",
       "    }\n",
       "\n",
       "    .dataframe thead th {\n",
       "        text-align: right;\n",
       "    }\n",
       "</style>\n",
       "<table border=\"1\" class=\"dataframe\">\n",
       "  <thead>\n",
       "    <tr style=\"text-align: right;\">\n",
       "      <th></th>\n",
       "      <th>endTime</th>\n",
       "      <th>artistName</th>\n",
       "      <th>trackName</th>\n",
       "      <th>msPlayed</th>\n",
       "    </tr>\n",
       "  </thead>\n",
       "  <tbody>\n",
       "    <tr>\n",
       "      <th>0</th>\n",
       "      <td>2018-12-29 13:29</td>\n",
       "      <td>Jeff Buckley</td>\n",
       "      <td>Everybody Here Wants You</td>\n",
       "      <td>195299</td>\n",
       "    </tr>\n",
       "    <tr>\n",
       "      <th>1</th>\n",
       "      <td>2018-12-29 13:33</td>\n",
       "      <td>Future Islands</td>\n",
       "      <td>Time On Her Side</td>\n",
       "      <td>218506</td>\n",
       "    </tr>\n",
       "    <tr>\n",
       "      <th>2</th>\n",
       "      <td>2018-12-29 13:35</td>\n",
       "      <td>The Whitest Boy Alive</td>\n",
       "      <td>Burning</td>\n",
       "      <td>144044</td>\n",
       "    </tr>\n",
       "    <tr>\n",
       "      <th>3</th>\n",
       "      <td>2018-12-29 13:36</td>\n",
       "      <td>The Whitest Boy Alive</td>\n",
       "      <td>Burning</td>\n",
       "      <td>47144</td>\n",
       "    </tr>\n",
       "    <tr>\n",
       "      <th>4</th>\n",
       "      <td>2018-12-29 13:41</td>\n",
       "      <td>Cut Copy</td>\n",
       "      <td>Take Me Over</td>\n",
       "      <td>248289</td>\n",
       "    </tr>\n",
       "    <tr>\n",
       "      <th>...</th>\n",
       "      <td>...</td>\n",
       "      <td>...</td>\n",
       "      <td>...</td>\n",
       "      <td>...</td>\n",
       "    </tr>\n",
       "    <tr>\n",
       "      <th>30161</th>\n",
       "      <td>2019-12-29 12:47</td>\n",
       "      <td>El Palacio de Linares</td>\n",
       "      <td>Ciervo y Erizo</td>\n",
       "      <td>149266</td>\n",
       "    </tr>\n",
       "    <tr>\n",
       "      <th>30162</th>\n",
       "      <td>2019-12-29 12:48</td>\n",
       "      <td>Los Chikos del Maiz</td>\n",
       "      <td>Grupo Salvaje</td>\n",
       "      <td>19772</td>\n",
       "    </tr>\n",
       "    <tr>\n",
       "      <th>30163</th>\n",
       "      <td>2019-12-29 13:00</td>\n",
       "      <td>Los Chikos del Maiz</td>\n",
       "      <td>Grupo Salvaje</td>\n",
       "      <td>169087</td>\n",
       "    </tr>\n",
       "    <tr>\n",
       "      <th>30164</th>\n",
       "      <td>2019-12-29 13:03</td>\n",
       "      <td>John Grant</td>\n",
       "      <td>GMF</td>\n",
       "      <td>181394</td>\n",
       "    </tr>\n",
       "    <tr>\n",
       "      <th>30165</th>\n",
       "      <td>2019-12-29 13:05</td>\n",
       "      <td>Cecilio G.</td>\n",
       "      <td>Million Dollar Baby</td>\n",
       "      <td>119048</td>\n",
       "    </tr>\n",
       "  </tbody>\n",
       "</table>\n",
       "<p>30166 rows × 4 columns</p>\n",
       "</div>"
      ],
      "text/plain": [
       "                endTime             artistName                 trackName  \\\n",
       "0      2018-12-29 13:29           Jeff Buckley  Everybody Here Wants You   \n",
       "1      2018-12-29 13:33         Future Islands          Time On Her Side   \n",
       "2      2018-12-29 13:35  The Whitest Boy Alive                   Burning   \n",
       "3      2018-12-29 13:36  The Whitest Boy Alive                   Burning   \n",
       "4      2018-12-29 13:41               Cut Copy              Take Me Over   \n",
       "...                 ...                    ...                       ...   \n",
       "30161  2019-12-29 12:47  El Palacio de Linares            Ciervo y Erizo   \n",
       "30162  2019-12-29 12:48    Los Chikos del Maiz             Grupo Salvaje   \n",
       "30163  2019-12-29 13:00    Los Chikos del Maiz             Grupo Salvaje   \n",
       "30164  2019-12-29 13:03             John Grant                       GMF   \n",
       "30165  2019-12-29 13:05             Cecilio G.       Million Dollar Baby   \n",
       "\n",
       "       msPlayed  \n",
       "0        195299  \n",
       "1        218506  \n",
       "2        144044  \n",
       "3         47144  \n",
       "4        248289  \n",
       "...         ...  \n",
       "30161    149266  \n",
       "30162     19772  \n",
       "30163    169087  \n",
       "30164    181394  \n",
       "30165    119048  \n",
       "\n",
       "[30166 rows x 4 columns]"
      ]
     },
     "execution_count": 17,
     "metadata": {},
     "output_type": "execute_result"
    }
   ],
   "source": [
    "# load each file as dataframe and then concat\n",
    "list_df = []\n",
    "\n",
    "# loop through list of streaming_history files\n",
    "# save each created dataframe in list\n",
    "for item in streaming_history:\n",
    "    item_dict = load_json(spotify_data + item)\n",
    "    item_df = pd.DataFrame(item_dict)\n",
    "    list_df.append(item_df)\n",
    "\n",
    "# concat list plus some sorting and rearranging\n",
    "df_history = (\n",
    "    pd\n",
    "    .concat(list_df)  \n",
    "    .sort_values(by=\"endTime\")\n",
    "    .reset_index(drop=True)\n",
    ")\n",
    "\n",
    "df_history"
   ]
  },
  {
   "cell_type": "code",
   "execution_count": 8,
   "metadata": {
    "ExecuteTime": {
     "end_time": "2020-03-04T08:22:23.706647Z",
     "start_time": "2020-03-04T08:22:23.700599Z"
    }
   },
   "outputs": [
    {
     "data": {
      "text/plain": [
       "endTime       object\n",
       "artistName    object\n",
       "trackName     object\n",
       "msPlayed       int64\n",
       "dtype: object"
      ]
     },
     "execution_count": 8,
     "metadata": {},
     "output_type": "execute_result"
    }
   ],
   "source": [
    "df_history.dtypes"
   ]
  },
  {
   "cell_type": "code",
   "execution_count": 9,
   "metadata": {
    "ExecuteTime": {
     "end_time": "2020-03-04T08:23:23.622515Z",
     "start_time": "2020-03-04T08:23:23.594127Z"
    }
   },
   "outputs": [
    {
     "data": {
      "text/html": [
       "<div>\n",
       "<style scoped>\n",
       "    .dataframe tbody tr th:only-of-type {\n",
       "        vertical-align: middle;\n",
       "    }\n",
       "\n",
       "    .dataframe tbody tr th {\n",
       "        vertical-align: top;\n",
       "    }\n",
       "\n",
       "    .dataframe thead th {\n",
       "        text-align: right;\n",
       "    }\n",
       "</style>\n",
       "<table border=\"1\" class=\"dataframe\">\n",
       "  <thead>\n",
       "    <tr style=\"text-align: right;\">\n",
       "      <th></th>\n",
       "      <th>msPlayed</th>\n",
       "    </tr>\n",
       "  </thead>\n",
       "  <tbody>\n",
       "    <tr>\n",
       "      <th>count</th>\n",
       "      <td>3.016600e+04</td>\n",
       "    </tr>\n",
       "    <tr>\n",
       "      <th>mean</th>\n",
       "      <td>1.480600e+05</td>\n",
       "    </tr>\n",
       "    <tr>\n",
       "      <th>std</th>\n",
       "      <td>1.085951e+05</td>\n",
       "    </tr>\n",
       "    <tr>\n",
       "      <th>min</th>\n",
       "      <td>0.000000e+00</td>\n",
       "    </tr>\n",
       "    <tr>\n",
       "      <th>25%</th>\n",
       "      <td>5.009600e+04</td>\n",
       "    </tr>\n",
       "    <tr>\n",
       "      <th>50%</th>\n",
       "      <td>1.528260e+05</td>\n",
       "    </tr>\n",
       "    <tr>\n",
       "      <th>75%</th>\n",
       "      <td>2.198798e+05</td>\n",
       "    </tr>\n",
       "    <tr>\n",
       "      <th>max</th>\n",
       "      <td>1.812570e+06</td>\n",
       "    </tr>\n",
       "  </tbody>\n",
       "</table>\n",
       "</div>"
      ],
      "text/plain": [
       "           msPlayed\n",
       "count  3.016600e+04\n",
       "mean   1.480600e+05\n",
       "std    1.085951e+05\n",
       "min    0.000000e+00\n",
       "25%    5.009600e+04\n",
       "50%    1.528260e+05\n",
       "75%    2.198798e+05\n",
       "max    1.812570e+06"
      ]
     },
     "execution_count": 9,
     "metadata": {},
     "output_type": "execute_result"
    }
   ],
   "source": [
    "df_history.describe()"
   ]
  },
  {
   "cell_type": "code",
   "execution_count": 10,
   "metadata": {
    "ExecuteTime": {
     "end_time": "2020-03-04T08:23:43.352627Z",
     "start_time": "2020-03-04T08:23:43.345003Z"
    }
   },
   "outputs": [
    {
     "data": {
      "text/plain": [
       "(30166, 4)"
      ]
     },
     "execution_count": 10,
     "metadata": {},
     "output_type": "execute_result"
    }
   ],
   "source": [
    "df_history.shape"
   ]
  },
  {
   "cell_type": "code",
   "execution_count": 13,
   "metadata": {
    "ExecuteTime": {
     "end_time": "2020-03-04T08:24:25.914564Z",
     "start_time": "2020-03-04T08:24:25.903436Z"
    }
   },
   "outputs": [
    {
     "data": {
      "text/plain": [
       "endTime       0.0\n",
       "artistName    0.0\n",
       "trackName     0.0\n",
       "msPlayed      0.0\n",
       "dtype: float64"
      ]
     },
     "execution_count": 13,
     "metadata": {},
     "output_type": "execute_result"
    }
   ],
   "source": [
    "# check for missing values\n",
    "df_history.isnull().mean()"
   ]
  },
  {
   "cell_type": "markdown",
   "metadata": {},
   "source": [
    "### Work on endTime column and create more time-related variables"
   ]
  },
  {
   "cell_type": "code",
   "execution_count": 14,
   "metadata": {
    "ExecuteTime": {
     "end_time": "2020-03-04T08:25:59.150401Z",
     "start_time": "2020-03-04T08:25:59.133480Z"
    }
   },
   "outputs": [
    {
     "data": {
      "text/html": [
       "<div>\n",
       "<style scoped>\n",
       "    .dataframe tbody tr th:only-of-type {\n",
       "        vertical-align: middle;\n",
       "    }\n",
       "\n",
       "    .dataframe tbody tr th {\n",
       "        vertical-align: top;\n",
       "    }\n",
       "\n",
       "    .dataframe thead th {\n",
       "        text-align: right;\n",
       "    }\n",
       "</style>\n",
       "<table border=\"1\" class=\"dataframe\">\n",
       "  <thead>\n",
       "    <tr style=\"text-align: right;\">\n",
       "      <th></th>\n",
       "      <th>endTime</th>\n",
       "      <th>artistName</th>\n",
       "      <th>trackName</th>\n",
       "      <th>msPlayed</th>\n",
       "    </tr>\n",
       "  </thead>\n",
       "  <tbody>\n",
       "    <tr>\n",
       "      <th>30165</th>\n",
       "      <td>2019-12-29 13:05</td>\n",
       "      <td>Cecilio G.</td>\n",
       "      <td>Million Dollar Baby</td>\n",
       "      <td>119048</td>\n",
       "    </tr>\n",
       "  </tbody>\n",
       "</table>\n",
       "</div>"
      ],
      "text/plain": [
       "                endTime  artistName            trackName  msPlayed\n",
       "30165  2019-12-29 13:05  Cecilio G.  Million Dollar Baby    119048"
      ]
     },
     "execution_count": 14,
     "metadata": {},
     "output_type": "execute_result"
    }
   ],
   "source": [
    "df_history.tail(1)"
   ]
  },
  {
   "cell_type": "code",
   "execution_count": 19,
   "metadata": {
    "ExecuteTime": {
     "end_time": "2020-03-04T08:29:53.053712Z",
     "start_time": "2020-03-04T08:29:52.398597Z"
    }
   },
   "outputs": [
    {
     "data": {
      "text/html": [
       "<div>\n",
       "<style scoped>\n",
       "    .dataframe tbody tr th:only-of-type {\n",
       "        vertical-align: middle;\n",
       "    }\n",
       "\n",
       "    .dataframe tbody tr th {\n",
       "        vertical-align: top;\n",
       "    }\n",
       "\n",
       "    .dataframe thead th {\n",
       "        text-align: right;\n",
       "    }\n",
       "</style>\n",
       "<table border=\"1\" class=\"dataframe\">\n",
       "  <thead>\n",
       "    <tr style=\"text-align: right;\">\n",
       "      <th></th>\n",
       "      <th>endTime</th>\n",
       "      <th>artistName</th>\n",
       "      <th>trackName</th>\n",
       "      <th>msPlayed</th>\n",
       "      <th>sec_played</th>\n",
       "      <th>sec_played_td</th>\n",
       "      <th>start_time</th>\n",
       "      <th>year</th>\n",
       "      <th>month</th>\n",
       "      <th>year_month</th>\n",
       "      <th>day</th>\n",
       "      <th>hour</th>\n",
       "      <th>weekday</th>\n",
       "      <th>weekend</th>\n",
       "    </tr>\n",
       "  </thead>\n",
       "  <tbody>\n",
       "    <tr>\n",
       "      <th>5516</th>\n",
       "      <td>2019-02-21 21:18:00</td>\n",
       "      <td>Bahamas</td>\n",
       "      <td>Be My Witness</td>\n",
       "      <td>64910</td>\n",
       "      <td>65</td>\n",
       "      <td>00:01:05</td>\n",
       "      <td>2019-02-21 21:16:55</td>\n",
       "      <td>2019</td>\n",
       "      <td>2</td>\n",
       "      <td>2019_02</td>\n",
       "      <td>21</td>\n",
       "      <td>21</td>\n",
       "      <td>3</td>\n",
       "      <td>0</td>\n",
       "    </tr>\n",
       "    <tr>\n",
       "      <th>22717</th>\n",
       "      <td>2019-09-18 14:16:00</td>\n",
       "      <td>Matt Quentin</td>\n",
       "      <td>Home</td>\n",
       "      <td>208695</td>\n",
       "      <td>209</td>\n",
       "      <td>00:03:29</td>\n",
       "      <td>2019-09-18 14:12:31</td>\n",
       "      <td>2019</td>\n",
       "      <td>9</td>\n",
       "      <td>2019_09</td>\n",
       "      <td>18</td>\n",
       "      <td>14</td>\n",
       "      <td>2</td>\n",
       "      <td>0</td>\n",
       "    </tr>\n",
       "    <tr>\n",
       "      <th>14441</th>\n",
       "      <td>2019-06-12 15:58:00</td>\n",
       "      <td>The xx</td>\n",
       "      <td>Intro</td>\n",
       "      <td>0</td>\n",
       "      <td>1</td>\n",
       "      <td>00:00:01</td>\n",
       "      <td>2019-06-12 15:57:59</td>\n",
       "      <td>2019</td>\n",
       "      <td>6</td>\n",
       "      <td>2019_06</td>\n",
       "      <td>12</td>\n",
       "      <td>15</td>\n",
       "      <td>2</td>\n",
       "      <td>0</td>\n",
       "    </tr>\n",
       "    <tr>\n",
       "      <th>25961</th>\n",
       "      <td>2019-10-29 13:35:00</td>\n",
       "      <td>Kanye West</td>\n",
       "      <td>Hands On</td>\n",
       "      <td>203174</td>\n",
       "      <td>203</td>\n",
       "      <td>00:03:23</td>\n",
       "      <td>2019-10-29 13:31:37</td>\n",
       "      <td>2019</td>\n",
       "      <td>10</td>\n",
       "      <td>2019_10</td>\n",
       "      <td>29</td>\n",
       "      <td>13</td>\n",
       "      <td>1</td>\n",
       "      <td>0</td>\n",
       "    </tr>\n",
       "    <tr>\n",
       "      <th>19536</th>\n",
       "      <td>2019-07-30 13:54:00</td>\n",
       "      <td>tajima hal</td>\n",
       "      <td>Grape Choice</td>\n",
       "      <td>139853</td>\n",
       "      <td>140</td>\n",
       "      <td>00:02:20</td>\n",
       "      <td>2019-07-30 13:51:40</td>\n",
       "      <td>2019</td>\n",
       "      <td>7</td>\n",
       "      <td>2019_07</td>\n",
       "      <td>30</td>\n",
       "      <td>13</td>\n",
       "      <td>1</td>\n",
       "      <td>0</td>\n",
       "    </tr>\n",
       "  </tbody>\n",
       "</table>\n",
       "</div>"
      ],
      "text/plain": [
       "                  endTime    artistName      trackName  msPlayed  sec_played  \\\n",
       "5516  2019-02-21 21:18:00       Bahamas  Be My Witness     64910          65   \n",
       "22717 2019-09-18 14:16:00  Matt Quentin           Home    208695         209   \n",
       "14441 2019-06-12 15:58:00        The xx          Intro         0           1   \n",
       "25961 2019-10-29 13:35:00    Kanye West       Hands On    203174         203   \n",
       "19536 2019-07-30 13:54:00    tajima hal   Grape Choice    139853         140   \n",
       "\n",
       "      sec_played_td          start_time  year  month year_month  day  hour  \\\n",
       "5516       00:01:05 2019-02-21 21:16:55  2019      2    2019_02   21    21   \n",
       "22717      00:03:29 2019-09-18 14:12:31  2019      9    2019_09   18    14   \n",
       "14441      00:00:01 2019-06-12 15:57:59  2019      6    2019_06   12    15   \n",
       "25961      00:03:23 2019-10-29 13:31:37  2019     10    2019_10   29    13   \n",
       "19536      00:02:20 2019-07-30 13:51:40  2019      7    2019_07   30    13   \n",
       "\n",
       "       weekday  weekend  \n",
       "5516         3        0  \n",
       "22717        2        0  \n",
       "14441        2        0  \n",
       "25961        1        0  \n",
       "19536        1        0  "
      ]
     },
     "execution_count": 19,
     "metadata": {},
     "output_type": "execute_result"
    }
   ],
   "source": [
    "# convert msPlayed to seconds\n",
    "df_history[\"sec_played\"] = np.where(\n",
    "    df_history[\"msPlayed\"]>=1000,\n",
    "    np.round(df_history[\"msPlayed\"] / 1000, 0).astype(int),\n",
    "    1\n",
    ")\n",
    "\n",
    "# convert seconds to timedelta\n",
    "df_history[\"sec_played_td\"] = [\n",
    "    pd.Timedelta(seconds=sec) for sec in df_history[\"sec_played\"]\n",
    "]\n",
    "\n",
    "# convert endTime to datetime object\n",
    "df_history[\"endTime\"] = pd.to_datetime(df_history[\"endTime\"])\n",
    "\n",
    "# substract sec_played to endTime to calculate start_time\n",
    "df_history[\"start_time\"] = (\n",
    "    df_history[\"endTime\"] - df_history[\"sec_played_td\"]\n",
    ")\n",
    "\n",
    "# time-related features\n",
    "df_history[\"year\"] = df_history[\"start_time\"].dt.year\n",
    "df_history[\"month\"] = df_history[\"start_time\"].dt.month\n",
    "df_history[\"year_month\"] = df_history[\"start_time\"].dt.strftime('%Y_%m')\n",
    "df_history[\"day\"] = df_history[\"start_time\"].dt.day\n",
    "df_history[\"hour\"] = df_history[\"start_time\"].dt.hour\n",
    "df_history[\"weekday\"] = df_history[\"start_time\"].dt.weekday\n",
    "df_history[\"weekend\"] = df_history[\"weekday\"].map(lambda x: 1*(x>4))\n",
    "\n",
    "df_history.sample(5)"
   ]
  },
  {
   "cell_type": "markdown",
   "metadata": {},
   "source": [
    "### Most played band, most played song"
   ]
  },
  {
   "cell_type": "code",
   "execution_count": 23,
   "metadata": {
    "ExecuteTime": {
     "end_time": "2020-03-04T08:34:15.809793Z",
     "start_time": "2020-03-04T08:34:15.788743Z"
    }
   },
   "outputs": [
    {
     "data": {
      "text/plain": [
       "Jens Lekman                1185\n",
       "Los Ganglios                882\n",
       "Carolina Durante            780\n",
       "Rusos Blancos               776\n",
       "Los Chikos del Maiz         655\n",
       "                           ... \n",
       "Fennesz                       1\n",
       "T.I.                          1\n",
       "Extra Golden                  1\n",
       "Vieja Trova Santiaguera       1\n",
       "Sexy Sadie                    1\n",
       "Name: artistName, Length: 1927, dtype: int64"
      ]
     },
     "execution_count": 23,
     "metadata": {},
     "output_type": "execute_result"
    }
   ],
   "source": [
    "# value_counts returns a ordered series including the count for each category in a categorical feature\n",
    "\n",
    "# most listened bands\n",
    "df_history[\"artistName\"].value_counts()"
   ]
  },
  {
   "cell_type": "code",
   "execution_count": 21,
   "metadata": {
    "ExecuteTime": {
     "end_time": "2020-03-04T08:31:42.888463Z",
     "start_time": "2020-03-04T08:31:42.866678Z"
    }
   },
   "outputs": [
    {
     "data": {
      "text/plain": [
       "No Sabes Mentir                       123\n",
       "Libreros                              114\n",
       "Llorando en la Limo (feat. Alizzz)    112\n",
       "Llorando En La Limo                   105\n",
       "Cariño                                 92\n",
       "                                     ... \n",
       "Weirdweek                               1\n",
       "Vámonos                                 1\n",
       "Walden                                  1\n",
       "P.S. You Rock My World                  1\n",
       "Un Día Épico                            1\n",
       "Name: trackName, Length: 7664, dtype: int64"
      ]
     },
     "execution_count": 21,
     "metadata": {},
     "output_type": "execute_result"
    }
   ],
   "source": [
    "# most listened songs\n",
    "df_history[\"trackName\"].value_counts()"
   ]
  },
  {
   "cell_type": "markdown",
   "metadata": {},
   "source": [
    "### When do I usually listen to music? "
   ]
  },
  {
   "cell_type": "code",
   "execution_count": 25,
   "metadata": {
    "ExecuteTime": {
     "end_time": "2020-03-04T08:35:47.922391Z",
     "start_time": "2020-03-04T08:35:47.893763Z"
    }
   },
   "outputs": [
    {
     "data": {
      "text/html": [
       "<div>\n",
       "<style scoped>\n",
       "    .dataframe tbody tr th:only-of-type {\n",
       "        vertical-align: middle;\n",
       "    }\n",
       "\n",
       "    .dataframe tbody tr th {\n",
       "        vertical-align: top;\n",
       "    }\n",
       "\n",
       "    .dataframe thead th {\n",
       "        text-align: right;\n",
       "    }\n",
       "</style>\n",
       "<table border=\"1\" class=\"dataframe\">\n",
       "  <thead>\n",
       "    <tr style=\"text-align: right;\">\n",
       "      <th></th>\n",
       "      <th>total_songs</th>\n",
       "    </tr>\n",
       "    <tr>\n",
       "      <th>hour</th>\n",
       "      <th></th>\n",
       "    </tr>\n",
       "  </thead>\n",
       "  <tbody>\n",
       "    <tr>\n",
       "      <th>0</th>\n",
       "      <td>155</td>\n",
       "    </tr>\n",
       "    <tr>\n",
       "      <th>1</th>\n",
       "      <td>124</td>\n",
       "    </tr>\n",
       "    <tr>\n",
       "      <th>2</th>\n",
       "      <td>105</td>\n",
       "    </tr>\n",
       "    <tr>\n",
       "      <th>3</th>\n",
       "      <td>113</td>\n",
       "    </tr>\n",
       "    <tr>\n",
       "      <th>4</th>\n",
       "      <td>128</td>\n",
       "    </tr>\n",
       "    <tr>\n",
       "      <th>5</th>\n",
       "      <td>161</td>\n",
       "    </tr>\n",
       "    <tr>\n",
       "      <th>6</th>\n",
       "      <td>1547</td>\n",
       "    </tr>\n",
       "    <tr>\n",
       "      <th>7</th>\n",
       "      <td>2130</td>\n",
       "    </tr>\n",
       "    <tr>\n",
       "      <th>8</th>\n",
       "      <td>1913</td>\n",
       "    </tr>\n",
       "    <tr>\n",
       "      <th>9</th>\n",
       "      <td>2331</td>\n",
       "    </tr>\n",
       "    <tr>\n",
       "      <th>10</th>\n",
       "      <td>2453</td>\n",
       "    </tr>\n",
       "    <tr>\n",
       "      <th>11</th>\n",
       "      <td>2184</td>\n",
       "    </tr>\n",
       "    <tr>\n",
       "      <th>12</th>\n",
       "      <td>1594</td>\n",
       "    </tr>\n",
       "    <tr>\n",
       "      <th>13</th>\n",
       "      <td>1290</td>\n",
       "    </tr>\n",
       "    <tr>\n",
       "      <th>14</th>\n",
       "      <td>2000</td>\n",
       "    </tr>\n",
       "    <tr>\n",
       "      <th>15</th>\n",
       "      <td>2250</td>\n",
       "    </tr>\n",
       "    <tr>\n",
       "      <th>16</th>\n",
       "      <td>2916</td>\n",
       "    </tr>\n",
       "    <tr>\n",
       "      <th>17</th>\n",
       "      <td>2422</td>\n",
       "    </tr>\n",
       "    <tr>\n",
       "      <th>18</th>\n",
       "      <td>1638</td>\n",
       "    </tr>\n",
       "    <tr>\n",
       "      <th>19</th>\n",
       "      <td>773</td>\n",
       "    </tr>\n",
       "    <tr>\n",
       "      <th>20</th>\n",
       "      <td>542</td>\n",
       "    </tr>\n",
       "    <tr>\n",
       "      <th>21</th>\n",
       "      <td>670</td>\n",
       "    </tr>\n",
       "    <tr>\n",
       "      <th>22</th>\n",
       "      <td>440</td>\n",
       "    </tr>\n",
       "    <tr>\n",
       "      <th>23</th>\n",
       "      <td>287</td>\n",
       "    </tr>\n",
       "  </tbody>\n",
       "</table>\n",
       "</div>"
      ],
      "text/plain": [
       "      total_songs\n",
       "hour             \n",
       "0             155\n",
       "1             124\n",
       "2             105\n",
       "3             113\n",
       "4             128\n",
       "5             161\n",
       "6            1547\n",
       "7            2130\n",
       "8            1913\n",
       "9            2331\n",
       "10           2453\n",
       "11           2184\n",
       "12           1594\n",
       "13           1290\n",
       "14           2000\n",
       "15           2250\n",
       "16           2916\n",
       "17           2422\n",
       "18           1638\n",
       "19            773\n",
       "20            542\n",
       "21            670\n",
       "22            440\n",
       "23            287"
      ]
     },
     "execution_count": 25,
     "metadata": {},
     "output_type": "execute_result"
    }
   ],
   "source": [
    "songs_per_hour = (\n",
    "    df_history\n",
    "    .groupby(\"hour\")\n",
    "    .count()\n",
    "    [[\"artistName\"]]\n",
    "    .rename(columns={\"artistName\": \"total_songs\"})\n",
    ")\n",
    "\n",
    "songs_per_hour"
   ]
  },
  {
   "cell_type": "code",
   "execution_count": 26,
   "metadata": {
    "ExecuteTime": {
     "end_time": "2020-03-04T08:36:57.795804Z",
     "start_time": "2020-03-04T08:36:57.495104Z"
    }
   },
   "outputs": [
    {
     "data": {
      "image/png": "[encoded data removed]",
      "text/plain": [
       "<Figure size 1080x432 with 1 Axes>"
      ]
     },
     "metadata": {
      "needs_background": "light"
     },
     "output_type": "display_data"
    }
   ],
   "source": [
    "plt.figure(figsize=(15,6))\n",
    "plt.plot(songs_per_hour.index, songs_per_hour[\"total_songs\"])\n",
    "plt.show()"
   ]
  },
  {
   "cell_type": "code",
   "execution_count": 27,
   "metadata": {
    "ExecuteTime": {
     "end_time": "2020-03-04T08:43:38.229916Z",
     "start_time": "2020-03-04T08:43:37.934139Z"
    }
   },
   "outputs": [
    {
     "data": {
      "image/png": "[encoded data removed]",
      "text/plain": [
       "<Figure size 1080x432 with 1 Axes>"
      ]
     },
     "metadata": {
      "needs_background": "light"
     },
     "output_type": "display_data"
    }
   ],
   "source": [
    "# weekdays vs weekends\n",
    "songs_not_weekend = (\n",
    "    df_history\n",
    "    .query(\"weekend == 0\")\n",
    "    .groupby(\"hour\")\n",
    "    .count()\n",
    "    [[\"endTime\"]]\n",
    "    .rename(columns={\"endTime\": \"total_songs\"})\n",
    ")\n",
    "\n",
    "songs_weekends = (\n",
    "    df_history\n",
    "    .query(\"weekend == 1\")\n",
    "    .groupby(\"hour\")\n",
    "    .count()\n",
    "    [[\"endTime\"]]\n",
    "    .rename(columns={\"endTime\": \"total_songs\"})\n",
    ")\n",
    "\n",
    "plt.figure(figsize=(15,6))\n",
    "plt.plot(songs_not_weekend.index,\n",
    "         songs_not_weekend[\"total_songs\"], \n",
    "         label=\"not weekend\")  # labels are custom\n",
    "plt.plot(songs_weekends.index, \n",
    "         songs_weekends[\"total_songs\"], \n",
    "         label=\"weekends\")\n",
    "plt.legend(fontsize=16)\n",
    "plt.show()"
   ]
  },
  {
   "cell_type": "code",
   "execution_count": 39,
   "metadata": {
    "ExecuteTime": {
     "end_time": "2020-03-03T11:54:32.344722Z",
     "start_time": "2020-03-03T11:54:31.974750Z"
    }
   },
   "outputs": [
    {
     "data": {
      "image/png": "[encoded data removed]",
      "text/plain": [
       "<Figure size 1080x432 with 1 Axes>"
      ]
     },
     "metadata": {
      "needs_background": "light"
     },
     "output_type": "display_data"
    }
   ],
   "source": [
    "# per hour and per day of the week\n",
    "\n",
    "plt.figure(figsize=(15,6))\n",
    "\n",
    "for wkday in df_history[\"weekday\"].unique():\n",
    "    songs_weekday = (\n",
    "        df_history\n",
    "        .query(\"weekday == @wkday\")\n",
    "        .groupby(\"hour\")\n",
    "        .count()\n",
    "        [[\"endTime\"]]\n",
    "        .rename(columns={\"endTime\": \"total_songs\"})  \n",
    "    )\n",
    "    \n",
    "    plt.plot(songs_weekday.index,\n",
    "             songs_weekday[\"total_songs\"],\n",
    "             label=wkday)\n",
    "\n",
    "plt.legend(fontsize=16)\n",
    "plt.show()"
   ]
  },
  {
   "cell_type": "code",
   "execution_count": 28,
   "metadata": {
    "ExecuteTime": {
     "end_time": "2020-03-04T09:13:12.055911Z",
     "start_time": "2020-03-04T09:13:12.012429Z"
    }
   },
   "outputs": [
    {
     "data": {
      "text/html": [
       "<div>\n",
       "<style scoped>\n",
       "    .dataframe tbody tr th:only-of-type {\n",
       "        vertical-align: middle;\n",
       "    }\n",
       "\n",
       "    .dataframe tbody tr th {\n",
       "        vertical-align: top;\n",
       "    }\n",
       "\n",
       "    .dataframe thead th {\n",
       "        text-align: right;\n",
       "    }\n",
       "</style>\n",
       "<table border=\"1\" class=\"dataframe\">\n",
       "  <thead>\n",
       "    <tr style=\"text-align: right;\">\n",
       "      <th></th>\n",
       "      <th>endTime</th>\n",
       "      <th>artistName</th>\n",
       "      <th>trackName</th>\n",
       "      <th>msPlayed</th>\n",
       "      <th>sec_played</th>\n",
       "      <th>sec_played_td</th>\n",
       "      <th>start_time</th>\n",
       "      <th>year</th>\n",
       "      <th>month</th>\n",
       "      <th>year_month</th>\n",
       "      <th>day</th>\n",
       "      <th>hour</th>\n",
       "      <th>weekday</th>\n",
       "      <th>weekend</th>\n",
       "      <th>day_period</th>\n",
       "    </tr>\n",
       "  </thead>\n",
       "  <tbody>\n",
       "    <tr>\n",
       "      <th>0</th>\n",
       "      <td>2018-12-29 13:29:00</td>\n",
       "      <td>Jeff Buckley</td>\n",
       "      <td>Everybody Here Wants You</td>\n",
       "      <td>195299</td>\n",
       "      <td>195</td>\n",
       "      <td>00:03:15</td>\n",
       "      <td>2018-12-29 13:25:45</td>\n",
       "      <td>2018</td>\n",
       "      <td>12</td>\n",
       "      <td>2018_12</td>\n",
       "      <td>29</td>\n",
       "      <td>13</td>\n",
       "      <td>5</td>\n",
       "      <td>1</td>\n",
       "      <td>morning</td>\n",
       "    </tr>\n",
       "    <tr>\n",
       "      <th>1</th>\n",
       "      <td>2018-12-29 13:33:00</td>\n",
       "      <td>Future Islands</td>\n",
       "      <td>Time On Her Side</td>\n",
       "      <td>218506</td>\n",
       "      <td>219</td>\n",
       "      <td>00:03:39</td>\n",
       "      <td>2018-12-29 13:29:21</td>\n",
       "      <td>2018</td>\n",
       "      <td>12</td>\n",
       "      <td>2018_12</td>\n",
       "      <td>29</td>\n",
       "      <td>13</td>\n",
       "      <td>5</td>\n",
       "      <td>1</td>\n",
       "      <td>morning</td>\n",
       "    </tr>\n",
       "    <tr>\n",
       "      <th>2</th>\n",
       "      <td>2018-12-29 13:35:00</td>\n",
       "      <td>The Whitest Boy Alive</td>\n",
       "      <td>Burning</td>\n",
       "      <td>144044</td>\n",
       "      <td>144</td>\n",
       "      <td>00:02:24</td>\n",
       "      <td>2018-12-29 13:32:36</td>\n",
       "      <td>2018</td>\n",
       "      <td>12</td>\n",
       "      <td>2018_12</td>\n",
       "      <td>29</td>\n",
       "      <td>13</td>\n",
       "      <td>5</td>\n",
       "      <td>1</td>\n",
       "      <td>morning</td>\n",
       "    </tr>\n",
       "    <tr>\n",
       "      <th>3</th>\n",
       "      <td>2018-12-29 13:36:00</td>\n",
       "      <td>The Whitest Boy Alive</td>\n",
       "      <td>Burning</td>\n",
       "      <td>47144</td>\n",
       "      <td>47</td>\n",
       "      <td>00:00:47</td>\n",
       "      <td>2018-12-29 13:35:13</td>\n",
       "      <td>2018</td>\n",
       "      <td>12</td>\n",
       "      <td>2018_12</td>\n",
       "      <td>29</td>\n",
       "      <td>13</td>\n",
       "      <td>5</td>\n",
       "      <td>1</td>\n",
       "      <td>morning</td>\n",
       "    </tr>\n",
       "    <tr>\n",
       "      <th>4</th>\n",
       "      <td>2018-12-29 13:41:00</td>\n",
       "      <td>Cut Copy</td>\n",
       "      <td>Take Me Over</td>\n",
       "      <td>248289</td>\n",
       "      <td>248</td>\n",
       "      <td>00:04:08</td>\n",
       "      <td>2018-12-29 13:36:52</td>\n",
       "      <td>2018</td>\n",
       "      <td>12</td>\n",
       "      <td>2018_12</td>\n",
       "      <td>29</td>\n",
       "      <td>13</td>\n",
       "      <td>5</td>\n",
       "      <td>1</td>\n",
       "      <td>morning</td>\n",
       "    </tr>\n",
       "    <tr>\n",
       "      <th>...</th>\n",
       "      <td>...</td>\n",
       "      <td>...</td>\n",
       "      <td>...</td>\n",
       "      <td>...</td>\n",
       "      <td>...</td>\n",
       "      <td>...</td>\n",
       "      <td>...</td>\n",
       "      <td>...</td>\n",
       "      <td>...</td>\n",
       "      <td>...</td>\n",
       "      <td>...</td>\n",
       "      <td>...</td>\n",
       "      <td>...</td>\n",
       "      <td>...</td>\n",
       "      <td>...</td>\n",
       "    </tr>\n",
       "    <tr>\n",
       "      <th>30161</th>\n",
       "      <td>2019-12-29 12:47:00</td>\n",
       "      <td>El Palacio de Linares</td>\n",
       "      <td>Ciervo y Erizo</td>\n",
       "      <td>149266</td>\n",
       "      <td>149</td>\n",
       "      <td>00:02:29</td>\n",
       "      <td>2019-12-29 12:44:31</td>\n",
       "      <td>2019</td>\n",
       "      <td>12</td>\n",
       "      <td>2019_12</td>\n",
       "      <td>29</td>\n",
       "      <td>12</td>\n",
       "      <td>6</td>\n",
       "      <td>1</td>\n",
       "      <td>morning</td>\n",
       "    </tr>\n",
       "    <tr>\n",
       "      <th>30162</th>\n",
       "      <td>2019-12-29 12:48:00</td>\n",
       "      <td>Los Chikos del Maiz</td>\n",
       "      <td>Grupo Salvaje</td>\n",
       "      <td>19772</td>\n",
       "      <td>20</td>\n",
       "      <td>00:00:20</td>\n",
       "      <td>2019-12-29 12:47:40</td>\n",
       "      <td>2019</td>\n",
       "      <td>12</td>\n",
       "      <td>2019_12</td>\n",
       "      <td>29</td>\n",
       "      <td>12</td>\n",
       "      <td>6</td>\n",
       "      <td>1</td>\n",
       "      <td>morning</td>\n",
       "    </tr>\n",
       "    <tr>\n",
       "      <th>30163</th>\n",
       "      <td>2019-12-29 13:00:00</td>\n",
       "      <td>Los Chikos del Maiz</td>\n",
       "      <td>Grupo Salvaje</td>\n",
       "      <td>169087</td>\n",
       "      <td>169</td>\n",
       "      <td>00:02:49</td>\n",
       "      <td>2019-12-29 12:57:11</td>\n",
       "      <td>2019</td>\n",
       "      <td>12</td>\n",
       "      <td>2019_12</td>\n",
       "      <td>29</td>\n",
       "      <td>12</td>\n",
       "      <td>6</td>\n",
       "      <td>1</td>\n",
       "      <td>morning</td>\n",
       "    </tr>\n",
       "    <tr>\n",
       "      <th>30164</th>\n",
       "      <td>2019-12-29 13:03:00</td>\n",
       "      <td>John Grant</td>\n",
       "      <td>GMF</td>\n",
       "      <td>181394</td>\n",
       "      <td>181</td>\n",
       "      <td>00:03:01</td>\n",
       "      <td>2019-12-29 12:59:59</td>\n",
       "      <td>2019</td>\n",
       "      <td>12</td>\n",
       "      <td>2019_12</td>\n",
       "      <td>29</td>\n",
       "      <td>12</td>\n",
       "      <td>6</td>\n",
       "      <td>1</td>\n",
       "      <td>morning</td>\n",
       "    </tr>\n",
       "    <tr>\n",
       "      <th>30165</th>\n",
       "      <td>2019-12-29 13:05:00</td>\n",
       "      <td>Cecilio G.</td>\n",
       "      <td>Million Dollar Baby</td>\n",
       "      <td>119048</td>\n",
       "      <td>119</td>\n",
       "      <td>00:01:59</td>\n",
       "      <td>2019-12-29 13:03:01</td>\n",
       "      <td>2019</td>\n",
       "      <td>12</td>\n",
       "      <td>2019_12</td>\n",
       "      <td>29</td>\n",
       "      <td>13</td>\n",
       "      <td>6</td>\n",
       "      <td>1</td>\n",
       "      <td>morning</td>\n",
       "    </tr>\n",
       "  </tbody>\n",
       "</table>\n",
       "<p>30166 rows × 15 columns</p>\n",
       "</div>"
      ],
      "text/plain": [
       "                  endTime             artistName                 trackName  \\\n",
       "0     2018-12-29 13:29:00           Jeff Buckley  Everybody Here Wants You   \n",
       "1     2018-12-29 13:33:00         Future Islands          Time On Her Side   \n",
       "2     2018-12-29 13:35:00  The Whitest Boy Alive                   Burning   \n",
       "3     2018-12-29 13:36:00  The Whitest Boy Alive                   Burning   \n",
       "4     2018-12-29 13:41:00               Cut Copy              Take Me Over   \n",
       "...                   ...                    ...                       ...   \n",
       "30161 2019-12-29 12:47:00  El Palacio de Linares            Ciervo y Erizo   \n",
       "30162 2019-12-29 12:48:00    Los Chikos del Maiz             Grupo Salvaje   \n",
       "30163 2019-12-29 13:00:00    Los Chikos del Maiz             Grupo Salvaje   \n",
       "30164 2019-12-29 13:03:00             John Grant                       GMF   \n",
       "30165 2019-12-29 13:05:00             Cecilio G.       Million Dollar Baby   \n",
       "\n",
       "       msPlayed  sec_played sec_played_td          start_time  year  month  \\\n",
       "0        195299         195      00:03:15 2018-12-29 13:25:45  2018     12   \n",
       "1        218506         219      00:03:39 2018-12-29 13:29:21  2018     12   \n",
       "2        144044         144      00:02:24 2018-12-29 13:32:36  2018     12   \n",
       "3         47144          47      00:00:47 2018-12-29 13:35:13  2018     12   \n",
       "4        248289         248      00:04:08 2018-12-29 13:36:52  2018     12   \n",
       "...         ...         ...           ...                 ...   ...    ...   \n",
       "30161    149266         149      00:02:29 2019-12-29 12:44:31  2019     12   \n",
       "30162     19772          20      00:00:20 2019-12-29 12:47:40  2019     12   \n",
       "30163    169087         169      00:02:49 2019-12-29 12:57:11  2019     12   \n",
       "30164    181394         181      00:03:01 2019-12-29 12:59:59  2019     12   \n",
       "30165    119048         119      00:01:59 2019-12-29 13:03:01  2019     12   \n",
       "\n",
       "      year_month  day  hour  weekday  weekend day_period  \n",
       "0        2018_12   29    13        5        1    morning  \n",
       "1        2018_12   29    13        5        1    morning  \n",
       "2        2018_12   29    13        5        1    morning  \n",
       "3        2018_12   29    13        5        1    morning  \n",
       "4        2018_12   29    13        5        1    morning  \n",
       "...          ...  ...   ...      ...      ...        ...  \n",
       "30161    2019_12   29    12        6        1    morning  \n",
       "30162    2019_12   29    12        6        1    morning  \n",
       "30163    2019_12   29    12        6        1    morning  \n",
       "30164    2019_12   29    12        6        1    morning  \n",
       "30165    2019_12   29    13        6        1    morning  \n",
       "\n",
       "[30166 rows x 15 columns]"
      ]
     },
     "execution_count": 28,
     "metadata": {},
     "output_type": "execute_result"
    }
   ],
   "source": [
    "# convert hour to category: night, morning, afternoon, evening\n",
    "# pd.cut will convert a numeric variable into a categorical\n",
    "\n",
    "df_history[\"day_period\"] = pd.cut(\n",
    "    df_history[\"hour\"], \n",
    "    bins=[0, 6, 14, 18, 24],\n",
    "    include_lowest=True,\n",
    "    labels=[\"night\", \"morning\", \"afternoon\", \"evening\"]\n",
    ")\n",
    "\n",
    "df_history# .query(\"hour ==0\")"
   ]
  },
  {
   "cell_type": "code",
   "execution_count": 44,
   "metadata": {
    "ExecuteTime": {
     "end_time": "2020-03-03T12:05:45.197611Z",
     "start_time": "2020-03-03T12:05:45.153258Z"
    }
   },
   "outputs": [
    {
     "data": {
      "text/plain": [
       "day_period\n",
       "night         2178\n",
       "morning      15895\n",
       "afternoon     9226\n",
       "evening       2712\n",
       "Name: endTime, dtype: int64"
      ]
     },
     "execution_count": 44,
     "metadata": {},
     "output_type": "execute_result"
    }
   ],
   "source": [
    "# which period has more listening activity\n",
    "df_history.groupby(\"day_period\").count()[\"endTime\"]"
   ]
  },
  {
   "cell_type": "markdown",
   "metadata": {},
   "source": [
    "### Evolution of played songs during the year"
   ]
  },
  {
   "cell_type": "code",
   "execution_count": 46,
   "metadata": {
    "ExecuteTime": {
     "end_time": "2020-03-03T12:06:42.921782Z",
     "start_time": "2020-03-03T12:06:42.690063Z"
    }
   },
   "outputs": [
    {
     "data": {
      "text/plain": [
       "<matplotlib.axes._subplots.AxesSubplot at 0x11a235730>"
      ]
     },
     "execution_count": 46,
     "metadata": {},
     "output_type": "execute_result"
    },
    {
     "data": {
      "image/png": "[encoded data removed]",
      "text/plain": [
       "<Figure size 432x288 with 1 Axes>"
      ]
     },
     "metadata": {
      "needs_background": "light"
     },
     "output_type": "display_data"
    }
   ],
   "source": [
    "df_history.groupby(\"year_month\").count()[[\"endTime\"]].plot()"
   ]
  },
  {
   "cell_type": "markdown",
   "metadata": {},
   "source": [
    "### Acummulated time listening to music"
   ]
  },
  {
   "cell_type": "code",
   "execution_count": 30,
   "metadata": {
    "ExecuteTime": {
     "end_time": "2020-03-04T09:17:25.987538Z",
     "start_time": "2020-03-04T09:17:25.959968Z"
    }
   },
   "outputs": [
    {
     "data": {
      "text/html": [
       "<div>\n",
       "<style scoped>\n",
       "    .dataframe tbody tr th:only-of-type {\n",
       "        vertical-align: middle;\n",
       "    }\n",
       "\n",
       "    .dataframe tbody tr th {\n",
       "        vertical-align: top;\n",
       "    }\n",
       "\n",
       "    .dataframe thead th {\n",
       "        text-align: right;\n",
       "    }\n",
       "</style>\n",
       "<table border=\"1\" class=\"dataframe\">\n",
       "  <thead>\n",
       "    <tr style=\"text-align: right;\">\n",
       "      <th></th>\n",
       "      <th>endTime</th>\n",
       "      <th>artistName</th>\n",
       "      <th>trackName</th>\n",
       "      <th>msPlayed</th>\n",
       "      <th>sec_played</th>\n",
       "      <th>sec_played_td</th>\n",
       "      <th>start_time</th>\n",
       "      <th>year</th>\n",
       "      <th>month</th>\n",
       "      <th>year_month</th>\n",
       "      <th>day</th>\n",
       "      <th>hour</th>\n",
       "      <th>weekday</th>\n",
       "      <th>weekend</th>\n",
       "      <th>day_period</th>\n",
       "      <th>accum_play_time</th>\n",
       "    </tr>\n",
       "  </thead>\n",
       "  <tbody>\n",
       "    <tr>\n",
       "      <th>30161</th>\n",
       "      <td>2019-12-29 12:47:00</td>\n",
       "      <td>El Palacio de Linares</td>\n",
       "      <td>Ciervo y Erizo</td>\n",
       "      <td>149266</td>\n",
       "      <td>149</td>\n",
       "      <td>00:02:29</td>\n",
       "      <td>2019-12-29 12:44:31</td>\n",
       "      <td>2019</td>\n",
       "      <td>12</td>\n",
       "      <td>2019_12</td>\n",
       "      <td>29</td>\n",
       "      <td>12</td>\n",
       "      <td>6</td>\n",
       "      <td>1</td>\n",
       "      <td>morning</td>\n",
       "      <td>4466891</td>\n",
       "    </tr>\n",
       "    <tr>\n",
       "      <th>30162</th>\n",
       "      <td>2019-12-29 12:48:00</td>\n",
       "      <td>Los Chikos del Maiz</td>\n",
       "      <td>Grupo Salvaje</td>\n",
       "      <td>19772</td>\n",
       "      <td>20</td>\n",
       "      <td>00:00:20</td>\n",
       "      <td>2019-12-29 12:47:40</td>\n",
       "      <td>2019</td>\n",
       "      <td>12</td>\n",
       "      <td>2019_12</td>\n",
       "      <td>29</td>\n",
       "      <td>12</td>\n",
       "      <td>6</td>\n",
       "      <td>1</td>\n",
       "      <td>morning</td>\n",
       "      <td>4466911</td>\n",
       "    </tr>\n",
       "    <tr>\n",
       "      <th>30163</th>\n",
       "      <td>2019-12-29 13:00:00</td>\n",
       "      <td>Los Chikos del Maiz</td>\n",
       "      <td>Grupo Salvaje</td>\n",
       "      <td>169087</td>\n",
       "      <td>169</td>\n",
       "      <td>00:02:49</td>\n",
       "      <td>2019-12-29 12:57:11</td>\n",
       "      <td>2019</td>\n",
       "      <td>12</td>\n",
       "      <td>2019_12</td>\n",
       "      <td>29</td>\n",
       "      <td>12</td>\n",
       "      <td>6</td>\n",
       "      <td>1</td>\n",
       "      <td>morning</td>\n",
       "      <td>4467080</td>\n",
       "    </tr>\n",
       "    <tr>\n",
       "      <th>30164</th>\n",
       "      <td>2019-12-29 13:03:00</td>\n",
       "      <td>John Grant</td>\n",
       "      <td>GMF</td>\n",
       "      <td>181394</td>\n",
       "      <td>181</td>\n",
       "      <td>00:03:01</td>\n",
       "      <td>2019-12-29 12:59:59</td>\n",
       "      <td>2019</td>\n",
       "      <td>12</td>\n",
       "      <td>2019_12</td>\n",
       "      <td>29</td>\n",
       "      <td>12</td>\n",
       "      <td>6</td>\n",
       "      <td>1</td>\n",
       "      <td>morning</td>\n",
       "      <td>4467261</td>\n",
       "    </tr>\n",
       "    <tr>\n",
       "      <th>30165</th>\n",
       "      <td>2019-12-29 13:05:00</td>\n",
       "      <td>Cecilio G.</td>\n",
       "      <td>Million Dollar Baby</td>\n",
       "      <td>119048</td>\n",
       "      <td>119</td>\n",
       "      <td>00:01:59</td>\n",
       "      <td>2019-12-29 13:03:01</td>\n",
       "      <td>2019</td>\n",
       "      <td>12</td>\n",
       "      <td>2019_12</td>\n",
       "      <td>29</td>\n",
       "      <td>13</td>\n",
       "      <td>6</td>\n",
       "      <td>1</td>\n",
       "      <td>morning</td>\n",
       "      <td>4467380</td>\n",
       "    </tr>\n",
       "  </tbody>\n",
       "</table>\n",
       "</div>"
      ],
      "text/plain": [
       "                  endTime             artistName            trackName  \\\n",
       "30161 2019-12-29 12:47:00  El Palacio de Linares       Ciervo y Erizo   \n",
       "30162 2019-12-29 12:48:00    Los Chikos del Maiz        Grupo Salvaje   \n",
       "30163 2019-12-29 13:00:00    Los Chikos del Maiz        Grupo Salvaje   \n",
       "30164 2019-12-29 13:03:00             John Grant                  GMF   \n",
       "30165 2019-12-29 13:05:00             Cecilio G.  Million Dollar Baby   \n",
       "\n",
       "       msPlayed  sec_played sec_played_td          start_time  year  month  \\\n",
       "30161    149266         149      00:02:29 2019-12-29 12:44:31  2019     12   \n",
       "30162     19772          20      00:00:20 2019-12-29 12:47:40  2019     12   \n",
       "30163    169087         169      00:02:49 2019-12-29 12:57:11  2019     12   \n",
       "30164    181394         181      00:03:01 2019-12-29 12:59:59  2019     12   \n",
       "30165    119048         119      00:01:59 2019-12-29 13:03:01  2019     12   \n",
       "\n",
       "      year_month  day  hour  weekday  weekend day_period  accum_play_time  \n",
       "30161    2019_12   29    12        6        1    morning          4466891  \n",
       "30162    2019_12   29    12        6        1    morning          4466911  \n",
       "30163    2019_12   29    12        6        1    morning          4467080  \n",
       "30164    2019_12   29    12        6        1    morning          4467261  \n",
       "30165    2019_12   29    13        6        1    morning          4467380  "
      ]
     },
     "execution_count": 30,
     "metadata": {},
     "output_type": "execute_result"
    }
   ],
   "source": [
    "df_history[\"accum_play_time\"] = df_history[\"sec_played\"].cumsum()  # cummulative sum\n",
    "\n",
    "df_history.tail()"
   ]
  },
  {
   "cell_type": "code",
   "execution_count": 40,
   "metadata": {
    "ExecuteTime": {
     "end_time": "2020-03-04T09:20:36.841013Z",
     "start_time": "2020-03-04T09:20:36.826922Z"
    }
   },
   "outputs": [
    {
     "data": {
      "text/plain": [
       "4467380"
      ]
     },
     "execution_count": 40,
     "metadata": {},
     "output_type": "execute_result"
    }
   ],
   "source": [
    "# calculate total time listening to music by getting the maximum value\n",
    "# in the accum_play_time\n",
    "total_time = df_history[\"accum_play_time\"].max()\n",
    "\n",
    "total_time"
   ]
  },
  {
   "cell_type": "code",
   "execution_count": 43,
   "metadata": {
    "ExecuteTime": {
     "end_time": "2020-03-04T09:23:25.862799Z",
     "start_time": "2020-03-04T09:23:25.856523Z"
    }
   },
   "outputs": [
    {
     "name": "stdout",
     "output_type": "stream",
     "text": [
      "total time: 1240 hours and 56 minutes\n",
      "total time: 1240 hours and 56 minutes\n"
     ]
    }
   ],
   "source": [
    "# pass seconds to hours and minutes\n",
    "total_time = df_history.tail(1)[\"accum_play_time\"].values[0]\n",
    "\n",
    "total_hours = total_time // 3600\n",
    "total_minutes = (total_time - total_hours * 3600) // 60\n",
    "\n",
    "print(f\"total time: {total_hours} hours and {total_minutes} minutes\")\n",
    "\n",
    "print(\"total time: {0} hours and {1} minutes\"\n",
    "      .format(total_hours, total_minutes))"
   ]
  },
  {
   "cell_type": "code",
   "execution_count": 48,
   "metadata": {
    "ExecuteTime": {
     "end_time": "2020-03-04T09:28:00.835433Z",
     "start_time": "2020-03-04T09:28:00.819978Z"
    }
   },
   "outputs": [
    {
     "data": {
      "text/plain": [
       "1085"
      ]
     },
     "execution_count": 48,
     "metadata": {},
     "output_type": "execute_result"
    }
   ],
   "source": [
    "len(df_history[df_history[\"sec_played\"]<=1])"
   ]
  },
  {
   "cell_type": "markdown",
   "metadata": {},
   "source": [
    "### Distribution of my listening time"
   ]
  },
  {
   "cell_type": "code",
   "execution_count": 44,
   "metadata": {
    "ExecuteTime": {
     "end_time": "2020-03-04T09:24:44.461644Z",
     "start_time": "2020-03-04T09:24:44.086577Z"
    }
   },
   "outputs": [
    {
     "data": {
      "image/png": "[encoded data removed]",
      "text/plain": [
       "<Figure size 1080x432 with 1 Axes>"
      ]
     },
     "metadata": {
      "needs_background": "light"
     },
     "output_type": "display_data"
    }
   ],
   "source": [
    "mean_listening_time = df_history[\"sec_played\"].mean()\n",
    "median_listening_time = df_history[\"sec_played\"].median()\n",
    "\n",
    "plt.figure(figsize=(15, 6))\n",
    "plt.hist(df_history[\"sec_played\"], bins=100)\n",
    "plt.axvline(mean_listening_time, c=\"red\")\n",
    "plt.axvline(median_listening_time, c=\"green\")\n",
    "plt.show()"
   ]
  },
  {
   "cell_type": "code",
   "execution_count": 49,
   "metadata": {
    "ExecuteTime": {
     "end_time": "2020-03-04T09:29:35.981368Z",
     "start_time": "2020-03-04T09:29:35.611827Z"
    }
   },
   "outputs": [
    {
     "data": {
      "image/png": "[encoded data removed]",
      "text/plain": [
       "<Figure size 1080x432 with 1 Axes>"
      ]
     },
     "metadata": {
      "needs_background": "light"
     },
     "output_type": "display_data"
    }
   ],
   "source": [
    "# let's filter those songs that I listen for less than 30 s\n",
    "listened_m30s = df_history.query(\"sec_played >= 30\")\n",
    "mean_listening_time_m30 = listened_m30s[\"sec_played\"].mean()\n",
    "median_listening_time_m30 = listened_m30s[\"sec_played\"].median()\n",
    "\n",
    "plt.figure(figsize=(15, 6))\n",
    "plt.hist(listened_m30s[\"sec_played\"], bins=50)\n",
    "plt.axvline(mean_listening_time_m30, c=\"red\")\n",
    "plt.axvline(median_listening_time_m30, c=\"green\")\n",
    "plt.show()"
   ]
  },
  {
   "cell_type": "code",
   "execution_count": null,
   "metadata": {},
   "outputs": [],
   "source": []
  }
 ],
 "metadata": {
  "kernelspec": {
   "display_name": "Python (mbd)",
   "language": "python",
   "name": "mbd"
  },
  "language_info": {
   "codemirror_mode": {
    "name": "ipython",
    "version": 3
   },
   "file_extension": ".py",
   "mimetype": "text/x-python",
   "name": "python",
   "nbconvert_exporter": "python",
   "pygments_lexer": "ipython3",
   "version": "3.8.0"
  },
  "toc": {
   "base_numbering": 1,
   "nav_menu": {},
   "number_sections": true,
   "sideBar": true,
   "skip_h1_title": false,
   "title_cell": "Table of Contents",
   "title_sidebar": "Contents",
   "toc_cell": false,
   "toc_position": {},
   "toc_section_display": true,
   "toc_window_display": false
  }
 },
 "nbformat": 4,
 "nbformat_minor": 2
}
