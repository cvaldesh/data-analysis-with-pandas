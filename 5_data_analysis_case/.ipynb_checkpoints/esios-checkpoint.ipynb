{
 "cells": [
  {
   "cell_type": "markdown",
   "metadata": {},
   "source": [
    "### Import libraries"
   ]
  },
  {
   "cell_type": "code",
   "execution_count": 1,
   "metadata": {
    "ExecuteTime": {
     "end_time": "2020-03-06T20:41:02.450665Z",
     "start_time": "2020-03-06T20:41:02.069987Z"
    }
   },
   "outputs": [],
   "source": [
    "import pandas as pd\n",
    "import esios \n",
    "import os\n",
    "from functools import reduce\n",
    "import json"
   ]
  },
  {
   "cell_type": "markdown",
   "metadata": {},
   "source": [
    "### Getting the data"
   ]
  },
  {
   "cell_type": "code",
   "execution_count": 2,
   "metadata": {
    "ExecuteTime": {
     "end_time": "2020-03-06T20:41:03.505503Z",
     "start_time": "2020-03-06T20:41:03.494060Z"
    }
   },
   "outputs": [
    {
     "data": {
      "text/plain": [
       "'/Users/dgarhdez/Desktop/api_esios'"
      ]
     },
     "execution_count": 2,
     "metadata": {},
     "output_type": "execute_result"
    }
   ],
   "source": [
    "os.getcwd()"
   ]
  },
  {
   "cell_type": "code",
   "execution_count": 5,
   "metadata": {
    "ExecuteTime": {
     "end_time": "2020-03-06T20:46:15.769074Z",
     "start_time": "2020-03-06T20:46:15.661979Z"
    }
   },
   "outputs": [],
   "source": [
    "list_files = os.listdir()\n",
    "\n",
    "csv_list = [file for file in list_files if \".csv\" in file]\n",
    "\n",
    "df_list = [pd.read_csv(csv_file) for csv_file in csv_list]\n",
    "\n",
    "energy = reduce(lambda left, right: pd.merge(left, right, on=\"datetime\", how=\"outer\"), df_list)"
   ]
  },
  {
   "cell_type": "code",
   "execution_count": 6,
   "metadata": {
    "ExecuteTime": {
     "end_time": "2020-03-06T20:46:18.019705Z",
     "start_time": "2020-03-06T20:46:18.002583Z"
    }
   },
   "outputs": [
    {
     "data": {
      "text/html": [
       "<div>\n",
       "<style scoped>\n",
       "    .dataframe tbody tr th:only-of-type {\n",
       "        vertical-align: middle;\n",
       "    }\n",
       "\n",
       "    .dataframe tbody tr th {\n",
       "        vertical-align: top;\n",
       "    }\n",
       "\n",
       "    .dataframe thead th {\n",
       "        text-align: right;\n",
       "    }\n",
       "</style>\n",
       "<table border=\"1\" class=\"dataframe\">\n",
       "  <thead>\n",
       "    <tr style=\"text-align: right;\">\n",
       "      <th></th>\n",
       "      <th>datetime</th>\n",
       "      <th>ind_10027</th>\n",
       "      <th>ind_74</th>\n",
       "      <th>ind_79</th>\n",
       "      <th>ind_84</th>\n",
       "      <th>ind_10063</th>\n",
       "      <th>ind_10008</th>\n",
       "      <th>ind_10010</th>\n",
       "      <th>ind_600</th>\n",
       "    </tr>\n",
       "  </thead>\n",
       "  <tbody>\n",
       "    <tr>\n",
       "      <th>0</th>\n",
       "      <td>2019-01-01T00:00:00.000+01:00</td>\n",
       "      <td>23251.2</td>\n",
       "      <td>6059.2</td>\n",
       "      <td>2954.0</td>\n",
       "      <td>7.1</td>\n",
       "      <td>3202.8</td>\n",
       "      <td>1867.0</td>\n",
       "      <td>3830.3</td>\n",
       "      <td>66.88</td>\n",
       "    </tr>\n",
       "    <tr>\n",
       "      <th>1</th>\n",
       "      <td>2019-01-01T01:00:00.000+01:00</td>\n",
       "      <td>22485.0</td>\n",
       "      <td>6059.2</td>\n",
       "      <td>3044.1</td>\n",
       "      <td>8.0</td>\n",
       "      <td>2884.4</td>\n",
       "      <td>1618.0</td>\n",
       "      <td>3172.1</td>\n",
       "      <td>66.88</td>\n",
       "    </tr>\n",
       "    <tr>\n",
       "      <th>2</th>\n",
       "      <td>2019-01-01T02:00:00.000+01:00</td>\n",
       "      <td>20977.0</td>\n",
       "      <td>6059.2</td>\n",
       "      <td>3138.6</td>\n",
       "      <td>7.5</td>\n",
       "      <td>1950.8</td>\n",
       "      <td>1535.3</td>\n",
       "      <td>2980.5</td>\n",
       "      <td>66.00</td>\n",
       "    </tr>\n",
       "    <tr>\n",
       "      <th>3</th>\n",
       "      <td>2019-01-01T03:00:00.000+01:00</td>\n",
       "      <td>19754.2</td>\n",
       "      <td>6059.2</td>\n",
       "      <td>3596.2</td>\n",
       "      <td>7.5</td>\n",
       "      <td>1675.7</td>\n",
       "      <td>1344.0</td>\n",
       "      <td>2840.0</td>\n",
       "      <td>63.64</td>\n",
       "    </tr>\n",
       "    <tr>\n",
       "      <th>4</th>\n",
       "      <td>2019-01-01T04:00:00.000+01:00</td>\n",
       "      <td>19320.6</td>\n",
       "      <td>6063.4</td>\n",
       "      <td>3192.6</td>\n",
       "      <td>7.5</td>\n",
       "      <td>1581.8</td>\n",
       "      <td>1345.0</td>\n",
       "      <td>3253.4</td>\n",
       "      <td>58.85</td>\n",
       "    </tr>\n",
       "  </tbody>\n",
       "</table>\n",
       "</div>"
      ],
      "text/plain": [
       "                        datetime  ind_10027  ind_74  ind_79  ind_84  \\\n",
       "0  2019-01-01T00:00:00.000+01:00    23251.2  6059.2  2954.0     7.1   \n",
       "1  2019-01-01T01:00:00.000+01:00    22485.0  6059.2  3044.1     8.0   \n",
       "2  2019-01-01T02:00:00.000+01:00    20977.0  6059.2  3138.6     7.5   \n",
       "3  2019-01-01T03:00:00.000+01:00    19754.2  6059.2  3596.2     7.5   \n",
       "4  2019-01-01T04:00:00.000+01:00    19320.6  6063.4  3192.6     7.5   \n",
       "\n",
       "   ind_10063  ind_10008  ind_10010  ind_600  \n",
       "0     3202.8     1867.0     3830.3    66.88  \n",
       "1     2884.4     1618.0     3172.1    66.88  \n",
       "2     1950.8     1535.3     2980.5    66.00  \n",
       "3     1675.7     1344.0     2840.0    63.64  \n",
       "4     1581.8     1345.0     3253.4    58.85  "
      ]
     },
     "execution_count": 6,
     "metadata": {},
     "output_type": "execute_result"
    }
   ],
   "source": [
    "energy.head()"
   ]
  },
  {
   "cell_type": "markdown",
   "metadata": {},
   "source": [
    "### Function to load json files"
   ]
  },
  {
   "cell_type": "code",
   "execution_count": 7,
   "metadata": {
    "ExecuteTime": {
     "end_time": "2020-03-06T20:46:21.809188Z",
     "start_time": "2020-03-06T20:46:21.805209Z"
    }
   },
   "outputs": [],
   "source": [
    "def load_json(json_filename):\n",
    "    with open(json_filename, encoding=\"utf8\") as f:\n",
    "        dict_from_json = json.loads(f.read())\n",
    "    return dict_from_json\n",
    "\n",
    "dict_energy = load_json(\"dict_energy.json\")"
   ]
  },
  {
   "cell_type": "markdown",
   "metadata": {},
   "source": [
    "### Change names of columns according to dict_energy.json"
   ]
  },
  {
   "cell_type": "code",
   "execution_count": 8,
   "metadata": {
    "ExecuteTime": {
     "end_time": "2020-03-06T20:46:30.585806Z",
     "start_time": "2020-03-06T20:46:30.569312Z"
    }
   },
   "outputs": [
    {
     "data": {
      "text/html": [
       "<div>\n",
       "<style scoped>\n",
       "    .dataframe tbody tr th:only-of-type {\n",
       "        vertical-align: middle;\n",
       "    }\n",
       "\n",
       "    .dataframe tbody tr th {\n",
       "        vertical-align: top;\n",
       "    }\n",
       "\n",
       "    .dataframe thead th {\n",
       "        text-align: right;\n",
       "    }\n",
       "</style>\n",
       "<table border=\"1\" class=\"dataframe\">\n",
       "  <thead>\n",
       "    <tr style=\"text-align: right;\">\n",
       "      <th></th>\n",
       "      <th>datetime</th>\n",
       "      <th>power_demand</th>\n",
       "      <th>nuclear</th>\n",
       "      <th>gas</th>\n",
       "      <th>solar</th>\n",
       "      <th>hydro</th>\n",
       "      <th>coal</th>\n",
       "      <th>wind</th>\n",
       "      <th>spot_price</th>\n",
       "    </tr>\n",
       "  </thead>\n",
       "  <tbody>\n",
       "    <tr>\n",
       "      <th>0</th>\n",
       "      <td>2019-01-01T00:00:00.000+01:00</td>\n",
       "      <td>23251.2</td>\n",
       "      <td>6059.2</td>\n",
       "      <td>2954.0</td>\n",
       "      <td>7.1</td>\n",
       "      <td>3202.8</td>\n",
       "      <td>1867.0</td>\n",
       "      <td>3830.3</td>\n",
       "      <td>66.88</td>\n",
       "    </tr>\n",
       "    <tr>\n",
       "      <th>1</th>\n",
       "      <td>2019-01-01T01:00:00.000+01:00</td>\n",
       "      <td>22485.0</td>\n",
       "      <td>6059.2</td>\n",
       "      <td>3044.1</td>\n",
       "      <td>8.0</td>\n",
       "      <td>2884.4</td>\n",
       "      <td>1618.0</td>\n",
       "      <td>3172.1</td>\n",
       "      <td>66.88</td>\n",
       "    </tr>\n",
       "    <tr>\n",
       "      <th>2</th>\n",
       "      <td>2019-01-01T02:00:00.000+01:00</td>\n",
       "      <td>20977.0</td>\n",
       "      <td>6059.2</td>\n",
       "      <td>3138.6</td>\n",
       "      <td>7.5</td>\n",
       "      <td>1950.8</td>\n",
       "      <td>1535.3</td>\n",
       "      <td>2980.5</td>\n",
       "      <td>66.00</td>\n",
       "    </tr>\n",
       "    <tr>\n",
       "      <th>3</th>\n",
       "      <td>2019-01-01T03:00:00.000+01:00</td>\n",
       "      <td>19754.2</td>\n",
       "      <td>6059.2</td>\n",
       "      <td>3596.2</td>\n",
       "      <td>7.5</td>\n",
       "      <td>1675.7</td>\n",
       "      <td>1344.0</td>\n",
       "      <td>2840.0</td>\n",
       "      <td>63.64</td>\n",
       "    </tr>\n",
       "    <tr>\n",
       "      <th>4</th>\n",
       "      <td>2019-01-01T04:00:00.000+01:00</td>\n",
       "      <td>19320.6</td>\n",
       "      <td>6063.4</td>\n",
       "      <td>3192.6</td>\n",
       "      <td>7.5</td>\n",
       "      <td>1581.8</td>\n",
       "      <td>1345.0</td>\n",
       "      <td>3253.4</td>\n",
       "      <td>58.85</td>\n",
       "    </tr>\n",
       "  </tbody>\n",
       "</table>\n",
       "</div>"
      ],
      "text/plain": [
       "                        datetime  power_demand  nuclear     gas  solar  \\\n",
       "0  2019-01-01T00:00:00.000+01:00       23251.2   6059.2  2954.0    7.1   \n",
       "1  2019-01-01T01:00:00.000+01:00       22485.0   6059.2  3044.1    8.0   \n",
       "2  2019-01-01T02:00:00.000+01:00       20977.0   6059.2  3138.6    7.5   \n",
       "3  2019-01-01T03:00:00.000+01:00       19754.2   6059.2  3596.2    7.5   \n",
       "4  2019-01-01T04:00:00.000+01:00       19320.6   6063.4  3192.6    7.5   \n",
       "\n",
       "    hydro    coal    wind  spot_price  \n",
       "0  3202.8  1867.0  3830.3       66.88  \n",
       "1  2884.4  1618.0  3172.1       66.88  \n",
       "2  1950.8  1535.3  2980.5       66.00  \n",
       "3  1675.7  1344.0  2840.0       63.64  \n",
       "4  1581.8  1345.0  3253.4       58.85  "
      ]
     },
     "execution_count": 8,
     "metadata": {},
     "output_type": "execute_result"
    }
   ],
   "source": [
    "new_columns = []\n",
    "\n",
    "for col in energy.columns:\n",
    "    for key, value in dict_energy.items():\n",
    "        if key in col:\n",
    "            new_columns.append(value)\n",
    "            \n",
    "energy.columns = [\"datetime\"] + new_columns\n",
    "\n",
    "energy.head()"
   ]
  },
  {
   "cell_type": "code",
   "execution_count": 9,
   "metadata": {
    "ExecuteTime": {
     "end_time": "2020-03-06T20:46:54.274545Z",
     "start_time": "2020-03-06T20:46:54.195663Z"
    }
   },
   "outputs": [],
   "source": [
    "energy.to_csv(\"energy.csv\", index=False)"
   ]
  },
  {
   "cell_type": "code",
   "execution_count": null,
   "metadata": {},
   "outputs": [],
   "source": []
  }
 ],
 "metadata": {
  "kernelspec": {
   "display_name": "Python 3",
   "language": "python",
   "name": "python3"
  },
  "language_info": {
   "codemirror_mode": {
    "name": "ipython",
    "version": 3
   },
   "file_extension": ".py",
   "mimetype": "text/x-python",
   "name": "python",
   "nbconvert_exporter": "python",
   "pygments_lexer": "ipython3",
   "version": "3.7.3"
  },
  "toc": {
   "base_numbering": 1,
   "nav_menu": {},
   "number_sections": true,
   "sideBar": true,
   "skip_h1_title": false,
   "title_cell": "Table of Contents",
   "title_sidebar": "Contents",
   "toc_cell": false,
   "toc_position": {},
   "toc_section_display": true,
   "toc_window_display": false
  }
 },
 "nbformat": 4,
 "nbformat_minor": 2
}
