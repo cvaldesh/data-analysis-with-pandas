{
 "cells": [
  {
   "cell_type": "code",
   "execution_count": 1,
   "metadata": {
    "ExecuteTime": {
     "end_time": "2020-02-25T13:23:35.463532Z",
     "start_time": "2020-02-25T13:23:35.384427Z"
    }
   },
   "outputs": [],
   "source": [
    "import numpy as np"
   ]
  },
  {
   "cell_type": "code",
   "execution_count": null,
   "metadata": {},
   "outputs": [],
   "source": [
    "# nbextensions"
   ]
  },
  {
   "cell_type": "markdown",
   "metadata": {},
   "source": [
    "### Vectors"
   ]
  },
  {
   "cell_type": "code",
   "execution_count": 3,
   "metadata": {
    "ExecuteTime": {
     "end_time": "2020-02-25T13:25:16.055475Z",
     "start_time": "2020-02-25T13:25:16.045416Z"
    }
   },
   "outputs": [
    {
     "data": {
      "text/plain": [
       "array([1, 2, 3])"
      ]
     },
     "execution_count": 3,
     "metadata": {},
     "output_type": "execute_result"
    }
   ],
   "source": [
    "array1 = np.array([1, 2, 3])\n",
    "\n",
    "array1"
   ]
  },
  {
   "cell_type": "code",
   "execution_count": 9,
   "metadata": {
    "ExecuteTime": {
     "end_time": "2020-02-25T13:28:00.108736Z",
     "start_time": "2020-02-25T13:28:00.103333Z"
    }
   },
   "outputs": [
    {
     "data": {
      "text/plain": [
       "array([1, 2, 3])"
      ]
     },
     "execution_count": 9,
     "metadata": {},
     "output_type": "execute_result"
    }
   ],
   "source": [
    "np.array([1, 2, 3])"
   ]
  },
  {
   "cell_type": "code",
   "execution_count": 6,
   "metadata": {
    "ExecuteTime": {
     "end_time": "2020-02-25T13:26:40.731072Z",
     "start_time": "2020-02-25T13:26:40.724046Z"
    }
   },
   "outputs": [
    {
     "data": {
      "text/plain": [
       "array(['hola', '1', 'ni hao'], dtype='<U6')"
      ]
     },
     "execution_count": 6,
     "metadata": {},
     "output_type": "execute_result"
    }
   ],
   "source": [
    "np.array([\"hola\", 1, \"ni hao\"])"
   ]
  },
  {
   "cell_type": "code",
   "execution_count": 8,
   "metadata": {
    "ExecuteTime": {
     "end_time": "2020-02-25T13:27:31.898909Z",
     "start_time": "2020-02-25T13:27:31.890658Z"
    }
   },
   "outputs": [
    {
     "data": {
      "text/plain": [
       "numpy.ndarray"
      ]
     },
     "execution_count": 8,
     "metadata": {},
     "output_type": "execute_result"
    }
   ],
   "source": [
    "np.array([True, False, True])\n",
    "type(np.array([True, False, True]))"
   ]
  },
  {
   "cell_type": "code",
   "execution_count": 10,
   "metadata": {
    "ExecuteTime": {
     "end_time": "2020-02-25T13:28:44.577812Z",
     "start_time": "2020-02-25T13:28:44.572983Z"
    }
   },
   "outputs": [],
   "source": [
    "arr1 = np.array([4, 6, 8, 1000])"
   ]
  },
  {
   "cell_type": "code",
   "execution_count": 16,
   "metadata": {
    "ExecuteTime": {
     "end_time": "2020-02-25T13:30:10.178519Z",
     "start_time": "2020-02-25T13:30:10.172513Z"
    }
   },
   "outputs": [
    {
     "data": {
      "text/plain": [
       "array([6, 8])"
      ]
     },
     "execution_count": 16,
     "metadata": {},
     "output_type": "execute_result"
    }
   ],
   "source": [
    "arr1[1:-1]"
   ]
  },
  {
   "cell_type": "code",
   "execution_count": 17,
   "metadata": {
    "ExecuteTime": {
     "end_time": "2020-02-25T13:31:03.710954Z",
     "start_time": "2020-02-25T13:31:03.705475Z"
    }
   },
   "outputs": [
    {
     "data": {
      "text/plain": [
       "(4,)"
      ]
     },
     "execution_count": 17,
     "metadata": {},
     "output_type": "execute_result"
    }
   ],
   "source": [
    "arr1.shape"
   ]
  },
  {
   "cell_type": "code",
   "execution_count": 18,
   "metadata": {
    "ExecuteTime": {
     "end_time": "2020-02-25T13:31:54.866343Z",
     "start_time": "2020-02-25T13:31:54.860405Z"
    }
   },
   "outputs": [
    {
     "data": {
      "text/plain": [
       "array([0., 0., 0., 0.])"
      ]
     },
     "execution_count": 18,
     "metadata": {},
     "output_type": "execute_result"
    }
   ],
   "source": [
    "np.zeros(4)"
   ]
  },
  {
   "cell_type": "code",
   "execution_count": 19,
   "metadata": {
    "ExecuteTime": {
     "end_time": "2020-02-25T13:33:22.337804Z",
     "start_time": "2020-02-25T13:33:22.331160Z"
    }
   },
   "outputs": [
    {
     "data": {
      "text/plain": [
       "array([1., 1., 1., 1., 1.])"
      ]
     },
     "execution_count": 19,
     "metadata": {},
     "output_type": "execute_result"
    }
   ],
   "source": [
    "np.ones(5)"
   ]
  },
  {
   "cell_type": "code",
   "execution_count": 25,
   "metadata": {
    "ExecuteTime": {
     "end_time": "2020-02-25T13:35:54.422748Z",
     "start_time": "2020-02-25T13:35:54.417636Z"
    }
   },
   "outputs": [
    {
     "data": {
      "text/plain": [
       "array([['hola', 'hola', 'hola'],\n",
       "       ['hola', 'hola', 'hola']], dtype='<U4')"
      ]
     },
     "execution_count": 25,
     "metadata": {},
     "output_type": "execute_result"
    }
   ],
   "source": [
    "np.full((2, 3), \"hola\")"
   ]
  },
  {
   "cell_type": "code",
   "execution_count": 30,
   "metadata": {
    "ExecuteTime": {
     "end_time": "2020-02-25T13:37:56.936729Z",
     "start_time": "2020-02-25T13:37:56.926180Z"
    }
   },
   "outputs": [
    {
     "data": {
      "text/plain": [
       "array([[[[0.21705793, 0.36266236, 0.98228993, ..., 0.50183107,\n",
       "          0.41840431, 0.15442962],\n",
       "         [0.26500756, 0.94383947, 0.19050253, ..., 0.09642713,\n",
       "          0.92279939, 0.05812333],\n",
       "         [0.69039249, 0.89493568, 0.82106377, ..., 0.57635529,\n",
       "          0.12214868, 0.34743953],\n",
       "         [0.24823618, 0.89644717, 0.57593812, ..., 0.900895  ,\n",
       "          0.66984293, 0.18950869],\n",
       "         [0.39880029, 0.62577807, 0.25950352, ..., 0.99676772,\n",
       "          0.98209254, 0.97022478]],\n",
       "\n",
       "        [[0.96310203, 0.50050515, 0.35617413, ..., 0.75633733,\n",
       "          0.14901372, 0.90878053],\n",
       "         [0.91037715, 0.08203845, 0.72741877, ..., 0.3501575 ,\n",
       "          0.10333107, 0.70921782],\n",
       "         [0.44075339, 0.11795664, 0.24324236, ..., 0.89445751,\n",
       "          0.53745498, 0.30732345],\n",
       "         [0.46046737, 0.48116446, 0.98139318, ..., 0.9222988 ,\n",
       "          0.56584701, 0.56204687],\n",
       "         [0.22009242, 0.95769182, 0.59897075, ..., 0.22390091,\n",
       "          0.32499367, 0.41970147]],\n",
       "\n",
       "        [[0.85065106, 0.33839598, 0.4247305 , ..., 0.97635991,\n",
       "          0.79360782, 0.54385855],\n",
       "         [0.71553632, 0.18934415, 0.62396832, ..., 0.34971214,\n",
       "          0.08406259, 0.04320434],\n",
       "         [0.85705162, 0.29559492, 0.0046825 , ..., 0.39753484,\n",
       "          0.05978354, 0.88903365],\n",
       "         [0.78905364, 0.67181097, 0.87199871, ..., 0.41618214,\n",
       "          0.85103064, 0.56670148],\n",
       "         [0.99970047, 0.20411572, 0.76878445, ..., 0.55928052,\n",
       "          0.33039925, 0.92967411]],\n",
       "\n",
       "        [[0.34388588, 0.2530643 , 0.83833496, ..., 0.95980354,\n",
       "          0.40770169, 0.12176911],\n",
       "         [0.74365167, 0.82025211, 0.24029773, ..., 0.64448538,\n",
       "          0.62701841, 0.19715345],\n",
       "         [0.02649374, 0.46239741, 0.11004107, ..., 0.73522698,\n",
       "          0.01248528, 0.16473826],\n",
       "         [0.7073965 , 0.07205815, 0.90560219, ..., 0.14178796,\n",
       "          0.93862976, 0.341239  ],\n",
       "         [0.19736895, 0.82779364, 0.94338137, ..., 0.21709964,\n",
       "          0.9069779 , 0.49672363]],\n",
       "\n",
       "        [[0.76590014, 0.55254405, 0.63293991, ..., 0.28624011,\n",
       "          0.77682343, 0.36170807],\n",
       "         [0.77881496, 0.2887601 , 0.82007541, ..., 0.13143179,\n",
       "          0.29067526, 0.44781718],\n",
       "         [0.25785388, 0.84814905, 0.32065009, ..., 0.2452598 ,\n",
       "          0.73443753, 0.94902046],\n",
       "         [0.39119874, 0.85552181, 0.03071246, ..., 0.27309949,\n",
       "          0.60267983, 0.14949288],\n",
       "         [0.33259027, 0.88575095, 0.02281641, ..., 0.12088414,\n",
       "          0.91597538, 0.00642222]]],\n",
       "\n",
       "\n",
       "       [[[0.8856623 , 0.67619205, 0.39237078, ..., 0.11599099,\n",
       "          0.95782352, 0.73169442],\n",
       "         [0.56660089, 0.40742139, 0.74502782, ..., 0.64553419,\n",
       "          0.28858996, 0.32132711],\n",
       "         [0.823925  , 0.00710327, 0.69344267, ..., 0.17186032,\n",
       "          0.32994899, 0.65036316],\n",
       "         [0.90709025, 0.71890909, 0.62062235, ..., 0.70437411,\n",
       "          0.4016316 , 0.90573082],\n",
       "         [0.09771161, 0.00678124, 0.1087895 , ..., 0.79479254,\n",
       "          0.01835333, 0.22807141]],\n",
       "\n",
       "        [[0.58358918, 0.60557804, 0.49582329, ..., 0.35886735,\n",
       "          0.54855658, 0.89861635],\n",
       "         [0.00348549, 0.82286105, 0.59122178, ..., 0.78182541,\n",
       "          0.61774833, 0.53432457],\n",
       "         [0.03786903, 0.17396133, 0.65046235, ..., 0.69100533,\n",
       "          0.89423344, 0.28387118],\n",
       "         [0.30702042, 0.1896483 , 0.70605601, ..., 0.29906969,\n",
       "          0.07531654, 0.46303271],\n",
       "         [0.54085779, 0.5395124 , 0.49639598, ..., 0.38847511,\n",
       "          0.4408535 , 0.86376754]],\n",
       "\n",
       "        [[0.82107117, 0.90343109, 0.28731781, ..., 0.82566353,\n",
       "          0.84529865, 0.06359603],\n",
       "         [0.15910121, 0.09223147, 0.16792462, ..., 0.94974291,\n",
       "          0.51081214, 0.57598789],\n",
       "         [0.10088253, 0.11984148, 0.35683967, ..., 0.21756819,\n",
       "          0.53112787, 0.73344103],\n",
       "         [0.90746122, 0.36453882, 0.60741545, ..., 0.31673288,\n",
       "          0.54621162, 0.78114194],\n",
       "         [0.40258299, 0.12568159, 0.52728558, ..., 0.13942537,\n",
       "          0.37683185, 0.19600183]],\n",
       "\n",
       "        [[0.6014476 , 0.40112592, 0.25433003, ..., 0.42392157,\n",
       "          0.84545094, 0.56383794],\n",
       "         [0.35465545, 0.90384181, 0.20044473, ..., 0.00891218,\n",
       "          0.6060565 , 0.9493471 ],\n",
       "         [0.75254805, 0.79340766, 0.35098339, ..., 0.68332255,\n",
       "          0.21669809, 0.03108042],\n",
       "         [0.92677265, 0.44330898, 0.51952961, ..., 0.91893293,\n",
       "          0.75892004, 0.41379209],\n",
       "         [0.27632345, 0.16483636, 0.91894427, ..., 0.93496933,\n",
       "          0.10016785, 0.63609229]],\n",
       "\n",
       "        [[0.64684133, 0.34922775, 0.17029443, ..., 0.05567884,\n",
       "          0.85720533, 0.57911615],\n",
       "         [0.90229272, 0.2054524 , 0.25004215, ..., 0.08560931,\n",
       "          0.56281949, 0.31935653],\n",
       "         [0.64366694, 0.85169025, 0.47701453, ..., 0.09176974,\n",
       "          0.11319379, 0.11052645],\n",
       "         [0.28491765, 0.13843623, 0.62046535, ..., 0.97836391,\n",
       "          0.86676762, 0.45839997],\n",
       "         [0.00915216, 0.96567139, 0.00170121, ..., 0.60327898,\n",
       "          0.17960018, 0.26475355]]],\n",
       "\n",
       "\n",
       "       [[[0.96630381, 0.49916205, 0.06934549, ..., 0.6386582 ,\n",
       "          0.28694059, 0.39230018],\n",
       "         [0.69505619, 0.3777597 , 0.30272694, ..., 0.57067796,\n",
       "          0.98527462, 0.48499527],\n",
       "         [0.79248199, 0.45445069, 0.85714165, ..., 0.51631984,\n",
       "          0.61233588, 0.86618396],\n",
       "         [0.92511568, 0.27740569, 0.32587501, ..., 0.47422178,\n",
       "          0.44704898, 0.58682407],\n",
       "         [0.46162725, 0.73585121, 0.54933188, ..., 0.49680971,\n",
       "          0.79228958, 0.99510009]],\n",
       "\n",
       "        [[0.16882072, 0.73763915, 0.70612202, ..., 0.55697536,\n",
       "          0.8034933 , 0.29043385],\n",
       "         [0.98436829, 0.675138  , 0.16843013, ..., 0.23206975,\n",
       "          0.24230309, 0.68313268],\n",
       "         [0.27921487, 0.79068071, 0.65735412, ..., 0.27884657,\n",
       "          0.04717952, 0.9319726 ],\n",
       "         [0.84244068, 0.73630478, 0.65956876, ..., 0.69143706,\n",
       "          0.67092329, 0.92933946],\n",
       "         [0.18765122, 0.49418637, 0.90974654, ..., 0.43041058,\n",
       "          0.17789666, 0.25451168]],\n",
       "\n",
       "        [[0.42420549, 0.91882145, 0.86980727, ..., 0.95251656,\n",
       "          0.08116068, 0.75815992],\n",
       "         [0.8772311 , 0.83245697, 0.85968653, ..., 0.72067232,\n",
       "          0.71100828, 0.54156237],\n",
       "         [0.28926737, 0.8155482 , 0.66417394, ..., 0.75247234,\n",
       "          0.89758375, 0.48821911],\n",
       "         [0.39265367, 0.59761594, 0.34298933, ..., 0.36407054,\n",
       "          0.46992485, 0.12555243],\n",
       "         [0.31912137, 0.83158038, 0.38629825, ..., 0.51659425,\n",
       "          0.80332928, 0.08866126]],\n",
       "\n",
       "        [[0.21392682, 0.63480253, 0.79395971, ..., 0.31902346,\n",
       "          0.86779822, 0.84660849],\n",
       "         [0.19985796, 0.19613003, 0.51424363, ..., 0.84394485,\n",
       "          0.24415433, 0.37791069],\n",
       "         [0.16984923, 0.7651647 , 0.10341091, ..., 0.5683978 ,\n",
       "          0.36054193, 0.26243744],\n",
       "         [0.83371287, 0.20791372, 0.66646354, ..., 0.94746257,\n",
       "          0.25068794, 0.95229427],\n",
       "         [0.893067  , 0.67913543, 0.24070864, ..., 0.93018445,\n",
       "          0.00461051, 0.09408944]],\n",
       "\n",
       "        [[0.28222471, 0.52365094, 0.29758961, ..., 0.37994485,\n",
       "          0.33151   , 0.81393238],\n",
       "         [0.00946001, 0.04731249, 0.23084055, ..., 0.32060419,\n",
       "          0.20607302, 0.53547057],\n",
       "         [0.71182863, 0.32058175, 0.52968347, ..., 0.48234261,\n",
       "          0.63416917, 0.69006591],\n",
       "         [0.27081489, 0.67159739, 0.05352618, ..., 0.3265086 ,\n",
       "          0.02660569, 0.43062185],\n",
       "         [0.21321484, 0.7035729 , 0.80297709, ..., 0.96469557,\n",
       "          0.29779602, 0.20515437]]]])"
      ]
     },
     "execution_count": 30,
     "metadata": {},
     "output_type": "execute_result"
    }
   ],
   "source": [
    "np.random.rand(3, 5)"
   ]
  },
  {
   "cell_type": "markdown",
   "metadata": {},
   "source": [
    "### Matrices"
   ]
  },
  {
   "cell_type": "code",
   "execution_count": 37,
   "metadata": {
    "ExecuteTime": {
     "end_time": "2020-02-25T13:40:54.509567Z",
     "start_time": "2020-02-25T13:40:54.503812Z"
    }
   },
   "outputs": [
    {
     "data": {
      "text/plain": [
       "array([[5, 1],\n",
       "       [3, 7]])"
      ]
     },
     "execution_count": 37,
     "metadata": {},
     "output_type": "execute_result"
    }
   ],
   "source": [
    "mtx = np.array([\n",
    "    [5, 1],\n",
    "    [3, 7]\n",
    "])\n",
    "\n",
    "mtx"
   ]
  },
  {
   "cell_type": "code",
   "execution_count": 38,
   "metadata": {
    "ExecuteTime": {
     "end_time": "2020-02-25T13:41:12.711064Z",
     "start_time": "2020-02-25T13:41:12.704908Z"
    }
   },
   "outputs": [
    {
     "data": {
      "text/plain": [
       "7"
      ]
     },
     "execution_count": 38,
     "metadata": {},
     "output_type": "execute_result"
    }
   ],
   "source": [
    "mtx[1, 1]"
   ]
  },
  {
   "cell_type": "code",
   "execution_count": 43,
   "metadata": {
    "ExecuteTime": {
     "end_time": "2020-02-25T13:42:31.987818Z",
     "start_time": "2020-02-25T13:42:31.982310Z"
    }
   },
   "outputs": [
    {
     "data": {
      "text/plain": [
       "numpy.str_"
      ]
     },
     "execution_count": 43,
     "metadata": {},
     "output_type": "execute_result"
    }
   ],
   "source": [
    "mtx1 = np.array([\n",
    "    [1, 6, 0],\n",
    "    [2, 4, 8],\n",
    "    [\"a\", \"b\", \"c\"]\n",
    "])\n",
    "\n",
    "type(mtx1[1, 1])"
   ]
  },
  {
   "cell_type": "code",
   "execution_count": 44,
   "metadata": {
    "ExecuteTime": {
     "end_time": "2020-02-25T13:45:26.723708Z",
     "start_time": "2020-02-25T13:45:26.719714Z"
    }
   },
   "outputs": [],
   "source": [
    "mtx = np.array([\n",
    "    [10, 100, 1000],\n",
    "    [20, 25, 30],\n",
    "    [1, 2, 3]\n",
    "])"
   ]
  },
  {
   "cell_type": "code",
   "execution_count": 45,
   "metadata": {
    "ExecuteTime": {
     "end_time": "2020-02-25T13:46:05.140085Z",
     "start_time": "2020-02-25T13:46:05.134219Z"
    }
   },
   "outputs": [
    {
     "data": {
      "text/plain": [
       "array([[25, 30],\n",
       "       [ 2,  3]])"
      ]
     },
     "execution_count": 45,
     "metadata": {},
     "output_type": "execute_result"
    }
   ],
   "source": [
    "mtx_a = mtx[1:, 1:]\n",
    "mtx_a"
   ]
  },
  {
   "cell_type": "code",
   "execution_count": 48,
   "metadata": {
    "ExecuteTime": {
     "end_time": "2020-02-25T13:46:30.474649Z",
     "start_time": "2020-02-25T13:46:30.468493Z"
    }
   },
   "outputs": [
    {
     "data": {
      "text/plain": [
       "array([1, 2])"
      ]
     },
     "execution_count": 48,
     "metadata": {},
     "output_type": "execute_result"
    }
   ],
   "source": [
    "mtx_b = mtx[2, 0:2]\n",
    "mtx_b"
   ]
  },
  {
   "cell_type": "code",
   "execution_count": 56,
   "metadata": {
    "ExecuteTime": {
     "end_time": "2020-02-25T13:50:09.918824Z",
     "start_time": "2020-02-25T13:50:09.912889Z"
    }
   },
   "outputs": [
    {
     "data": {
      "text/plain": [
       "'[[ 10 100   1]\\n [ 20  25  30]\\n [  1   2   3]]'"
      ]
     },
     "execution_count": 56,
     "metadata": {},
     "output_type": "execute_result"
    }
   ],
   "source": [
    "mtx_str = str(mtx)\n",
    "\n",
    "# mtx_str[0, 2] = \"hh\"\n",
    "\n",
    "mtx_str"
   ]
  },
  {
   "cell_type": "markdown",
   "metadata": {},
   "source": [
    "### Operations"
   ]
  },
  {
   "cell_type": "markdown",
   "metadata": {},
   "source": [
    "#### Element-wise operations"
   ]
  },
  {
   "cell_type": "code",
   "execution_count": 75,
   "metadata": {
    "ExecuteTime": {
     "end_time": "2020-02-25T14:00:06.367540Z",
     "start_time": "2020-02-25T14:00:06.363259Z"
    }
   },
   "outputs": [],
   "source": [
    "arr1 = np.array([1, 2, 4])\n",
    "arr2 = np.array([2, 6, 9])"
   ]
  },
  {
   "cell_type": "code",
   "execution_count": 62,
   "metadata": {
    "ExecuteTime": {
     "end_time": "2020-02-25T13:56:05.996900Z",
     "start_time": "2020-02-25T13:56:05.991593Z"
    }
   },
   "outputs": [
    {
     "data": {
      "text/plain": [
       "array([ 3,  8, 13])"
      ]
     },
     "execution_count": 62,
     "metadata": {},
     "output_type": "execute_result"
    }
   ],
   "source": [
    "# addition\n",
    "\n",
    "arr1 + arr2"
   ]
  },
  {
   "cell_type": "code",
   "execution_count": 63,
   "metadata": {
    "ExecuteTime": {
     "end_time": "2020-02-25T13:56:18.121269Z",
     "start_time": "2020-02-25T13:56:18.115795Z"
    }
   },
   "outputs": [
    {
     "data": {
      "text/plain": [
       "array([1, 4, 5])"
      ]
     },
     "execution_count": 63,
     "metadata": {},
     "output_type": "execute_result"
    }
   ],
   "source": [
    "# substraction\n",
    "\n",
    "arr2 - arr1"
   ]
  },
  {
   "cell_type": "code",
   "execution_count": 65,
   "metadata": {
    "ExecuteTime": {
     "end_time": "2020-02-25T13:56:36.724109Z",
     "start_time": "2020-02-25T13:56:36.718306Z"
    }
   },
   "outputs": [
    {
     "data": {
      "text/plain": [
       "array([ 2, 12, 36])"
      ]
     },
     "execution_count": 65,
     "metadata": {},
     "output_type": "execute_result"
    }
   ],
   "source": [
    "# multiplication\n",
    "\n",
    "arr1 * arr2"
   ]
  },
  {
   "cell_type": "code",
   "execution_count": 66,
   "metadata": {
    "ExecuteTime": {
     "end_time": "2020-02-25T13:56:58.631310Z",
     "start_time": "2020-02-25T13:56:58.625339Z"
    }
   },
   "outputs": [
    {
     "data": {
      "text/plain": [
       "array([0.5       , 0.33333333, 0.44444444])"
      ]
     },
     "execution_count": 66,
     "metadata": {},
     "output_type": "execute_result"
    }
   ],
   "source": [
    "# division\n",
    "\n",
    "arr1 / arr2"
   ]
  },
  {
   "cell_type": "code",
   "execution_count": 67,
   "metadata": {
    "ExecuteTime": {
     "end_time": "2020-02-25T13:57:42.168011Z",
     "start_time": "2020-02-25T13:57:42.161917Z"
    }
   },
   "outputs": [
    {
     "data": {
      "text/plain": [
       "array([1, 2, 4])"
      ]
     },
     "execution_count": 67,
     "metadata": {},
     "output_type": "execute_result"
    }
   ],
   "source": [
    "# modulus\n",
    "\n",
    "arr1 % arr2"
   ]
  },
  {
   "cell_type": "code",
   "execution_count": 68,
   "metadata": {
    "ExecuteTime": {
     "end_time": "2020-02-25T13:58:18.015723Z",
     "start_time": "2020-02-25T13:58:18.010255Z"
    }
   },
   "outputs": [
    {
     "data": {
      "text/plain": [
       "array([ 1,  4, 16])"
      ]
     },
     "execution_count": 68,
     "metadata": {},
     "output_type": "execute_result"
    }
   ],
   "source": [
    "# power\n",
    "\n",
    "arr1 ** 2"
   ]
  },
  {
   "cell_type": "code",
   "execution_count": 70,
   "metadata": {
    "ExecuteTime": {
     "end_time": "2020-02-25T13:58:48.328057Z",
     "start_time": "2020-02-25T13:58:48.322305Z"
    }
   },
   "outputs": [
    {
     "data": {
      "text/plain": [
       "array([ True,  True,  True])"
      ]
     },
     "execution_count": 70,
     "metadata": {},
     "output_type": "execute_result"
    }
   ],
   "source": [
    "exp = 5.4\n",
    "np.power(arr1, 2) == (arr1 ** 2)"
   ]
  },
  {
   "cell_type": "code",
   "execution_count": 76,
   "metadata": {
    "ExecuteTime": {
     "end_time": "2020-02-25T14:00:13.988651Z",
     "start_time": "2020-02-25T14:00:13.982066Z"
    }
   },
   "outputs": [
    {
     "data": {
      "text/plain": [
       "array([False, False, False])"
      ]
     },
     "execution_count": 76,
     "metadata": {},
     "output_type": "execute_result"
    }
   ],
   "source": [
    "#  comparing elements\n",
    "\n",
    "arr1 > arr2"
   ]
  },
  {
   "cell_type": "code",
   "execution_count": 78,
   "metadata": {
    "ExecuteTime": {
     "end_time": "2020-02-25T14:00:36.967282Z",
     "start_time": "2020-02-25T14:00:36.960535Z"
    }
   },
   "outputs": [
    {
     "name": "stdout",
     "output_type": "stream",
     "text": [
      "[1 2 4]\n"
     ]
    },
    {
     "data": {
      "text/plain": [
       "array([4])"
      ]
     },
     "execution_count": 78,
     "metadata": {},
     "output_type": "execute_result"
    }
   ],
   "source": [
    "# filtering\n",
    "print(arr1)\n",
    "arr1[arr1>2]"
   ]
  },
  {
   "cell_type": "code",
   "execution_count": 87,
   "metadata": {
    "ExecuteTime": {
     "end_time": "2020-02-25T14:08:51.430942Z",
     "start_time": "2020-02-25T14:08:51.424114Z"
    }
   },
   "outputs": [
    {
     "data": {
      "text/plain": [
       "array(['1', '5', '7', 'greater than 7', 'greater than 7'], dtype='<U21')"
      ]
     },
     "execution_count": 87,
     "metadata": {},
     "output_type": "execute_result"
    }
   ],
   "source": [
    "# np.where\n",
    "\n",
    "# np.where(condition, value_if_true, value_if_false)\n",
    "\n",
    "arr = np.array([1, 5, 7, 8, 10])\n",
    "\n",
    "arr_where = np.where(\n",
    "    arr>7, \n",
    "    \"greater than 7\", \n",
    "    np.where(arr>8, \"greater than 8\", arr)\n",
    ")\n",
    "\n",
    "arr_where"
   ]
  },
  {
   "cell_type": "code",
   "execution_count": 83,
   "metadata": {
    "ExecuteTime": {
     "end_time": "2020-02-25T14:04:32.801484Z",
     "start_time": "2020-02-25T14:04:32.795974Z"
    }
   },
   "outputs": [
    {
     "data": {
      "text/plain": [
       "array([ 1,  5,  7,  8, 10])"
      ]
     },
     "execution_count": 83,
     "metadata": {},
     "output_type": "execute_result"
    }
   ],
   "source": [
    "arr"
   ]
  },
  {
   "cell_type": "code",
   "execution_count": 82,
   "metadata": {
    "ExecuteTime": {
     "end_time": "2020-02-25T14:04:13.031537Z",
     "start_time": "2020-02-25T14:04:13.026200Z"
    }
   },
   "outputs": [
    {
     "name": "stdout",
     "output_type": "stream",
     "text": [
      "[1 2 4] [2 6 9]\n"
     ]
    }
   ],
   "source": [
    "# Modulus\n",
    "\n",
    "print(arr1, arr2)"
   ]
  },
  {
   "cell_type": "code",
   "execution_count": 85,
   "metadata": {
    "ExecuteTime": {
     "end_time": "2020-02-25T14:05:05.600413Z",
     "start_time": "2020-02-25T14:05:05.595378Z"
    }
   },
   "outputs": [
    {
     "data": {
      "text/plain": [
       "1"
      ]
     },
     "execution_count": 85,
     "metadata": {},
     "output_type": "execute_result"
    }
   ],
   "source": [
    "7 % 2"
   ]
  },
  {
   "cell_type": "markdown",
   "metadata": {},
   "source": [
    "### re-arranging arrays"
   ]
  },
  {
   "cell_type": "code",
   "execution_count": 107,
   "metadata": {
    "ExecuteTime": {
     "end_time": "2020-02-25T14:22:16.099493Z",
     "start_time": "2020-02-25T14:22:16.092321Z"
    }
   },
   "outputs": [
    {
     "data": {
      "text/plain": [
       "array([[  1,   5,   7],\n",
       "       [  8,  10, 100]])"
      ]
     },
     "execution_count": 107,
     "metadata": {},
     "output_type": "execute_result"
    }
   ],
   "source": [
    "mtx = np.array([\n",
    "    [1, 5, 7],\n",
    "    [8, 10, 100]\n",
    "])\n",
    "\n",
    "mtx "
   ]
  },
  {
   "cell_type": "code",
   "execution_count": 95,
   "metadata": {
    "ExecuteTime": {
     "end_time": "2020-02-25T14:19:53.607704Z",
     "start_time": "2020-02-25T14:19:53.592260Z"
    }
   },
   "outputs": [
    {
     "data": {
      "text/plain": [
       "array([[  1,   5],\n",
       "       [  7,   8],\n",
       "       [ 10, 100]])"
      ]
     },
     "execution_count": 95,
     "metadata": {},
     "output_type": "execute_result"
    }
   ],
   "source": [
    "mtx.reshape((3, 2))"
   ]
  },
  {
   "cell_type": "code",
   "execution_count": 106,
   "metadata": {
    "ExecuteTime": {
     "end_time": "2020-02-25T14:21:52.857249Z",
     "start_time": "2020-02-25T14:21:52.851902Z"
    }
   },
   "outputs": [
    {
     "data": {
      "text/plain": [
       "array([[ True, False, False, False, False, False],\n",
       "       [False,  True, False, False, False, False],\n",
       "       [False, False,  True, False, False, False],\n",
       "       [False, False, False,  True, False, False],\n",
       "       [False, False, False, False,  True, False],\n",
       "       [False, False, False, False, False,  True]])"
      ]
     },
     "execution_count": 106,
     "metadata": {},
     "output_type": "execute_result"
    }
   ],
   "source": [
    "mtx.reshape(6, ) == mtx.reshape(6, 1)"
   ]
  },
  {
   "cell_type": "code",
   "execution_count": 91,
   "metadata": {
    "ExecuteTime": {
     "end_time": "2020-02-25T14:19:12.787174Z",
     "start_time": "2020-02-25T14:19:12.781617Z"
    }
   },
   "outputs": [
    {
     "data": {
      "text/plain": [
       "array([  1,   5,   7,   8,  10, 100])"
      ]
     },
     "execution_count": 91,
     "metadata": {},
     "output_type": "execute_result"
    }
   ],
   "source": [
    "mtx.flatten()"
   ]
  },
  {
   "cell_type": "code",
   "execution_count": 103,
   "metadata": {
    "ExecuteTime": {
     "end_time": "2020-02-25T14:20:55.499448Z",
     "start_time": "2020-02-25T14:20:55.488427Z"
    }
   },
   "outputs": [
    {
     "data": {
      "text/plain": [
       "array([ True,  True,  True,  True,  True,  True])"
      ]
     },
     "execution_count": 103,
     "metadata": {},
     "output_type": "execute_result"
    }
   ],
   "source": [
    "mtx1 = mtx.flatten()\n",
    "\n",
    "mtx1 == mtx.reshape(6, )"
   ]
  },
  {
   "cell_type": "code",
   "execution_count": 108,
   "metadata": {
    "ExecuteTime": {
     "end_time": "2020-02-25T14:22:26.682952Z",
     "start_time": "2020-02-25T14:22:26.676183Z"
    }
   },
   "outputs": [
    {
     "data": {
      "text/plain": [
       "array([[  1,   8],\n",
       "       [  5,  10],\n",
       "       [  7, 100]])"
      ]
     },
     "execution_count": 108,
     "metadata": {},
     "output_type": "execute_result"
    }
   ],
   "source": [
    "mtx.transpose()"
   ]
  },
  {
   "cell_type": "markdown",
   "metadata": {},
   "source": [
    "### Basic algebra operations"
   ]
  },
  {
   "cell_type": "code",
   "execution_count": null,
   "metadata": {},
   "outputs": [],
   "source": [
    "np.dot(arr1, arr2)\n",
    "\n",
    "arr1 @ arr2"
   ]
  },
  {
   "cell_type": "code",
   "execution_count": 110,
   "metadata": {
    "ExecuteTime": {
     "end_time": "2020-02-25T14:29:32.380151Z",
     "start_time": "2020-02-25T14:29:32.371235Z"
    }
   },
   "outputs": [
    {
     "ename": "ValueError",
     "evalue": "matmul: Input operand 1 has a mismatch in its core dimension 0, with gufunc signature (n?,k),(k,m?)->(n?,m?) (size 1 is different from 2)",
     "output_type": "error",
     "traceback": [
      "\u001b[0;31m---------------------------------------------------------------------------\u001b[0m",
      "\u001b[0;31mValueError\u001b[0m                                Traceback (most recent call last)",
      "\u001b[0;32m<ipython-input-110-26fd28290ceb>\u001b[0m in \u001b[0;36m<module>\u001b[0;34m\u001b[0m\n\u001b[1;32m      8\u001b[0m ])\n\u001b[1;32m      9\u001b[0m \u001b[0;34m\u001b[0m\u001b[0m\n\u001b[0;32m---> 10\u001b[0;31m \u001b[0marr1\u001b[0m \u001b[0;34m@\u001b[0m \u001b[0marr2\u001b[0m\u001b[0;34m\u001b[0m\u001b[0;34m\u001b[0m\u001b[0m\n\u001b[0m",
      "\u001b[0;31mValueError\u001b[0m: matmul: Input operand 1 has a mismatch in its core dimension 0, with gufunc signature (n?,k),(k,m?)->(n?,m?) (size 1 is different from 2)"
     ]
    }
   ],
   "source": [
    "arr1 = np.array([\n",
    "    [1, 2],\n",
    "    [2, 5]\n",
    "])\n",
    "\n",
    "arr2 = np.array([\n",
    "    [1, 2, 3]\n",
    "])\n",
    "\n",
    "arr1 @ arr2"
   ]
  },
  {
   "cell_type": "code",
   "execution_count": 113,
   "metadata": {
    "ExecuteTime": {
     "end_time": "2020-02-25T14:32:40.765629Z",
     "start_time": "2020-02-25T14:32:40.761408Z"
    }
   },
   "outputs": [],
   "source": [
    "A = np.array([\n",
    "    [4,2],\n",
    "    [3,4]\n",
    "])\n",
    "\n",
    "invA = np.linalg.inv(A)"
   ]
  },
  {
   "cell_type": "code",
   "execution_count": 114,
   "metadata": {
    "ExecuteTime": {
     "end_time": "2020-02-25T14:32:43.600308Z",
     "start_time": "2020-02-25T14:32:43.594392Z"
    }
   },
   "outputs": [
    {
     "data": {
      "text/plain": [
       "array([[1., 0.],\n",
       "       [0., 1.]])"
      ]
     },
     "execution_count": 114,
     "metadata": {},
     "output_type": "execute_result"
    }
   ],
   "source": [
    "A @ invA"
   ]
  }
 ],
 "metadata": {
  "kernelspec": {
   "display_name": "Python 3",
   "language": "python",
   "name": "python3"
  },
  "language_info": {
   "codemirror_mode": {
    "name": "ipython",
    "version": 3
   },
   "file_extension": ".py",
   "mimetype": "text/x-python",
   "name": "python",
   "nbconvert_exporter": "python",
   "pygments_lexer": "ipython3",
   "version": "3.8.0"
  },
  "toc": {
   "base_numbering": 1,
   "nav_menu": {},
   "number_sections": true,
   "sideBar": true,
   "skip_h1_title": false,
   "title_cell": "Table of Contents",
   "title_sidebar": "Contents",
   "toc_cell": false,
   "toc_position": {},
   "toc_section_display": true,
   "toc_window_display": false
  }
 },
 "nbformat": 4,
 "nbformat_minor": 2
}
