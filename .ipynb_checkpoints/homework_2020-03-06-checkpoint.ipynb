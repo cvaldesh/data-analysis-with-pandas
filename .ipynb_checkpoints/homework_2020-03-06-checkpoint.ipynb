{
 "cells": [
  {
   "cell_type": "code",
   "execution_count": 24,
   "metadata": {
    "ExecuteTime": {
     "end_time": "2020-02-29T11:13:06.121505Z",
     "start_time": "2020-02-29T11:13:06.118758Z"
    }
   },
   "outputs": [],
   "source": [
    "import pandas as pd\n",
    "import numpy as np"
   ]
  },
  {
   "cell_type": "markdown",
   "metadata": {},
   "source": [
    "### Open dataset as pandas DataFrame"
   ]
  },
  {
   "cell_type": "code",
   "execution_count": 25,
   "metadata": {
    "ExecuteTime": {
     "end_time": "2020-02-29T11:13:07.248899Z",
     "start_time": "2020-02-29T11:13:06.744964Z"
    }
   },
   "outputs": [],
   "source": [
    "imdb = pd.read_csv(\"imdb_2019.tsv\", sep=\"\\t\")"
   ]
  },
  {
   "cell_type": "code",
   "execution_count": 26,
   "metadata": {
    "ExecuteTime": {
     "end_time": "2020-02-29T11:13:07.263816Z",
     "start_time": "2020-02-29T11:13:07.251150Z"
    }
   },
   "outputs": [
    {
     "data": {
      "text/html": [
       "<div>\n",
       "<style scoped>\n",
       "    .dataframe tbody tr th:only-of-type {\n",
       "        vertical-align: middle;\n",
       "    }\n",
       "\n",
       "    .dataframe tbody tr th {\n",
       "        vertical-align: top;\n",
       "    }\n",
       "\n",
       "    .dataframe thead th {\n",
       "        text-align: right;\n",
       "    }\n",
       "</style>\n",
       "<table border=\"1\" class=\"dataframe\">\n",
       "  <thead>\n",
       "    <tr style=\"text-align: right;\">\n",
       "      <th></th>\n",
       "      <th>index</th>\n",
       "      <th>tconst</th>\n",
       "      <th>titleType</th>\n",
       "      <th>primaryTitle</th>\n",
       "      <th>originalTitle</th>\n",
       "      <th>isAdult</th>\n",
       "      <th>startYear</th>\n",
       "      <th>endYear</th>\n",
       "      <th>runtimeMinutes</th>\n",
       "      <th>genres</th>\n",
       "    </tr>\n",
       "  </thead>\n",
       "  <tbody>\n",
       "    <tr>\n",
       "      <th>0</th>\n",
       "      <td>87501.0</td>\n",
       "      <td>tt0089435</td>\n",
       "      <td>short</td>\n",
       "      <td>Kokoa</td>\n",
       "      <td>Kokoa</td>\n",
       "      <td>0.0</td>\n",
       "      <td>2019.0</td>\n",
       "      <td>NaN</td>\n",
       "      <td>13.0</td>\n",
       "      <td>NaN</td>\n",
       "    </tr>\n",
       "    <tr>\n",
       "      <th>1</th>\n",
       "      <td>89512.0</td>\n",
       "      <td>tt0091490</td>\n",
       "      <td>short</td>\n",
       "      <td>Martina's Playhouse</td>\n",
       "      <td>Martina's Playhouse</td>\n",
       "      <td>0.0</td>\n",
       "      <td>2019.0</td>\n",
       "      <td>NaN</td>\n",
       "      <td>20.0</td>\n",
       "      <td>NaN</td>\n",
       "    </tr>\n",
       "    <tr>\n",
       "      <th>2</th>\n",
       "      <td>114407.0</td>\n",
       "      <td>tt0116991</td>\n",
       "      <td>movie</td>\n",
       "      <td>Mariette in Ecstasy</td>\n",
       "      <td>Mariette in Ecstasy</td>\n",
       "      <td>0.0</td>\n",
       "      <td>2019.0</td>\n",
       "      <td>NaN</td>\n",
       "      <td>NaN</td>\n",
       "      <td>NaN</td>\n",
       "    </tr>\n",
       "    <tr>\n",
       "      <th>3</th>\n",
       "      <td>126556.0</td>\n",
       "      <td>tt0129960</td>\n",
       "      <td>tvMovie</td>\n",
       "      <td>Eine geschlossene Gesellschaft</td>\n",
       "      <td>Eine geschlossene Gesellschaft</td>\n",
       "      <td>0.0</td>\n",
       "      <td>2019.0</td>\n",
       "      <td>NaN</td>\n",
       "      <td>NaN</td>\n",
       "      <td>NaN</td>\n",
       "    </tr>\n",
       "    <tr>\n",
       "      <th>4</th>\n",
       "      <td>166388.0</td>\n",
       "      <td>tt0172112</td>\n",
       "      <td>short</td>\n",
       "      <td>Ambulans</td>\n",
       "      <td>Ambulans</td>\n",
       "      <td>0.0</td>\n",
       "      <td>2019.0</td>\n",
       "      <td>NaN</td>\n",
       "      <td>11.0</td>\n",
       "      <td>NaN</td>\n",
       "    </tr>\n",
       "  </tbody>\n",
       "</table>\n",
       "</div>"
      ],
      "text/plain": [
       "      index     tconst titleType                    primaryTitle  \\\n",
       "0   87501.0  tt0089435     short                           Kokoa   \n",
       "1   89512.0  tt0091490     short             Martina's Playhouse   \n",
       "2  114407.0  tt0116991     movie             Mariette in Ecstasy   \n",
       "3  126556.0  tt0129960   tvMovie  Eine geschlossene Gesellschaft   \n",
       "4  166388.0  tt0172112     short                        Ambulans   \n",
       "\n",
       "                    originalTitle  isAdult  startYear  endYear  \\\n",
       "0                           Kokoa      0.0     2019.0      NaN   \n",
       "1             Martina's Playhouse      0.0     2019.0      NaN   \n",
       "2             Mariette in Ecstasy      0.0     2019.0      NaN   \n",
       "3  Eine geschlossene Gesellschaft      0.0     2019.0      NaN   \n",
       "4                        Ambulans      0.0     2019.0      NaN   \n",
       "\n",
       "   runtimeMinutes  genres  \n",
       "0            13.0     NaN  \n",
       "1            20.0     NaN  \n",
       "2             NaN     NaN  \n",
       "3             NaN     NaN  \n",
       "4            11.0     NaN  "
      ]
     },
     "execution_count": 26,
     "metadata": {},
     "output_type": "execute_result"
    }
   ],
   "source": [
    "imdb.head()"
   ]
  },
  {
   "cell_type": "markdown",
   "metadata": {},
   "source": [
    "### Unique types of titles"
   ]
  },
  {
   "cell_type": "code",
   "execution_count": 27,
   "metadata": {
    "ExecuteTime": {
     "end_time": "2020-02-29T11:13:08.109339Z",
     "start_time": "2020-02-29T11:13:08.092676Z"
    }
   },
   "outputs": [
    {
     "data": {
      "text/plain": [
       "array(['short', 'movie', 'tvMovie', 'video', 'tvSeries', 'tvEpisode',\n",
       "       'tvMiniSeries', 'tvSpecial', 'videoGame', 'tvShort'], dtype=object)"
      ]
     },
     "execution_count": 27,
     "metadata": {},
     "output_type": "execute_result"
    }
   ],
   "source": [
    "imdb[\"titleType\"].unique()"
   ]
  },
  {
   "cell_type": "code",
   "execution_count": 28,
   "metadata": {
    "ExecuteTime": {
     "end_time": "2020-02-29T11:13:08.539558Z",
     "start_time": "2020-02-29T11:13:08.508079Z"
    }
   },
   "outputs": [
    {
     "data": {
      "text/plain": [
       "10"
      ]
     },
     "execution_count": 28,
     "metadata": {},
     "output_type": "execute_result"
    }
   ],
   "source": [
    "# using python sets\n",
    "len(set(imdb[\"titleType\"]))"
   ]
  },
  {
   "cell_type": "code",
   "execution_count": 29,
   "metadata": {
    "ExecuteTime": {
     "end_time": "2020-02-29T11:13:08.999205Z",
     "start_time": "2020-02-29T11:13:08.984165Z"
    }
   },
   "outputs": [
    {
     "data": {
      "text/plain": [
       "10"
      ]
     },
     "execution_count": 29,
     "metadata": {},
     "output_type": "execute_result"
    }
   ],
   "source": [
    "# using unique\n",
    "len(imdb[\"titleType\"].unique())"
   ]
  },
  {
   "cell_type": "code",
   "execution_count": 30,
   "metadata": {
    "ExecuteTime": {
     "end_time": "2020-02-29T11:13:09.655384Z",
     "start_time": "2020-02-29T11:13:09.622236Z"
    }
   },
   "outputs": [
    {
     "name": "stdout",
     "output_type": "stream",
     "text": [
      "10\n"
     ]
    }
   ],
   "source": [
    "# using value_counts\n",
    "val_counts = imdb[\"titleType\"].value_counts()\n",
    "print(len(val_counts))"
   ]
  },
  {
   "cell_type": "markdown",
   "metadata": {},
   "source": [
    "### Slice `imdb` dataframe to return only the columns `titleType`, `primaryTitle`, `startYear`, and `runtimeMinutes`"
   ]
  },
  {
   "cell_type": "code",
   "execution_count": 31,
   "metadata": {
    "ExecuteTime": {
     "end_time": "2020-02-29T11:13:10.949962Z",
     "start_time": "2020-02-29T11:13:10.927989Z"
    }
   },
   "outputs": [
    {
     "data": {
      "text/html": [
       "<div>\n",
       "<style scoped>\n",
       "    .dataframe tbody tr th:only-of-type {\n",
       "        vertical-align: middle;\n",
       "    }\n",
       "\n",
       "    .dataframe tbody tr th {\n",
       "        vertical-align: top;\n",
       "    }\n",
       "\n",
       "    .dataframe thead th {\n",
       "        text-align: right;\n",
       "    }\n",
       "</style>\n",
       "<table border=\"1\" class=\"dataframe\">\n",
       "  <thead>\n",
       "    <tr style=\"text-align: right;\">\n",
       "      <th></th>\n",
       "      <th>titleType</th>\n",
       "      <th>primaryTitle</th>\n",
       "      <th>startYear</th>\n",
       "      <th>runtimeMinutes</th>\n",
       "    </tr>\n",
       "  </thead>\n",
       "  <tbody>\n",
       "    <tr>\n",
       "      <th>0</th>\n",
       "      <td>short</td>\n",
       "      <td>Kokoa</td>\n",
       "      <td>2019.0</td>\n",
       "      <td>13.0</td>\n",
       "    </tr>\n",
       "    <tr>\n",
       "      <th>1</th>\n",
       "      <td>short</td>\n",
       "      <td>Martina's Playhouse</td>\n",
       "      <td>2019.0</td>\n",
       "      <td>20.0</td>\n",
       "    </tr>\n",
       "    <tr>\n",
       "      <th>2</th>\n",
       "      <td>movie</td>\n",
       "      <td>Mariette in Ecstasy</td>\n",
       "      <td>2019.0</td>\n",
       "      <td>NaN</td>\n",
       "    </tr>\n",
       "    <tr>\n",
       "      <th>3</th>\n",
       "      <td>tvMovie</td>\n",
       "      <td>Eine geschlossene Gesellschaft</td>\n",
       "      <td>2019.0</td>\n",
       "      <td>NaN</td>\n",
       "    </tr>\n",
       "    <tr>\n",
       "      <th>4</th>\n",
       "      <td>short</td>\n",
       "      <td>Ambulans</td>\n",
       "      <td>2019.0</td>\n",
       "      <td>11.0</td>\n",
       "    </tr>\n",
       "    <tr>\n",
       "      <th>...</th>\n",
       "      <td>...</td>\n",
       "      <td>...</td>\n",
       "      <td>...</td>\n",
       "      <td>...</td>\n",
       "    </tr>\n",
       "    <tr>\n",
       "      <th>301334</th>\n",
       "      <td>tvEpisode</td>\n",
       "      <td>Talent Coaching with IMOR's Bianca Desmore Mit...</td>\n",
       "      <td>2019.0</td>\n",
       "      <td>NaN</td>\n",
       "    </tr>\n",
       "    <tr>\n",
       "      <th>301335</th>\n",
       "      <td>tvEpisode</td>\n",
       "      <td>Escape</td>\n",
       "      <td>2019.0</td>\n",
       "      <td>NaN</td>\n",
       "    </tr>\n",
       "    <tr>\n",
       "      <th>301336</th>\n",
       "      <td>tvEpisode</td>\n",
       "      <td>Tinne Oltmans</td>\n",
       "      <td>2019.0</td>\n",
       "      <td>NaN</td>\n",
       "    </tr>\n",
       "    <tr>\n",
       "      <th>301337</th>\n",
       "      <td>tvEpisode</td>\n",
       "      <td>Luc Janssens</td>\n",
       "      <td>2019.0</td>\n",
       "      <td>NaN</td>\n",
       "    </tr>\n",
       "    <tr>\n",
       "      <th>301338</th>\n",
       "      <td>tvEpisode</td>\n",
       "      <td>Danira Boukhriss Terkessidis</td>\n",
       "      <td>2019.0</td>\n",
       "      <td>NaN</td>\n",
       "    </tr>\n",
       "  </tbody>\n",
       "</table>\n",
       "<p>301339 rows × 4 columns</p>\n",
       "</div>"
      ],
      "text/plain": [
       "        titleType                                       primaryTitle  \\\n",
       "0           short                                              Kokoa   \n",
       "1           short                                Martina's Playhouse   \n",
       "2           movie                                Mariette in Ecstasy   \n",
       "3         tvMovie                     Eine geschlossene Gesellschaft   \n",
       "4           short                                           Ambulans   \n",
       "...           ...                                                ...   \n",
       "301334  tvEpisode  Talent Coaching with IMOR's Bianca Desmore Mit...   \n",
       "301335  tvEpisode                                             Escape   \n",
       "301336  tvEpisode                                      Tinne Oltmans   \n",
       "301337  tvEpisode                                       Luc Janssens   \n",
       "301338  tvEpisode                       Danira Boukhriss Terkessidis   \n",
       "\n",
       "        startYear  runtimeMinutes  \n",
       "0          2019.0            13.0  \n",
       "1          2019.0            20.0  \n",
       "2          2019.0             NaN  \n",
       "3          2019.0             NaN  \n",
       "4          2019.0            11.0  \n",
       "...           ...             ...  \n",
       "301334     2019.0             NaN  \n",
       "301335     2019.0             NaN  \n",
       "301336     2019.0             NaN  \n",
       "301337     2019.0             NaN  \n",
       "301338     2019.0             NaN  \n",
       "\n",
       "[301339 rows x 4 columns]"
      ]
     },
     "execution_count": 31,
     "metadata": {},
     "output_type": "execute_result"
    }
   ],
   "source": [
    "imdb[[\"titleType\", \"primaryTitle\", \"startYear\", \"runtimeMinutes\"]]"
   ]
  },
  {
   "cell_type": "markdown",
   "metadata": {},
   "source": [
    "### Create a subset of `imdb` named `tvEpisodes_2019` that only includes the type `tvEpisodes``"
   ]
  },
  {
   "cell_type": "code",
   "execution_count": 32,
   "metadata": {
    "ExecuteTime": {
     "end_time": "2020-02-29T11:13:12.286943Z",
     "start_time": "2020-02-29T11:13:12.240685Z"
    }
   },
   "outputs": [],
   "source": [
    "tvEpisodes_2019 = imdb.query(\"titleType == 'tvEpisode'\")"
   ]
  },
  {
   "cell_type": "code",
   "execution_count": 33,
   "metadata": {
    "ExecuteTime": {
     "end_time": "2020-02-29T11:13:12.691892Z",
     "start_time": "2020-02-29T11:13:12.647547Z"
    }
   },
   "outputs": [],
   "source": [
    "tvEpisodes_2019 = imdb[imdb[\"titleType\"]==\"tvEpisode\"]"
   ]
  },
  {
   "cell_type": "markdown",
   "metadata": {},
   "source": [
    "### Adult films percentage over total releases in 2019"
   ]
  },
  {
   "cell_type": "code",
   "execution_count": 34,
   "metadata": {
    "ExecuteTime": {
     "end_time": "2020-02-29T11:13:13.607969Z",
     "start_time": "2020-02-29T11:13:13.601300Z"
    }
   },
   "outputs": [
    {
     "data": {
      "text/plain": [
       "2.9684176293144926"
      ]
     },
     "execution_count": 34,
     "metadata": {},
     "output_type": "execute_result"
    }
   ],
   "source": [
    "imdb[\"isAdult\"].mean() * 100"
   ]
  },
  {
   "cell_type": "markdown",
   "metadata": {},
   "source": [
    "### Create a column containing number of words in the title"
   ]
  },
  {
   "cell_type": "code",
   "execution_count": 38,
   "metadata": {
    "ExecuteTime": {
     "end_time": "2020-02-29T11:13:28.930964Z",
     "start_time": "2020-02-29T11:13:28.745000Z"
    }
   },
   "outputs": [
    {
     "data": {
      "text/plain": [
       "Index(['index', 'tconst', 'titleType', 'primaryTitle', 'originalTitle',\n",
       "       'isAdult', 'startYear', 'endYear', 'runtimeMinutes', 'genres',\n",
       "       'words_in_title'],\n",
       "      dtype='object')"
      ]
     },
     "execution_count": 38,
     "metadata": {},
     "output_type": "execute_result"
    }
   ],
   "source": [
    "imdb[\"words_in_title\"] = imdb[\"primaryTitle\"].map(lambda title: len(str(title).split()))\n",
    "imdb.columns"
   ]
  },
  {
   "cell_type": "markdown",
   "metadata": {},
   "source": [
    "### Average `runtimeMinutes` for `short` type"
   ]
  },
  {
   "cell_type": "code",
   "execution_count": 36,
   "metadata": {
    "ExecuteTime": {
     "end_time": "2020-02-29T11:13:16.209615Z",
     "start_time": "2020-02-29T11:13:16.185270Z"
    }
   },
   "outputs": [
    {
     "data": {
      "text/plain": [
       "12.536104279390065"
      ]
     },
     "execution_count": 36,
     "metadata": {},
     "output_type": "execute_result"
    }
   ],
   "source": [
    "imdb.query(\"titleType == 'short'\")[\"runtimeMinutes\"].mean()"
   ]
  },
  {
   "cell_type": "markdown",
   "metadata": {},
   "source": [
    "### Filter `imdb` to return `tvMovie` type with 3 or more words in the title, and less than 75 minutes of `runTimeMinutes`"
   ]
  },
  {
   "cell_type": "code",
   "execution_count": 45,
   "metadata": {
    "ExecuteTime": {
     "end_time": "2020-02-29T11:47:23.193574Z",
     "start_time": "2020-02-29T11:47:23.148380Z"
    }
   },
   "outputs": [
    {
     "data": {
      "text/html": [
       "<div>\n",
       "<style scoped>\n",
       "    .dataframe tbody tr th:only-of-type {\n",
       "        vertical-align: middle;\n",
       "    }\n",
       "\n",
       "    .dataframe tbody tr th {\n",
       "        vertical-align: top;\n",
       "    }\n",
       "\n",
       "    .dataframe thead th {\n",
       "        text-align: right;\n",
       "    }\n",
       "</style>\n",
       "<table border=\"1\" class=\"dataframe\">\n",
       "  <thead>\n",
       "    <tr style=\"text-align: right;\">\n",
       "      <th></th>\n",
       "      <th>index</th>\n",
       "      <th>tconst</th>\n",
       "      <th>titleType</th>\n",
       "      <th>primaryTitle</th>\n",
       "      <th>originalTitle</th>\n",
       "      <th>isAdult</th>\n",
       "      <th>startYear</th>\n",
       "      <th>endYear</th>\n",
       "      <th>runtimeMinutes</th>\n",
       "      <th>genres</th>\n",
       "      <th>words_in_title</th>\n",
       "    </tr>\n",
       "  </thead>\n",
       "  <tbody>\n",
       "    <tr>\n",
       "      <th>10</th>\n",
       "      <td>290068.0</td>\n",
       "      <td>tt0302617</td>\n",
       "      <td>tvMovie</td>\n",
       "      <td>Great Bear Rainforest</td>\n",
       "      <td>Great Bear Rainforest</td>\n",
       "      <td>0.0</td>\n",
       "      <td>2019.0</td>\n",
       "      <td>NaN</td>\n",
       "      <td>41.0</td>\n",
       "      <td>NaN</td>\n",
       "      <td>3</td>\n",
       "    </tr>\n",
       "    <tr>\n",
       "      <th>77</th>\n",
       "      <td>970092.0</td>\n",
       "      <td>tt10002188</td>\n",
       "      <td>tvMovie</td>\n",
       "      <td>La Sagi, una pionera del Barça</td>\n",
       "      <td>La Sagi, una pionera del Barça</td>\n",
       "      <td>0.0</td>\n",
       "      <td>2019.0</td>\n",
       "      <td>NaN</td>\n",
       "      <td>54.0</td>\n",
       "      <td>NaN</td>\n",
       "      <td>6</td>\n",
       "    </tr>\n",
       "    <tr>\n",
       "      <th>655</th>\n",
       "      <td>972490.0</td>\n",
       "      <td>tt10006422</td>\n",
       "      <td>tvMovie</td>\n",
       "      <td>Warrior Women of Dahomey</td>\n",
       "      <td>Warrior Women of Dahomey</td>\n",
       "      <td>0.0</td>\n",
       "      <td>2019.0</td>\n",
       "      <td>NaN</td>\n",
       "      <td>60.0</td>\n",
       "      <td>NaN</td>\n",
       "      <td>4</td>\n",
       "    </tr>\n",
       "    <tr>\n",
       "      <th>870</th>\n",
       "      <td>974152.0</td>\n",
       "      <td>tt10009314</td>\n",
       "      <td>tvMovie</td>\n",
       "      <td>Peter Kraus: Immer in Bewegung</td>\n",
       "      <td>Peter Kraus: Immer in Bewegung</td>\n",
       "      <td>0.0</td>\n",
       "      <td>2019.0</td>\n",
       "      <td>NaN</td>\n",
       "      <td>59.0</td>\n",
       "      <td>NaN</td>\n",
       "      <td>5</td>\n",
       "    </tr>\n",
       "    <tr>\n",
       "      <th>1549</th>\n",
       "      <td>977406.0</td>\n",
       "      <td>tt10015036</td>\n",
       "      <td>tvMovie</td>\n",
       "      <td>Arts Across the Heartland</td>\n",
       "      <td>Arts Across the Heartland</td>\n",
       "      <td>0.0</td>\n",
       "      <td>2019.0</td>\n",
       "      <td>NaN</td>\n",
       "      <td>42.0</td>\n",
       "      <td>NaN</td>\n",
       "      <td>4</td>\n",
       "    </tr>\n",
       "    <tr>\n",
       "      <th>...</th>\n",
       "      <td>...</td>\n",
       "      <td>...</td>\n",
       "      <td>...</td>\n",
       "      <td>...</td>\n",
       "      <td>...</td>\n",
       "      <td>...</td>\n",
       "      <td>...</td>\n",
       "      <td>...</td>\n",
       "      <td>...</td>\n",
       "      <td>...</td>\n",
       "      <td>...</td>\n",
       "    </tr>\n",
       "    <tr>\n",
       "      <th>300451</th>\n",
       "      <td>6587871.0</td>\n",
       "      <td>tt9908916</td>\n",
       "      <td>tvMovie</td>\n",
       "      <td>Restless Legs Syndrome: The New Cure?</td>\n",
       "      <td>Restless Legs Syndrome: The New Cure?</td>\n",
       "      <td>0.0</td>\n",
       "      <td>2019.0</td>\n",
       "      <td>NaN</td>\n",
       "      <td>60.0</td>\n",
       "      <td>NaN</td>\n",
       "      <td>6</td>\n",
       "    </tr>\n",
       "    <tr>\n",
       "      <th>300975</th>\n",
       "      <td>6590161.0</td>\n",
       "      <td>tt9913680</td>\n",
       "      <td>tvMovie</td>\n",
       "      <td>Olympiad drömmen 2020</td>\n",
       "      <td>Olympiad drömmen 2020</td>\n",
       "      <td>0.0</td>\n",
       "      <td>2019.0</td>\n",
       "      <td>NaN</td>\n",
       "      <td>27.0</td>\n",
       "      <td>NaN</td>\n",
       "      <td>3</td>\n",
       "    </tr>\n",
       "    <tr>\n",
       "      <th>301155</th>\n",
       "      <td>6591048.0</td>\n",
       "      <td>tt9915520</td>\n",
       "      <td>tvMovie</td>\n",
       "      <td>Fascism i en svart bil</td>\n",
       "      <td>Fascism i en svart bil</td>\n",
       "      <td>0.0</td>\n",
       "      <td>2019.0</td>\n",
       "      <td>NaN</td>\n",
       "      <td>55.0</td>\n",
       "      <td>NaN</td>\n",
       "      <td>5</td>\n",
       "    </tr>\n",
       "    <tr>\n",
       "      <th>301240</th>\n",
       "      <td>6591316.0</td>\n",
       "      <td>tt9916112</td>\n",
       "      <td>tvMovie</td>\n",
       "      <td>A Priest, a Rabbi, and a Nun walk into a...</td>\n",
       "      <td>A Priest, a Rabbi, and a Nun walk into a...</td>\n",
       "      <td>0.0</td>\n",
       "      <td>2019.0</td>\n",
       "      <td>NaN</td>\n",
       "      <td>21.0</td>\n",
       "      <td>NaN</td>\n",
       "      <td>10</td>\n",
       "    </tr>\n",
       "    <tr>\n",
       "      <th>301247</th>\n",
       "      <td>6591353.0</td>\n",
       "      <td>tt9916192</td>\n",
       "      <td>tvMovie</td>\n",
       "      <td>Danielle Darrieux: Il est poli d'être gai!</td>\n",
       "      <td>Danielle Darrieux: Il est poli d'être gai!</td>\n",
       "      <td>0.0</td>\n",
       "      <td>2019.0</td>\n",
       "      <td>NaN</td>\n",
       "      <td>53.0</td>\n",
       "      <td>NaN</td>\n",
       "      <td>7</td>\n",
       "    </tr>\n",
       "  </tbody>\n",
       "</table>\n",
       "<p>642 rows × 11 columns</p>\n",
       "</div>"
      ],
      "text/plain": [
       "            index      tconst titleType  \\\n",
       "10       290068.0   tt0302617   tvMovie   \n",
       "77       970092.0  tt10002188   tvMovie   \n",
       "655      972490.0  tt10006422   tvMovie   \n",
       "870      974152.0  tt10009314   tvMovie   \n",
       "1549     977406.0  tt10015036   tvMovie   \n",
       "...           ...         ...       ...   \n",
       "300451  6587871.0   tt9908916   tvMovie   \n",
       "300975  6590161.0   tt9913680   tvMovie   \n",
       "301155  6591048.0   tt9915520   tvMovie   \n",
       "301240  6591316.0   tt9916112   tvMovie   \n",
       "301247  6591353.0   tt9916192   tvMovie   \n",
       "\n",
       "                                       primaryTitle  \\\n",
       "10                            Great Bear Rainforest   \n",
       "77                   La Sagi, una pionera del Barça   \n",
       "655                        Warrior Women of Dahomey   \n",
       "870                  Peter Kraus: Immer in Bewegung   \n",
       "1549                      Arts Across the Heartland   \n",
       "...                                             ...   \n",
       "300451        Restless Legs Syndrome: The New Cure?   \n",
       "300975                        Olympiad drömmen 2020   \n",
       "301155                       Fascism i en svart bil   \n",
       "301240  A Priest, a Rabbi, and a Nun walk into a...   \n",
       "301247   Danielle Darrieux: Il est poli d'être gai!   \n",
       "\n",
       "                                      originalTitle  isAdult  startYear  \\\n",
       "10                            Great Bear Rainforest      0.0     2019.0   \n",
       "77                   La Sagi, una pionera del Barça      0.0     2019.0   \n",
       "655                        Warrior Women of Dahomey      0.0     2019.0   \n",
       "870                  Peter Kraus: Immer in Bewegung      0.0     2019.0   \n",
       "1549                      Arts Across the Heartland      0.0     2019.0   \n",
       "...                                             ...      ...        ...   \n",
       "300451        Restless Legs Syndrome: The New Cure?      0.0     2019.0   \n",
       "300975                        Olympiad drömmen 2020      0.0     2019.0   \n",
       "301155                       Fascism i en svart bil      0.0     2019.0   \n",
       "301240  A Priest, a Rabbi, and a Nun walk into a...      0.0     2019.0   \n",
       "301247   Danielle Darrieux: Il est poli d'être gai!      0.0     2019.0   \n",
       "\n",
       "        endYear  runtimeMinutes  genres  words_in_title  \n",
       "10          NaN            41.0     NaN               3  \n",
       "77          NaN            54.0     NaN               6  \n",
       "655         NaN            60.0     NaN               4  \n",
       "870         NaN            59.0     NaN               5  \n",
       "1549        NaN            42.0     NaN               4  \n",
       "...         ...             ...     ...             ...  \n",
       "300451      NaN            60.0     NaN               6  \n",
       "300975      NaN            27.0     NaN               3  \n",
       "301155      NaN            55.0     NaN               5  \n",
       "301240      NaN            21.0     NaN              10  \n",
       "301247      NaN            53.0     NaN               7  \n",
       "\n",
       "[642 rows x 11 columns]"
      ]
     },
     "execution_count": 45,
     "metadata": {},
     "output_type": "execute_result"
    }
   ],
   "source": [
    "imdb[\n",
    "    (imdb[\"words_in_title\"] >= 3) &\n",
    "    (imdb[\"titleType\"] == \"tvMovie\") &\n",
    "    (imdb[\"runtimeMinutes\"] < 75)\n",
    "]"
   ]
  },
  {
   "cell_type": "code",
   "execution_count": null,
   "metadata": {},
   "outputs": [],
   "source": []
  }
 ],
 "metadata": {
  "kernelspec": {
   "display_name": "Python (mbd)",
   "language": "python",
   "name": "mbd"
  },
  "language_info": {
   "codemirror_mode": {
    "name": "ipython",
    "version": 3
   },
   "file_extension": ".py",
   "mimetype": "text/x-python",
   "name": "python",
   "nbconvert_exporter": "python",
   "pygments_lexer": "ipython3",
   "version": "3.8.0"
  },
  "toc": {
   "base_numbering": 1,
   "nav_menu": {},
   "number_sections": true,
   "sideBar": true,
   "skip_h1_title": false,
   "title_cell": "Table of Contents",
   "title_sidebar": "Contents",
   "toc_cell": false,
   "toc_position": {},
   "toc_section_display": true,
   "toc_window_display": false
  }
 },
 "nbformat": 4,
 "nbformat_minor": 2
}
