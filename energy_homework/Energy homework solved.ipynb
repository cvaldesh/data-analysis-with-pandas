{
 "cells": [
  {
   "cell_type": "markdown",
   "metadata": {},
   "source": [
    "# Energy in Spain: dataset"
   ]
  },
  {
   "cell_type": "markdown",
   "metadata": {},
   "source": [
    "The \"energy.csv\" dataset contains timeseries regarding the power market in Spain.\n",
    "\n",
    "Explanation of columns:\n",
    "* datetime: moment at which the observation happened, in UTC (https://en.wikipedia.org/wiki/Coordinated_Universal_Time)\n",
    "* power_demand: total consumption of electricity in MWh (MegaWatt-hours) [consumption]\n",
    "* nuclear: total energy generated in nuclear power plants in MWh [power generation]\n",
    "* gas: total energy generated in gas powered plants in MWh [power generation]\n",
    "* solar: total energy generated in solar farms in MWh [power generation]\n",
    "* hydro: total energy generated in hydro dams in MWh [power generation]\n",
    "* coal: total energy generated in coal powered plants in MWh [power generation]\n",
    "* wind: total energy generated in wind farms in MWh [power generation]\n",
    "* spot_price: price at which the energy is sold (generation) or bought (consumption) in €/MWh [price]"
   ]
  },
  {
   "cell_type": "markdown",
   "metadata": {},
   "source": [
    "### Import needed libraries"
   ]
  },
  {
   "cell_type": "code",
   "execution_count": 1,
   "metadata": {
    "ExecuteTime": {
     "end_time": "2020-04-04T11:45:34.935312Z",
     "start_time": "2020-04-04T11:45:32.813817Z"
    }
   },
   "outputs": [],
   "source": [
    "import pandas as pd\n",
    "import numpy as np\n",
    "import matplotlib.pyplot as plt\n",
    "%matplotlib inline"
   ]
  },
  {
   "cell_type": "markdown",
   "metadata": {},
   "source": [
    "### Get the data as a pandas Dataframe"
   ]
  },
  {
   "cell_type": "code",
   "execution_count": 2,
   "metadata": {
    "ExecuteTime": {
     "end_time": "2020-04-04T11:45:34.963075Z",
     "start_time": "2020-04-04T11:45:34.937952Z"
    }
   },
   "outputs": [],
   "source": [
    "# getting the data\n",
    "\n",
    "energy = pd.read_csv(\"energy.csv\")"
   ]
  },
  {
   "cell_type": "markdown",
   "metadata": {},
   "source": [
    "### Calculate the following"
   ]
  },
  {
   "cell_type": "markdown",
   "metadata": {},
   "source": [
    "#### Shape (1 p)"
   ]
  },
  {
   "cell_type": "code",
   "execution_count": 3,
   "metadata": {
    "ExecuteTime": {
     "end_time": "2020-04-04T11:45:36.837702Z",
     "start_time": "2020-04-04T11:45:36.830637Z"
    }
   },
   "outputs": [
    {
     "data": {
      "text/plain": [
       "(8737, 9)"
      ]
     },
     "execution_count": 3,
     "metadata": {},
     "output_type": "execute_result"
    }
   ],
   "source": [
    "energy.shape"
   ]
  },
  {
   "cell_type": "markdown",
   "metadata": {},
   "source": [
    "#### Create a list called \"features\" containing all the columns that are not \"datetime\" (1 p)"
   ]
  },
  {
   "cell_type": "code",
   "execution_count": 4,
   "metadata": {
    "ExecuteTime": {
     "end_time": "2020-04-04T11:45:38.165029Z",
     "start_time": "2020-04-04T11:45:38.156325Z"
    }
   },
   "outputs": [
    {
     "name": "stdout",
     "output_type": "stream",
     "text": [
      "['power_demand', 'nuclear', 'gas', 'solar', 'hydro', 'coal', 'wind', 'spot_price']\n",
      "['power_demand', 'nuclear', 'gas', 'solar', 'hydro', 'coal', 'wind', 'spot_price']\n",
      "['power_demand', 'nuclear', 'gas', 'solar', 'hydro', 'coal', 'wind', 'spot_price']\n"
     ]
    }
   ],
   "source": [
    "# use filter or list comprehensions or for loops or dark magic\n",
    "\n",
    "energy_columns = energy.columns\n",
    "\n",
    "# using filter plus lambda functions\n",
    "features = list(filter(lambda col: \"datetime\" not in col, energy_columns))\n",
    "print(features)\n",
    "\n",
    "# using list comprehensions\n",
    "features = [col for col in energy_columns if \"datetime\" not in col]\n",
    "print(features)\n",
    "\n",
    "# using for loop\n",
    "features = []\n",
    "for column in energy_columns:\n",
    "    if \"datetime\" not in column:\n",
    "        features.append(column)\n",
    "print(features)"
   ]
  },
  {
   "cell_type": "markdown",
   "metadata": {},
   "source": [
    "#### How many NaN are there in the dataset? (1 p)"
   ]
  },
  {
   "cell_type": "code",
   "execution_count": 5,
   "metadata": {
    "ExecuteTime": {
     "end_time": "2020-04-04T11:45:41.238303Z",
     "start_time": "2020-04-04T11:45:41.226961Z"
    }
   },
   "outputs": [
    {
     "data": {
      "text/plain": [
       "2541"
      ]
     },
     "execution_count": 5,
     "metadata": {},
     "output_type": "execute_result"
    }
   ],
   "source": [
    "# \"Dealing with missing values\" in the slides\n",
    "\n",
    "energy.isnull().sum().sum()"
   ]
  },
  {
   "cell_type": "markdown",
   "metadata": {},
   "source": [
    "#### Convert the \"datetime\" column into a Series containing datetime objects (0.5 p)"
   ]
  },
  {
   "cell_type": "code",
   "execution_count": 6,
   "metadata": {
    "ExecuteTime": {
     "end_time": "2020-04-04T11:45:45.263488Z",
     "start_time": "2020-04-04T11:45:45.108849Z"
    }
   },
   "outputs": [
    {
     "data": {
      "text/plain": [
       "datetime        datetime64[ns, UTC]\n",
       "power_demand                float64\n",
       "nuclear                     float64\n",
       "gas                         float64\n",
       "solar                       float64\n",
       "hydro                       float64\n",
       "coal                        float64\n",
       "wind                        float64\n",
       "spot_price                  float64\n",
       "dtype: object"
      ]
     },
     "execution_count": 6,
     "metadata": {},
     "output_type": "execute_result"
    }
   ],
   "source": [
    "# pandas datetime functionalities\n",
    "energy[\"datetime\"] = pd.to_datetime(energy[\"datetime\"], utc=True)\n",
    "\n",
    "energy.dtypes"
   ]
  },
  {
   "cell_type": "markdown",
   "metadata": {
    "ExecuteTime": {
     "end_time": "2020-03-06T21:06:59.967351Z",
     "start_time": "2020-03-06T21:06:59.960999Z"
    }
   },
   "source": [
    "#### Create the following columns (0.5 p)\n",
    "* year\n",
    "* month\n",
    "* day\n",
    "* hour\n",
    "* weekday"
   ]
  },
  {
   "cell_type": "code",
   "execution_count": 7,
   "metadata": {
    "ExecuteTime": {
     "end_time": "2020-04-04T11:45:57.945596Z",
     "start_time": "2020-04-04T11:45:57.910002Z"
    }
   },
   "outputs": [
    {
     "data": {
      "text/html": [
       "<div>\n",
       "<style scoped>\n",
       "    .dataframe tbody tr th:only-of-type {\n",
       "        vertical-align: middle;\n",
       "    }\n",
       "\n",
       "    .dataframe tbody tr th {\n",
       "        vertical-align: top;\n",
       "    }\n",
       "\n",
       "    .dataframe thead th {\n",
       "        text-align: right;\n",
       "    }\n",
       "</style>\n",
       "<table border=\"1\" class=\"dataframe\">\n",
       "  <thead>\n",
       "    <tr style=\"text-align: right;\">\n",
       "      <th></th>\n",
       "      <th>datetime</th>\n",
       "      <th>power_demand</th>\n",
       "      <th>nuclear</th>\n",
       "      <th>gas</th>\n",
       "      <th>solar</th>\n",
       "      <th>hydro</th>\n",
       "      <th>coal</th>\n",
       "      <th>wind</th>\n",
       "      <th>spot_price</th>\n",
       "      <th>date</th>\n",
       "      <th>year</th>\n",
       "      <th>month</th>\n",
       "      <th>day</th>\n",
       "      <th>hour</th>\n",
       "      <th>weekday</th>\n",
       "    </tr>\n",
       "  </thead>\n",
       "  <tbody>\n",
       "    <tr>\n",
       "      <th>0</th>\n",
       "      <td>2018-12-31 23:00:00+00:00</td>\n",
       "      <td>23251.2</td>\n",
       "      <td>6059.2</td>\n",
       "      <td>2954.0</td>\n",
       "      <td>7.1</td>\n",
       "      <td>3202.8</td>\n",
       "      <td>1867.0</td>\n",
       "      <td>3830.3</td>\n",
       "      <td>66.88</td>\n",
       "      <td>2018-12-31</td>\n",
       "      <td>2018</td>\n",
       "      <td>12</td>\n",
       "      <td>31</td>\n",
       "      <td>23</td>\n",
       "      <td>0</td>\n",
       "    </tr>\n",
       "    <tr>\n",
       "      <th>1</th>\n",
       "      <td>2019-01-01 00:00:00+00:00</td>\n",
       "      <td>22485.0</td>\n",
       "      <td>6059.2</td>\n",
       "      <td>3044.1</td>\n",
       "      <td>8.0</td>\n",
       "      <td>2884.4</td>\n",
       "      <td>1618.0</td>\n",
       "      <td>3172.1</td>\n",
       "      <td>66.88</td>\n",
       "      <td>2019-01-01</td>\n",
       "      <td>2019</td>\n",
       "      <td>1</td>\n",
       "      <td>1</td>\n",
       "      <td>0</td>\n",
       "      <td>1</td>\n",
       "    </tr>\n",
       "    <tr>\n",
       "      <th>2</th>\n",
       "      <td>2019-01-01 01:00:00+00:00</td>\n",
       "      <td>20977.0</td>\n",
       "      <td>6059.2</td>\n",
       "      <td>3138.6</td>\n",
       "      <td>7.5</td>\n",
       "      <td>1950.8</td>\n",
       "      <td>1535.3</td>\n",
       "      <td>2980.5</td>\n",
       "      <td>66.00</td>\n",
       "      <td>2019-01-01</td>\n",
       "      <td>2019</td>\n",
       "      <td>1</td>\n",
       "      <td>1</td>\n",
       "      <td>1</td>\n",
       "      <td>1</td>\n",
       "    </tr>\n",
       "    <tr>\n",
       "      <th>3</th>\n",
       "      <td>2019-01-01 02:00:00+00:00</td>\n",
       "      <td>19754.2</td>\n",
       "      <td>6059.2</td>\n",
       "      <td>3596.2</td>\n",
       "      <td>7.5</td>\n",
       "      <td>1675.7</td>\n",
       "      <td>1344.0</td>\n",
       "      <td>2840.0</td>\n",
       "      <td>63.64</td>\n",
       "      <td>2019-01-01</td>\n",
       "      <td>2019</td>\n",
       "      <td>1</td>\n",
       "      <td>1</td>\n",
       "      <td>2</td>\n",
       "      <td>1</td>\n",
       "    </tr>\n",
       "    <tr>\n",
       "      <th>4</th>\n",
       "      <td>2019-01-01 03:00:00+00:00</td>\n",
       "      <td>19320.6</td>\n",
       "      <td>6063.4</td>\n",
       "      <td>3192.6</td>\n",
       "      <td>7.5</td>\n",
       "      <td>1581.8</td>\n",
       "      <td>1345.0</td>\n",
       "      <td>3253.4</td>\n",
       "      <td>58.85</td>\n",
       "      <td>2019-01-01</td>\n",
       "      <td>2019</td>\n",
       "      <td>1</td>\n",
       "      <td>1</td>\n",
       "      <td>3</td>\n",
       "      <td>1</td>\n",
       "    </tr>\n",
       "  </tbody>\n",
       "</table>\n",
       "</div>"
      ],
      "text/plain": [
       "                   datetime  power_demand  nuclear     gas  solar   hydro  \\\n",
       "0 2018-12-31 23:00:00+00:00       23251.2   6059.2  2954.0    7.1  3202.8   \n",
       "1 2019-01-01 00:00:00+00:00       22485.0   6059.2  3044.1    8.0  2884.4   \n",
       "2 2019-01-01 01:00:00+00:00       20977.0   6059.2  3138.6    7.5  1950.8   \n",
       "3 2019-01-01 02:00:00+00:00       19754.2   6059.2  3596.2    7.5  1675.7   \n",
       "4 2019-01-01 03:00:00+00:00       19320.6   6063.4  3192.6    7.5  1581.8   \n",
       "\n",
       "     coal    wind  spot_price        date  year  month  day  hour  weekday  \n",
       "0  1867.0  3830.3       66.88  2018-12-31  2018     12   31    23        0  \n",
       "1  1618.0  3172.1       66.88  2019-01-01  2019      1    1     0        1  \n",
       "2  1535.3  2980.5       66.00  2019-01-01  2019      1    1     1        1  \n",
       "3  1344.0  2840.0       63.64  2019-01-01  2019      1    1     2        1  \n",
       "4  1345.0  3253.4       58.85  2019-01-01  2019      1    1     3        1  "
      ]
     },
     "execution_count": 7,
     "metadata": {},
     "output_type": "execute_result"
    }
   ],
   "source": [
    "# pandas datetime functionalities\n",
    "\n",
    "energy[\"date\"] = energy[\"datetime\"].dt.date\n",
    "energy[\"year\"] = energy[\"datetime\"].dt.year\n",
    "energy[\"month\"] = energy[\"datetime\"].dt.month\n",
    "energy[\"day\"] = energy[\"datetime\"].dt.day\n",
    "energy[\"hour\"] = energy[\"datetime\"].dt.hour\n",
    "energy[\"weekday\"] = energy[\"datetime\"].dt.weekday\n",
    "\n",
    "\n",
    "energy.head()"
   ]
  },
  {
   "cell_type": "markdown",
   "metadata": {},
   "source": [
    "#### Create a \"weekend\" column containing True if day is Sat/Sun or False if day is Mon/Tue/... (1 p)"
   ]
  },
  {
   "cell_type": "code",
   "execution_count": 8,
   "metadata": {
    "ExecuteTime": {
     "end_time": "2020-04-04T11:46:08.340625Z",
     "start_time": "2020-04-04T11:46:08.328591Z"
    }
   },
   "outputs": [],
   "source": [
    "# feature engineering\n",
    "# use your already beloved (map + lambda functions)\n",
    "# or list comprehensions\n",
    "\n",
    "# using np.where\n",
    "energy[\"weekend\"] = np.where(energy[\"weekday\"]>4, 1, 0)\n",
    "\n",
    "#using map + lambda functions\n",
    "energy[\"weekend\"] = energy[\"weekday\"].map(lambda x: x>4)\n",
    "\n",
    "# using list comprehensions\n",
    "energy[\"weekend\"] = [True if wkd>4 else False for wkd in energy[\"weekday\"]]"
   ]
  },
  {
   "cell_type": "markdown",
   "metadata": {},
   "source": [
    "#### Calculate the average values per weekday for the columns in \"features\" list (1 p)"
   ]
  },
  {
   "cell_type": "code",
   "execution_count": 9,
   "metadata": {
    "ExecuteTime": {
     "end_time": "2020-04-04T11:46:11.032103Z",
     "start_time": "2020-04-04T11:46:11.009359Z"
    }
   },
   "outputs": [
    {
     "data": {
      "text/html": [
       "<div>\n",
       "<style scoped>\n",
       "    .dataframe tbody tr th:only-of-type {\n",
       "        vertical-align: middle;\n",
       "    }\n",
       "\n",
       "    .dataframe tbody tr th {\n",
       "        vertical-align: top;\n",
       "    }\n",
       "\n",
       "    .dataframe thead th {\n",
       "        text-align: right;\n",
       "    }\n",
       "</style>\n",
       "<table border=\"1\" class=\"dataframe\">\n",
       "  <thead>\n",
       "    <tr style=\"text-align: right;\">\n",
       "      <th></th>\n",
       "      <th>power_demand</th>\n",
       "      <th>nuclear</th>\n",
       "      <th>gas</th>\n",
       "      <th>solar</th>\n",
       "      <th>hydro</th>\n",
       "      <th>coal</th>\n",
       "      <th>wind</th>\n",
       "      <th>spot_price</th>\n",
       "    </tr>\n",
       "    <tr>\n",
       "      <th>weekday</th>\n",
       "      <th></th>\n",
       "      <th></th>\n",
       "      <th></th>\n",
       "      <th></th>\n",
       "      <th></th>\n",
       "      <th></th>\n",
       "      <th></th>\n",
       "      <th></th>\n",
       "    </tr>\n",
       "  </thead>\n",
       "  <tbody>\n",
       "    <tr>\n",
       "      <th>0</th>\n",
       "      <td>29207.582306</td>\n",
       "      <td>6390.911769</td>\n",
       "      <td>6483.540032</td>\n",
       "      <td>1382.902420</td>\n",
       "      <td>2919.916173</td>\n",
       "      <td>1282.017737</td>\n",
       "      <td>5846.823379</td>\n",
       "      <td>49.239688</td>\n",
       "    </tr>\n",
       "    <tr>\n",
       "      <th>1</th>\n",
       "      <td>29760.259375</td>\n",
       "      <td>6391.128526</td>\n",
       "      <td>6716.402003</td>\n",
       "      <td>1400.603377</td>\n",
       "      <td>2870.550401</td>\n",
       "      <td>1478.384477</td>\n",
       "      <td>5795.669712</td>\n",
       "      <td>50.202580</td>\n",
       "    </tr>\n",
       "    <tr>\n",
       "      <th>2</th>\n",
       "      <td>29814.897436</td>\n",
       "      <td>6399.605689</td>\n",
       "      <td>6448.102244</td>\n",
       "      <td>1386.101098</td>\n",
       "      <td>2856.419471</td>\n",
       "      <td>1444.195997</td>\n",
       "      <td>6451.173798</td>\n",
       "      <td>48.811442</td>\n",
       "    </tr>\n",
       "    <tr>\n",
       "      <th>3</th>\n",
       "      <td>29913.133253</td>\n",
       "      <td>6408.186458</td>\n",
       "      <td>6404.798397</td>\n",
       "      <td>1396.425420</td>\n",
       "      <td>2904.324439</td>\n",
       "      <td>1364.827287</td>\n",
       "      <td>6452.391747</td>\n",
       "      <td>48.817388</td>\n",
       "    </tr>\n",
       "    <tr>\n",
       "      <th>4</th>\n",
       "      <td>29587.505689</td>\n",
       "      <td>6404.227003</td>\n",
       "      <td>6362.183894</td>\n",
       "      <td>1437.464229</td>\n",
       "      <td>3027.978526</td>\n",
       "      <td>1294.994618</td>\n",
       "      <td>6071.198638</td>\n",
       "      <td>48.785793</td>\n",
       "    </tr>\n",
       "    <tr>\n",
       "      <th>5</th>\n",
       "      <td>26545.257933</td>\n",
       "      <td>6325.359535</td>\n",
       "      <td>4965.318109</td>\n",
       "      <td>1418.782988</td>\n",
       "      <td>2604.202644</td>\n",
       "      <td>1057.801583</td>\n",
       "      <td>5826.916346</td>\n",
       "      <td>45.429864</td>\n",
       "    </tr>\n",
       "    <tr>\n",
       "      <th>6</th>\n",
       "      <td>24759.381490</td>\n",
       "      <td>6353.419231</td>\n",
       "      <td>4089.475000</td>\n",
       "      <td>1373.876790</td>\n",
       "      <td>2439.531651</td>\n",
       "      <td>912.083292</td>\n",
       "      <td>6061.215064</td>\n",
       "      <td>42.653966</td>\n",
       "    </tr>\n",
       "  </tbody>\n",
       "</table>\n",
       "</div>"
      ],
      "text/plain": [
       "         power_demand      nuclear          gas        solar        hydro  \\\n",
       "weekday                                                                     \n",
       "0        29207.582306  6390.911769  6483.540032  1382.902420  2919.916173   \n",
       "1        29760.259375  6391.128526  6716.402003  1400.603377  2870.550401   \n",
       "2        29814.897436  6399.605689  6448.102244  1386.101098  2856.419471   \n",
       "3        29913.133253  6408.186458  6404.798397  1396.425420  2904.324439   \n",
       "4        29587.505689  6404.227003  6362.183894  1437.464229  3027.978526   \n",
       "5        26545.257933  6325.359535  4965.318109  1418.782988  2604.202644   \n",
       "6        24759.381490  6353.419231  4089.475000  1373.876790  2439.531651   \n",
       "\n",
       "                coal         wind  spot_price  \n",
       "weekday                                        \n",
       "0        1282.017737  5846.823379   49.239688  \n",
       "1        1478.384477  5795.669712   50.202580  \n",
       "2        1444.195997  6451.173798   48.811442  \n",
       "3        1364.827287  6452.391747   48.817388  \n",
       "4        1294.994618  6071.198638   48.785793  \n",
       "5        1057.801583  5826.916346   45.429864  \n",
       "6         912.083292  6061.215064   42.653966  "
      ]
     },
     "execution_count": 9,
     "metadata": {},
     "output_type": "execute_result"
    }
   ],
   "source": [
    "# features is the list you created in the beginning\n",
    "\n",
    "energy.groupby(\"weekday\").mean()[features]"
   ]
  },
  {
   "cell_type": "markdown",
   "metadata": {},
   "source": [
    "#### Create a function that returns the season out of a datetime object (0.5 p)\n",
    "Use that function to create a \"season\" column"
   ]
  },
  {
   "cell_type": "code",
   "execution_count": 12,
   "metadata": {
    "ExecuteTime": {
     "end_time": "2020-04-04T11:46:37.593754Z",
     "start_time": "2020-04-04T11:46:37.503018Z"
    }
   },
   "outputs": [
    {
     "data": {
      "text/html": [
       "<div>\n",
       "<style scoped>\n",
       "    .dataframe tbody tr th:only-of-type {\n",
       "        vertical-align: middle;\n",
       "    }\n",
       "\n",
       "    .dataframe tbody tr th {\n",
       "        vertical-align: top;\n",
       "    }\n",
       "\n",
       "    .dataframe thead th {\n",
       "        text-align: right;\n",
       "    }\n",
       "</style>\n",
       "<table border=\"1\" class=\"dataframe\">\n",
       "  <thead>\n",
       "    <tr style=\"text-align: right;\">\n",
       "      <th></th>\n",
       "      <th>datetime</th>\n",
       "      <th>power_demand</th>\n",
       "      <th>nuclear</th>\n",
       "      <th>gas</th>\n",
       "      <th>solar</th>\n",
       "      <th>hydro</th>\n",
       "      <th>coal</th>\n",
       "      <th>wind</th>\n",
       "      <th>spot_price</th>\n",
       "      <th>date</th>\n",
       "      <th>year</th>\n",
       "      <th>month</th>\n",
       "      <th>day</th>\n",
       "      <th>hour</th>\n",
       "      <th>weekday</th>\n",
       "      <th>weekend</th>\n",
       "      <th>season</th>\n",
       "    </tr>\n",
       "  </thead>\n",
       "  <tbody>\n",
       "    <tr>\n",
       "      <th>5439</th>\n",
       "      <td>2019-08-15 14:00:00+00:00</td>\n",
       "      <td>27925.2</td>\n",
       "      <td>6927.8</td>\n",
       "      <td>8046.7</td>\n",
       "      <td>3514.6</td>\n",
       "      <td>1193.2</td>\n",
       "      <td>481.4</td>\n",
       "      <td>2966.4</td>\n",
       "      <td>39.51</td>\n",
       "      <td>2019-08-15</td>\n",
       "      <td>2019</td>\n",
       "      <td>8</td>\n",
       "      <td>15</td>\n",
       "      <td>14</td>\n",
       "      <td>3</td>\n",
       "      <td>False</td>\n",
       "      <td>summer</td>\n",
       "    </tr>\n",
       "    <tr>\n",
       "      <th>6277</th>\n",
       "      <td>2019-09-19 12:00:00+00:00</td>\n",
       "      <td>33060.3</td>\n",
       "      <td>6967.5</td>\n",
       "      <td>11900.7</td>\n",
       "      <td>3725.1</td>\n",
       "      <td>1939.5</td>\n",
       "      <td>740.0</td>\n",
       "      <td>982.7</td>\n",
       "      <td>50.49</td>\n",
       "      <td>2019-09-19</td>\n",
       "      <td>2019</td>\n",
       "      <td>9</td>\n",
       "      <td>19</td>\n",
       "      <td>12</td>\n",
       "      <td>3</td>\n",
       "      <td>False</td>\n",
       "      <td>summer</td>\n",
       "    </tr>\n",
       "    <tr>\n",
       "      <th>7974</th>\n",
       "      <td>2019-11-29 05:00:00+00:00</td>\n",
       "      <td>26966.1</td>\n",
       "      <td>4996.1</td>\n",
       "      <td>5544.7</td>\n",
       "      <td>NaN</td>\n",
       "      <td>4250.3</td>\n",
       "      <td>545.5</td>\n",
       "      <td>6425.6</td>\n",
       "      <td>46.31</td>\n",
       "      <td>2019-11-29</td>\n",
       "      <td>2019</td>\n",
       "      <td>11</td>\n",
       "      <td>29</td>\n",
       "      <td>5</td>\n",
       "      <td>4</td>\n",
       "      <td>False</td>\n",
       "      <td>fall</td>\n",
       "    </tr>\n",
       "    <tr>\n",
       "      <th>2857</th>\n",
       "      <td>2019-04-30 00:00:00+00:00</td>\n",
       "      <td>22103.6</td>\n",
       "      <td>6101.1</td>\n",
       "      <td>3178.5</td>\n",
       "      <td>0.6</td>\n",
       "      <td>2445.6</td>\n",
       "      <td>1124.2</td>\n",
       "      <td>2862.1</td>\n",
       "      <td>58.71</td>\n",
       "      <td>2019-04-30</td>\n",
       "      <td>2019</td>\n",
       "      <td>4</td>\n",
       "      <td>30</td>\n",
       "      <td>0</td>\n",
       "      <td>1</td>\n",
       "      <td>False</td>\n",
       "      <td>spring</td>\n",
       "    </tr>\n",
       "    <tr>\n",
       "      <th>7391</th>\n",
       "      <td>2019-11-04 22:00:00+00:00</td>\n",
       "      <td>25719.4</td>\n",
       "      <td>4989.4</td>\n",
       "      <td>2990.0</td>\n",
       "      <td>0.9</td>\n",
       "      <td>1583.7</td>\n",
       "      <td>477.5</td>\n",
       "      <td>14182.1</td>\n",
       "      <td>27.01</td>\n",
       "      <td>2019-11-04</td>\n",
       "      <td>2019</td>\n",
       "      <td>11</td>\n",
       "      <td>4</td>\n",
       "      <td>22</td>\n",
       "      <td>0</td>\n",
       "      <td>False</td>\n",
       "      <td>fall</td>\n",
       "    </tr>\n",
       "  </tbody>\n",
       "</table>\n",
       "</div>"
      ],
      "text/plain": [
       "                      datetime  power_demand  nuclear      gas   solar  \\\n",
       "5439 2019-08-15 14:00:00+00:00       27925.2   6927.8   8046.7  3514.6   \n",
       "6277 2019-09-19 12:00:00+00:00       33060.3   6967.5  11900.7  3725.1   \n",
       "7974 2019-11-29 05:00:00+00:00       26966.1   4996.1   5544.7     NaN   \n",
       "2857 2019-04-30 00:00:00+00:00       22103.6   6101.1   3178.5     0.6   \n",
       "7391 2019-11-04 22:00:00+00:00       25719.4   4989.4   2990.0     0.9   \n",
       "\n",
       "       hydro    coal     wind  spot_price        date  year  month  day  hour  \\\n",
       "5439  1193.2   481.4   2966.4       39.51  2019-08-15  2019      8   15    14   \n",
       "6277  1939.5   740.0    982.7       50.49  2019-09-19  2019      9   19    12   \n",
       "7974  4250.3   545.5   6425.6       46.31  2019-11-29  2019     11   29     5   \n",
       "2857  2445.6  1124.2   2862.1       58.71  2019-04-30  2019      4   30     0   \n",
       "7391  1583.7   477.5  14182.1       27.01  2019-11-04  2019     11    4    22   \n",
       "\n",
       "      weekday  weekend  season  \n",
       "5439        3    False  summer  \n",
       "6277        3    False  summer  \n",
       "7974        4    False    fall  \n",
       "2857        1    False  spring  \n",
       "7391        0    False    fall  "
      ]
     },
     "execution_count": 12,
     "metadata": {},
     "output_type": "execute_result"
    }
   ],
   "source": [
    "# easy peasy\n",
    "\n",
    "from datetime import date\n",
    "\n",
    "def get_season(date_to_convert):  # the function expects a datetime.date object as input\n",
    "    \n",
    "    # fix the year of the input\n",
    "    date_year = date_to_convert.year\n",
    "    \n",
    "    # create the list of tuples on which to loop\n",
    "    seasons = [\n",
    "        (\"winter\", date(date_year, 12, 21), date(date_year, 12, 31)),\n",
    "        (\"spring\", date(date_year, 3, 20), date(date_year, 6, 21)),\n",
    "        (\"summer\", date(date_year, 6, 22), date(date_year, 9, 21)),\n",
    "        (\"fall\", date(date_year, 9, 22), date(date_year, 12, 20)),\n",
    "        (\"winter\", date(date_year, 1, 1), date(date_year, 3, 19))\n",
    "    ]\n",
    "    \n",
    "    # loop for each season trying to find the season to which\n",
    "    # date_to_convert belongs to\n",
    "    for elem in seasons:  # season = tuple(name, start, end) = (elem[0], elem[1], elem[2])\n",
    "        if date_to_convert>=elem[1] and date_to_convert<=elem[2]:  \n",
    "            return elem[0]\n",
    "        \n",
    "energy[\"season\"] = energy[\"datetime\"].map(get_season)\n",
    "\n",
    "energy.sample(5)"
   ]
  },
  {
   "cell_type": "markdown",
   "metadata": {},
   "source": [
    "#### Calculate average demand and spot_price for each season (1 p)"
   ]
  },
  {
   "cell_type": "code",
   "execution_count": 13,
   "metadata": {
    "ExecuteTime": {
     "end_time": "2020-04-04T11:46:50.652489Z",
     "start_time": "2020-04-04T11:46:50.639050Z"
    }
   },
   "outputs": [
    {
     "data": {
      "text/html": [
       "<div>\n",
       "<style scoped>\n",
       "    .dataframe tbody tr th:only-of-type {\n",
       "        vertical-align: middle;\n",
       "    }\n",
       "\n",
       "    .dataframe tbody tr th {\n",
       "        vertical-align: top;\n",
       "    }\n",
       "\n",
       "    .dataframe thead th {\n",
       "        text-align: right;\n",
       "    }\n",
       "</style>\n",
       "<table border=\"1\" class=\"dataframe\">\n",
       "  <thead>\n",
       "    <tr style=\"text-align: right;\">\n",
       "      <th></th>\n",
       "      <th>power_demand</th>\n",
       "      <th>spot_price</th>\n",
       "    </tr>\n",
       "    <tr>\n",
       "      <th>season</th>\n",
       "      <th></th>\n",
       "      <th></th>\n",
       "    </tr>\n",
       "  </thead>\n",
       "  <tbody>\n",
       "    <tr>\n",
       "      <th>fall</th>\n",
       "      <td>28242.443241</td>\n",
       "      <td>43.562639</td>\n",
       "    </tr>\n",
       "    <tr>\n",
       "      <th>spring</th>\n",
       "      <td>27157.150399</td>\n",
       "      <td>48.790598</td>\n",
       "    </tr>\n",
       "    <tr>\n",
       "      <th>summer</th>\n",
       "      <td>29235.177536</td>\n",
       "      <td>46.509909</td>\n",
       "    </tr>\n",
       "    <tr>\n",
       "      <th>winter</th>\n",
       "      <td>29481.103975</td>\n",
       "      <td>52.033360</td>\n",
       "    </tr>\n",
       "  </tbody>\n",
       "</table>\n",
       "</div>"
      ],
      "text/plain": [
       "        power_demand  spot_price\n",
       "season                          \n",
       "fall    28242.443241   43.562639\n",
       "spring  27157.150399   48.790598\n",
       "summer  29235.177536   46.509909\n",
       "winter  29481.103975   52.033360"
      ]
     },
     "execution_count": 13,
     "metadata": {},
     "output_type": "execute_result"
    }
   ],
   "source": [
    "energy.groupby(\"season\")[[\"power_demand\", \"spot_price\"]].mean()"
   ]
  },
  {
   "cell_type": "markdown",
   "metadata": {},
   "source": [
    "#### Why are there so many NaN values in the \"solar\" column? (0.5 p)"
   ]
  },
  {
   "cell_type": "code",
   "execution_count": 14,
   "metadata": {
    "ExecuteTime": {
     "end_time": "2020-04-04T11:47:09.638688Z",
     "start_time": "2020-04-04T11:47:09.631446Z"
    }
   },
   "outputs": [
    {
     "name": "stdout",
     "output_type": "stream",
     "text": [
      "2392\n"
     ]
    }
   ],
   "source": [
    "print(energy[\"solar\"].isnull().sum())"
   ]
  },
  {
   "cell_type": "code",
   "execution_count": 27,
   "metadata": {
    "ExecuteTime": {
     "end_time": "2020-04-04T12:03:06.418818Z",
     "start_time": "2020-04-04T12:03:06.144964Z"
    }
   },
   "outputs": [
    {
     "data": {
      "text/plain": [
       "<matplotlib.axes._subplots.AxesSubplot at 0x11b0815e0>"
      ]
     },
     "execution_count": 27,
     "metadata": {},
     "output_type": "execute_result"
    },
    {
     "data": {
      "image/png": "[encoded data removed]",
      "text/plain": [
       "<Figure size 1080x288 with 1 Axes>"
      ]
     },
     "metadata": {
      "needs_background": "light"
     },
     "output_type": "display_data"
    }
   ],
   "source": [
    "energy[\"solar_nan\"] = energy[\"solar\"].map(lambda x: 1*(np.isnan(x)))\n",
    "\n",
    "energy.groupby(\"hour\").sum()[[\"solar_nan\"]].plot(figsize=(15, 4))"
   ]
  },
  {
   "cell_type": "markdown",
   "metadata": {},
   "source": [
    "It looks clear that the NaN values in the solar timeseries correspond with nighttime hours. That's why there are so many NaN values!"
   ]
  },
  {
   "cell_type": "markdown",
   "metadata": {},
   "source": [
    "#### Calculate the total income for each type of power generation and total costs for consumption (4 p) \n",
    "Return a dictionary like the following one:\n",
    "\n",
    "{ \"consumption\": cost_consumption, \"wind\": income_wind, \"solar\": income_solar, \"gas\": income_gas, ...} "
   ]
  },
  {
   "cell_type": "code",
   "execution_count": 28,
   "metadata": {
    "ExecuteTime": {
     "end_time": "2020-04-04T12:04:29.320523Z",
     "start_time": "2020-04-04T12:04:29.296344Z"
    }
   },
   "outputs": [
    {
     "data": {
      "text/plain": [
       "{'power_demand': 12115827296.223999,\n",
       " 'nuclear': 2674992442.1679997,\n",
       " 'gas': 2577997502.639,\n",
       " 'solar': 430157479.785,\n",
       " 'hydro': 1179143190.696,\n",
       " 'coal': 591516973.36,\n",
       " 'wind': 2412917661.565}"
      ]
     },
     "execution_count": 28,
     "metadata": {},
     "output_type": "execute_result"
    }
   ],
   "source": [
    "# Income = energy_generated * price\n",
    "# Cost = energy_bought * price\n",
    "\n",
    "dict_cost_income = {}\n",
    "features_not_price = [feature for feature in features if feature != \"spot_price\"]\n",
    "\n",
    "for col in features_not_price:\n",
    "    dict_cost_income[col] = np.sum(energy[col] * energy[\"spot_price\"])\n",
    "    \n",
    "dict_cost_income"
   ]
  },
  {
   "cell_type": "markdown",
   "metadata": {},
   "source": [
    "#### Create two plots: (2 p)\n",
    "* Hourly average power demand\n",
    "* Hourly average spot price"
   ]
  },
  {
   "cell_type": "code",
   "execution_count": 29,
   "metadata": {
    "ExecuteTime": {
     "end_time": "2020-04-04T12:05:34.482187Z",
     "start_time": "2020-04-04T12:05:34.084351Z"
    }
   },
   "outputs": [
    {
     "data": {
      "image/png": "[encoded data removed]",
      "text/plain": [
       "<Figure size 1080x288 with 1 Axes>"
      ]
     },
     "metadata": {
      "needs_background": "light"
     },
     "output_type": "display_data"
    },
    {
     "data": {
      "image/png": "[encoded data removed]",
      "text/plain": [
       "<Figure size 1080x288 with 1 Axes>"
      ]
     },
     "metadata": {
      "needs_background": "light"
     },
     "output_type": "display_data"
    }
   ],
   "source": [
    "df_avg = energy.groupby(\"hour\").mean()[[\"power_demand\", \"spot_price\"]]\n",
    "\n",
    "plt.figure(figsize=(15, 4))\n",
    "plt.plot(df_avg.index, df_avg[\"power_demand\"], label=\"Power Demand\")\n",
    "plt.legend()\n",
    "plt.show()\n",
    "\n",
    "plt.figure(figsize=(15, 4))\n",
    "plt.plot(df_avg.index, df_avg[\"spot_price\"], label=\"Spot Price\")\n",
    "plt.legend()\n",
    "plt.show()"
   ]
  },
  {
   "cell_type": "markdown",
   "metadata": {
    "ExecuteTime": {
     "end_time": "2020-03-06T21:37:24.835762Z",
     "start_time": "2020-03-06T21:37:24.831582Z"
    }
   },
   "source": [
    "#### Create a categorical variable called \"wind_category\" using the \"wind\" column (2 p)\n",
    "Create 3 categories: low, mid, high"
   ]
  },
  {
   "cell_type": "code",
   "execution_count": 30,
   "metadata": {
    "ExecuteTime": {
     "end_time": "2020-04-04T12:05:54.976073Z",
     "start_time": "2020-04-04T12:05:54.943495Z"
    }
   },
   "outputs": [
    {
     "data": {
      "text/html": [
       "<div>\n",
       "<style scoped>\n",
       "    .dataframe tbody tr th:only-of-type {\n",
       "        vertical-align: middle;\n",
       "    }\n",
       "\n",
       "    .dataframe tbody tr th {\n",
       "        vertical-align: top;\n",
       "    }\n",
       "\n",
       "    .dataframe thead th {\n",
       "        text-align: right;\n",
       "    }\n",
       "</style>\n",
       "<table border=\"1\" class=\"dataframe\">\n",
       "  <thead>\n",
       "    <tr style=\"text-align: right;\">\n",
       "      <th></th>\n",
       "      <th>datetime</th>\n",
       "      <th>power_demand</th>\n",
       "      <th>nuclear</th>\n",
       "      <th>gas</th>\n",
       "      <th>solar</th>\n",
       "      <th>hydro</th>\n",
       "      <th>coal</th>\n",
       "      <th>wind</th>\n",
       "      <th>spot_price</th>\n",
       "      <th>date</th>\n",
       "      <th>year</th>\n",
       "      <th>month</th>\n",
       "      <th>day</th>\n",
       "      <th>hour</th>\n",
       "      <th>weekday</th>\n",
       "      <th>weekend</th>\n",
       "      <th>season</th>\n",
       "      <th>solar_nan</th>\n",
       "      <th>wind_category</th>\n",
       "    </tr>\n",
       "  </thead>\n",
       "  <tbody>\n",
       "    <tr>\n",
       "      <th>0</th>\n",
       "      <td>2018-12-31 23:00:00+00:00</td>\n",
       "      <td>23251.2</td>\n",
       "      <td>6059.2</td>\n",
       "      <td>2954.0</td>\n",
       "      <td>7.1</td>\n",
       "      <td>3202.8</td>\n",
       "      <td>1867.0</td>\n",
       "      <td>3830.3</td>\n",
       "      <td>66.88</td>\n",
       "      <td>2018-12-31</td>\n",
       "      <td>2018</td>\n",
       "      <td>12</td>\n",
       "      <td>31</td>\n",
       "      <td>23</td>\n",
       "      <td>0</td>\n",
       "      <td>False</td>\n",
       "      <td>winter</td>\n",
       "      <td>0</td>\n",
       "      <td>low</td>\n",
       "    </tr>\n",
       "    <tr>\n",
       "      <th>1</th>\n",
       "      <td>2019-01-01 00:00:00+00:00</td>\n",
       "      <td>22485.0</td>\n",
       "      <td>6059.2</td>\n",
       "      <td>3044.1</td>\n",
       "      <td>8.0</td>\n",
       "      <td>2884.4</td>\n",
       "      <td>1618.0</td>\n",
       "      <td>3172.1</td>\n",
       "      <td>66.88</td>\n",
       "      <td>2019-01-01</td>\n",
       "      <td>2019</td>\n",
       "      <td>1</td>\n",
       "      <td>1</td>\n",
       "      <td>0</td>\n",
       "      <td>1</td>\n",
       "      <td>False</td>\n",
       "      <td>winter</td>\n",
       "      <td>0</td>\n",
       "      <td>low</td>\n",
       "    </tr>\n",
       "    <tr>\n",
       "      <th>2</th>\n",
       "      <td>2019-01-01 01:00:00+00:00</td>\n",
       "      <td>20977.0</td>\n",
       "      <td>6059.2</td>\n",
       "      <td>3138.6</td>\n",
       "      <td>7.5</td>\n",
       "      <td>1950.8</td>\n",
       "      <td>1535.3</td>\n",
       "      <td>2980.5</td>\n",
       "      <td>66.00</td>\n",
       "      <td>2019-01-01</td>\n",
       "      <td>2019</td>\n",
       "      <td>1</td>\n",
       "      <td>1</td>\n",
       "      <td>1</td>\n",
       "      <td>1</td>\n",
       "      <td>False</td>\n",
       "      <td>winter</td>\n",
       "      <td>0</td>\n",
       "      <td>low</td>\n",
       "    </tr>\n",
       "    <tr>\n",
       "      <th>3</th>\n",
       "      <td>2019-01-01 02:00:00+00:00</td>\n",
       "      <td>19754.2</td>\n",
       "      <td>6059.2</td>\n",
       "      <td>3596.2</td>\n",
       "      <td>7.5</td>\n",
       "      <td>1675.7</td>\n",
       "      <td>1344.0</td>\n",
       "      <td>2840.0</td>\n",
       "      <td>63.64</td>\n",
       "      <td>2019-01-01</td>\n",
       "      <td>2019</td>\n",
       "      <td>1</td>\n",
       "      <td>1</td>\n",
       "      <td>2</td>\n",
       "      <td>1</td>\n",
       "      <td>False</td>\n",
       "      <td>winter</td>\n",
       "      <td>0</td>\n",
       "      <td>low</td>\n",
       "    </tr>\n",
       "    <tr>\n",
       "      <th>4</th>\n",
       "      <td>2019-01-01 03:00:00+00:00</td>\n",
       "      <td>19320.6</td>\n",
       "      <td>6063.4</td>\n",
       "      <td>3192.6</td>\n",
       "      <td>7.5</td>\n",
       "      <td>1581.8</td>\n",
       "      <td>1345.0</td>\n",
       "      <td>3253.4</td>\n",
       "      <td>58.85</td>\n",
       "      <td>2019-01-01</td>\n",
       "      <td>2019</td>\n",
       "      <td>1</td>\n",
       "      <td>1</td>\n",
       "      <td>3</td>\n",
       "      <td>1</td>\n",
       "      <td>False</td>\n",
       "      <td>winter</td>\n",
       "      <td>0</td>\n",
       "      <td>low</td>\n",
       "    </tr>\n",
       "  </tbody>\n",
       "</table>\n",
       "</div>"
      ],
      "text/plain": [
       "                   datetime  power_demand  nuclear     gas  solar   hydro  \\\n",
       "0 2018-12-31 23:00:00+00:00       23251.2   6059.2  2954.0    7.1  3202.8   \n",
       "1 2019-01-01 00:00:00+00:00       22485.0   6059.2  3044.1    8.0  2884.4   \n",
       "2 2019-01-01 01:00:00+00:00       20977.0   6059.2  3138.6    7.5  1950.8   \n",
       "3 2019-01-01 02:00:00+00:00       19754.2   6059.2  3596.2    7.5  1675.7   \n",
       "4 2019-01-01 03:00:00+00:00       19320.6   6063.4  3192.6    7.5  1581.8   \n",
       "\n",
       "     coal    wind  spot_price        date  year  month  day  hour  weekday  \\\n",
       "0  1867.0  3830.3       66.88  2018-12-31  2018     12   31    23        0   \n",
       "1  1618.0  3172.1       66.88  2019-01-01  2019      1    1     0        1   \n",
       "2  1535.3  2980.5       66.00  2019-01-01  2019      1    1     1        1   \n",
       "3  1344.0  2840.0       63.64  2019-01-01  2019      1    1     2        1   \n",
       "4  1345.0  3253.4       58.85  2019-01-01  2019      1    1     3        1   \n",
       "\n",
       "   weekend  season  solar_nan wind_category  \n",
       "0    False  winter          0           low  \n",
       "1    False  winter          0           low  \n",
       "2    False  winter          0           low  \n",
       "3    False  winter          0           low  \n",
       "4    False  winter          0           low  "
      ]
     },
     "execution_count": 30,
     "metadata": {},
     "output_type": "execute_result"
    }
   ],
   "source": [
    "# low, mid, high\n",
    "\n",
    "energy[\"wind_category\"] = pd.cut(energy[\"wind\"], bins=3, labels=[\"low\", \"mid\", \"high\"])\n",
    "energy.head()"
   ]
  },
  {
   "cell_type": "markdown",
   "metadata": {},
   "source": [
    "#### Which is the power generation type that has generated the most energy? And the least? (2 p)"
   ]
  },
  {
   "cell_type": "code",
   "execution_count": 31,
   "metadata": {
    "ExecuteTime": {
     "end_time": "2020-04-04T12:06:08.305196Z",
     "start_time": "2020-04-04T12:06:08.294832Z"
    }
   },
   "outputs": [
    {
     "data": {
      "text/plain": [
       "nuclear    55758093.0\n",
       "wind       53052571.9\n",
       "gas        51760818.5\n",
       "hydro      24492328.2\n",
       "coal       10854073.8\n",
       "solar       8878077.8\n",
       "dtype: float64"
      ]
     },
     "execution_count": 31,
     "metadata": {},
     "output_type": "execute_result"
    }
   ],
   "source": [
    "energy_generators = [\"nuclear\", \"gas\", \"solar\", \"hydro\", \"coal\", \"wind\"]\n",
    "\n",
    "energy[energy_generators].sum().sort_values(ascending=False)"
   ]
  },
  {
   "cell_type": "markdown",
   "metadata": {},
   "source": [
    "According to results, Nuclear power is the type of energy that produces the most, and solar power the one that produces the least!"
   ]
  },
  {
   "cell_type": "code",
   "execution_count": null,
   "metadata": {},
   "outputs": [],
   "source": []
  }
 ],
 "metadata": {
  "kernelspec": {
   "display_name": "Python (mbd)",
   "language": "python",
   "name": "mbd"
  },
  "language_info": {
   "codemirror_mode": {
    "name": "ipython",
    "version": 3
   },
   "file_extension": ".py",
   "mimetype": "text/x-python",
   "name": "python",
   "nbconvert_exporter": "python",
   "pygments_lexer": "ipython3",
   "version": "3.8.0"
  },
  "toc": {
   "base_numbering": 1,
   "nav_menu": {},
   "number_sections": true,
   "sideBar": true,
   "skip_h1_title": false,
   "title_cell": "Table of Contents",
   "title_sidebar": "Contents",
   "toc_cell": false,
   "toc_position": {},
   "toc_section_display": true,
   "toc_window_display": false
  }
 },
 "nbformat": 4,
 "nbformat_minor": 2
}
