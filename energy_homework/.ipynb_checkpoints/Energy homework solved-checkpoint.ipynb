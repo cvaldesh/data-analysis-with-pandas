{
 "cells": [
  {
   "cell_type": "code",
   "execution_count": 44,
   "metadata": {
    "ExecuteTime": {
     "end_time": "2020-03-06T21:35:31.240784Z",
     "start_time": "2020-03-06T21:35:31.236012Z"
    }
   },
   "outputs": [],
   "source": [
    "import pandas as pd\n",
    "import matplotlib.pyplot as plt\n",
    "import numpy as np\n",
    "%matplotlib inline"
   ]
  },
  {
   "cell_type": "code",
   "execution_count": 90,
   "metadata": {
    "ExecuteTime": {
     "end_time": "2020-03-06T22:08:24.801078Z",
     "start_time": "2020-03-06T22:08:24.774750Z"
    }
   },
   "outputs": [],
   "source": [
    "# getting the data\n",
    "energy = pd.read_csv(\"energy.csv\")"
   ]
  },
  {
   "cell_type": "code",
   "execution_count": 91,
   "metadata": {
    "ExecuteTime": {
     "end_time": "2020-03-06T22:08:25.066795Z",
     "start_time": "2020-03-06T22:08:25.053425Z"
    }
   },
   "outputs": [
    {
     "data": {
      "text/html": [
       "<div>\n",
       "<style scoped>\n",
       "    .dataframe tbody tr th:only-of-type {\n",
       "        vertical-align: middle;\n",
       "    }\n",
       "\n",
       "    .dataframe tbody tr th {\n",
       "        vertical-align: top;\n",
       "    }\n",
       "\n",
       "    .dataframe thead th {\n",
       "        text-align: right;\n",
       "    }\n",
       "</style>\n",
       "<table border=\"1\" class=\"dataframe\">\n",
       "  <thead>\n",
       "    <tr style=\"text-align: right;\">\n",
       "      <th></th>\n",
       "      <th>datetime</th>\n",
       "      <th>power_demand</th>\n",
       "      <th>nuclear</th>\n",
       "      <th>gas</th>\n",
       "      <th>solar</th>\n",
       "      <th>hydro</th>\n",
       "      <th>coal</th>\n",
       "      <th>wind</th>\n",
       "      <th>spot_price</th>\n",
       "    </tr>\n",
       "  </thead>\n",
       "  <tbody>\n",
       "    <tr>\n",
       "      <th>8732</th>\n",
       "      <td>2019-12-30T20:00:00.000+01:00</td>\n",
       "      <td>31160.6</td>\n",
       "      <td>7106.3</td>\n",
       "      <td>4400.0</td>\n",
       "      <td>0.1</td>\n",
       "      <td>7910.8</td>\n",
       "      <td>685.0</td>\n",
       "      <td>2013.5</td>\n",
       "      <td>47.50</td>\n",
       "    </tr>\n",
       "    <tr>\n",
       "      <th>8733</th>\n",
       "      <td>2019-12-30T21:00:00.000+01:00</td>\n",
       "      <td>31152.9</td>\n",
       "      <td>7106.3</td>\n",
       "      <td>4832.3</td>\n",
       "      <td>NaN</td>\n",
       "      <td>7517.6</td>\n",
       "      <td>681.0</td>\n",
       "      <td>2096.7</td>\n",
       "      <td>46.42</td>\n",
       "    </tr>\n",
       "    <tr>\n",
       "      <th>8734</th>\n",
       "      <td>2019-12-30T22:00:00.000+01:00</td>\n",
       "      <td>29151.0</td>\n",
       "      <td>7105.3</td>\n",
       "      <td>4467.0</td>\n",
       "      <td>NaN</td>\n",
       "      <td>7080.2</td>\n",
       "      <td>698.0</td>\n",
       "      <td>2028.3</td>\n",
       "      <td>42.76</td>\n",
       "    </tr>\n",
       "    <tr>\n",
       "      <th>8735</th>\n",
       "      <td>2019-12-30T23:00:00.000+01:00</td>\n",
       "      <td>26989.6</td>\n",
       "      <td>7107.2</td>\n",
       "      <td>4672.2</td>\n",
       "      <td>NaN</td>\n",
       "      <td>6716.1</td>\n",
       "      <td>626.0</td>\n",
       "      <td>2031.8</td>\n",
       "      <td>40.88</td>\n",
       "    </tr>\n",
       "    <tr>\n",
       "      <th>8736</th>\n",
       "      <td>2019-12-31T00:00:00.000+01:00</td>\n",
       "      <td>24350.5</td>\n",
       "      <td>7099.0</td>\n",
       "      <td>3765.9</td>\n",
       "      <td>NaN</td>\n",
       "      <td>6403.5</td>\n",
       "      <td>528.0</td>\n",
       "      <td>1927.2</td>\n",
       "      <td>37.55</td>\n",
       "    </tr>\n",
       "  </tbody>\n",
       "</table>\n",
       "</div>"
      ],
      "text/plain": [
       "                           datetime  power_demand  nuclear     gas  solar  \\\n",
       "8732  2019-12-30T20:00:00.000+01:00       31160.6   7106.3  4400.0    0.1   \n",
       "8733  2019-12-30T21:00:00.000+01:00       31152.9   7106.3  4832.3    NaN   \n",
       "8734  2019-12-30T22:00:00.000+01:00       29151.0   7105.3  4467.0    NaN   \n",
       "8735  2019-12-30T23:00:00.000+01:00       26989.6   7107.2  4672.2    NaN   \n",
       "8736  2019-12-31T00:00:00.000+01:00       24350.5   7099.0  3765.9    NaN   \n",
       "\n",
       "       hydro   coal    wind  spot_price  \n",
       "8732  7910.8  685.0  2013.5       47.50  \n",
       "8733  7517.6  681.0  2096.7       46.42  \n",
       "8734  7080.2  698.0  2028.3       42.76  \n",
       "8735  6716.1  626.0  2031.8       40.88  \n",
       "8736  6403.5  528.0  1927.2       37.55  "
      ]
     },
     "execution_count": 91,
     "metadata": {},
     "output_type": "execute_result"
    }
   ],
   "source": [
    "energy.tail()"
   ]
  },
  {
   "cell_type": "code",
   "execution_count": 92,
   "metadata": {
    "ExecuteTime": {
     "end_time": "2020-03-06T22:08:25.373743Z",
     "start_time": "2020-03-06T22:08:25.368783Z"
    }
   },
   "outputs": [
    {
     "data": {
      "text/plain": [
       "(8737, 9)"
      ]
     },
     "execution_count": 92,
     "metadata": {},
     "output_type": "execute_result"
    }
   ],
   "source": [
    "# shape\n",
    "energy.shape"
   ]
  },
  {
   "cell_type": "code",
   "execution_count": 93,
   "metadata": {
    "ExecuteTime": {
     "end_time": "2020-03-06T22:08:25.819536Z",
     "start_time": "2020-03-06T22:08:25.806155Z"
    }
   },
   "outputs": [
    {
     "name": "stdout",
     "output_type": "stream",
     "text": [
      "['power_demand', 'nuclear', 'gas', 'solar', 'hydro', 'coal', 'wind', 'spot_price']\n",
      "['power_demand', 'nuclear', 'gas', 'solar', 'hydro', 'coal', 'wind', 'spot_price']\n",
      "['power_demand', 'nuclear', 'gas', 'solar', 'hydro', 'coal', 'wind', 'spot_price']\n"
     ]
    }
   ],
   "source": [
    "# features list\n",
    "\n",
    "energy_columns = energy.columns\n",
    "\n",
    "# using filter plus lambda functions\n",
    "features = list(filter(lambda col: \"datetime\" not in col, energy_columns))\n",
    "print(features)\n",
    "\n",
    "# using list comprehensions\n",
    "features = [col for col in energy_columns if \"datetime\" not in col]\n",
    "print(features)\n",
    "\n",
    "# using for loop\n",
    "features = []\n",
    "for column in energy_columns:\n",
    "    if \"datetime\" not in column:\n",
    "        features.append(column)\n",
    "print(features)    "
   ]
  },
  {
   "cell_type": "code",
   "execution_count": 94,
   "metadata": {
    "ExecuteTime": {
     "end_time": "2020-03-06T22:08:26.227200Z",
     "start_time": "2020-03-06T22:08:26.220336Z"
    }
   },
   "outputs": [
    {
     "data": {
      "text/plain": [
       "2541"
      ]
     },
     "execution_count": 94,
     "metadata": {},
     "output_type": "execute_result"
    }
   ],
   "source": [
    "# how many NaN-elements are there in the dataset\n",
    "\n",
    "energy.isnull().sum().sum()"
   ]
  },
  {
   "cell_type": "code",
   "execution_count": 95,
   "metadata": {
    "ExecuteTime": {
     "end_time": "2020-03-06T22:08:26.879028Z",
     "start_time": "2020-03-06T22:08:26.703965Z"
    }
   },
   "outputs": [
    {
     "data": {
      "text/plain": [
       "datetime        datetime64[ns, UTC]\n",
       "power_demand                float64\n",
       "nuclear                     float64\n",
       "gas                         float64\n",
       "solar                       float64\n",
       "hydro                       float64\n",
       "coal                        float64\n",
       "wind                        float64\n",
       "spot_price                  float64\n",
       "dtype: object"
      ]
     },
     "execution_count": 95,
     "metadata": {},
     "output_type": "execute_result"
    }
   ],
   "source": [
    "# convert datetime column into datetime object\n",
    "energy[\"datetime\"] = pd.to_datetime(energy[\"datetime\"], utc=True)\n",
    "\n",
    "energy.dtypes"
   ]
  },
  {
   "cell_type": "code",
   "execution_count": 96,
   "metadata": {
    "ExecuteTime": {
     "end_time": "2020-03-06T22:08:27.201880Z",
     "start_time": "2020-03-06T22:08:27.187742Z"
    }
   },
   "outputs": [],
   "source": [
    "# year, month, day, hour, weekday\n",
    "energy[\"year\"] = energy[\"datetime\"].dt.year\n",
    "energy[\"month\"] = energy[\"datetime\"].dt.month\n",
    "energy[\"day\"] = energy[\"datetime\"].dt.day\n",
    "energy[\"hour\"] = energy[\"datetime\"].dt.hour\n",
    "energy[\"weekday\"] = energy[\"datetime\"].dt.weekday"
   ]
  },
  {
   "cell_type": "code",
   "execution_count": 97,
   "metadata": {
    "ExecuteTime": {
     "end_time": "2020-03-06T22:08:27.745130Z",
     "start_time": "2020-03-06T22:08:27.736913Z"
    }
   },
   "outputs": [],
   "source": [
    "# weekend column\n",
    "energy[\"weekend\"] = energy[\"weekday\"].map(lambda x: x>4)"
   ]
  },
  {
   "cell_type": "code",
   "execution_count": 98,
   "metadata": {
    "ExecuteTime": {
     "end_time": "2020-03-06T22:08:28.151269Z",
     "start_time": "2020-03-06T22:08:28.132803Z"
    }
   },
   "outputs": [
    {
     "data": {
      "text/html": [
       "<div>\n",
       "<style scoped>\n",
       "    .dataframe tbody tr th:only-of-type {\n",
       "        vertical-align: middle;\n",
       "    }\n",
       "\n",
       "    .dataframe tbody tr th {\n",
       "        vertical-align: top;\n",
       "    }\n",
       "\n",
       "    .dataframe thead th {\n",
       "        text-align: right;\n",
       "    }\n",
       "</style>\n",
       "<table border=\"1\" class=\"dataframe\">\n",
       "  <thead>\n",
       "    <tr style=\"text-align: right;\">\n",
       "      <th></th>\n",
       "      <th>power_demand</th>\n",
       "      <th>nuclear</th>\n",
       "      <th>gas</th>\n",
       "      <th>solar</th>\n",
       "      <th>hydro</th>\n",
       "      <th>coal</th>\n",
       "      <th>wind</th>\n",
       "      <th>spot_price</th>\n",
       "    </tr>\n",
       "    <tr>\n",
       "      <th>weekday</th>\n",
       "      <th></th>\n",
       "      <th></th>\n",
       "      <th></th>\n",
       "      <th></th>\n",
       "      <th></th>\n",
       "      <th></th>\n",
       "      <th></th>\n",
       "      <th></th>\n",
       "    </tr>\n",
       "  </thead>\n",
       "  <tbody>\n",
       "    <tr>\n",
       "      <th>0</th>\n",
       "      <td>29207.582306</td>\n",
       "      <td>6390.911769</td>\n",
       "      <td>6483.540032</td>\n",
       "      <td>1382.902420</td>\n",
       "      <td>2919.916173</td>\n",
       "      <td>1282.017737</td>\n",
       "      <td>5846.823379</td>\n",
       "      <td>49.239688</td>\n",
       "    </tr>\n",
       "    <tr>\n",
       "      <th>1</th>\n",
       "      <td>29760.259375</td>\n",
       "      <td>6391.128526</td>\n",
       "      <td>6716.402003</td>\n",
       "      <td>1400.603377</td>\n",
       "      <td>2870.550401</td>\n",
       "      <td>1478.384477</td>\n",
       "      <td>5795.669712</td>\n",
       "      <td>50.202580</td>\n",
       "    </tr>\n",
       "    <tr>\n",
       "      <th>2</th>\n",
       "      <td>29814.897436</td>\n",
       "      <td>6399.605689</td>\n",
       "      <td>6448.102244</td>\n",
       "      <td>1386.101098</td>\n",
       "      <td>2856.419471</td>\n",
       "      <td>1444.195997</td>\n",
       "      <td>6451.173798</td>\n",
       "      <td>48.811442</td>\n",
       "    </tr>\n",
       "    <tr>\n",
       "      <th>3</th>\n",
       "      <td>29913.133253</td>\n",
       "      <td>6408.186458</td>\n",
       "      <td>6404.798397</td>\n",
       "      <td>1396.425420</td>\n",
       "      <td>2904.324439</td>\n",
       "      <td>1364.827287</td>\n",
       "      <td>6452.391747</td>\n",
       "      <td>48.817388</td>\n",
       "    </tr>\n",
       "    <tr>\n",
       "      <th>4</th>\n",
       "      <td>29587.505689</td>\n",
       "      <td>6404.227003</td>\n",
       "      <td>6362.183894</td>\n",
       "      <td>1437.464229</td>\n",
       "      <td>3027.978526</td>\n",
       "      <td>1294.994618</td>\n",
       "      <td>6071.198638</td>\n",
       "      <td>48.785793</td>\n",
       "    </tr>\n",
       "    <tr>\n",
       "      <th>5</th>\n",
       "      <td>26545.257933</td>\n",
       "      <td>6325.359535</td>\n",
       "      <td>4965.318109</td>\n",
       "      <td>1418.782988</td>\n",
       "      <td>2604.202644</td>\n",
       "      <td>1057.801583</td>\n",
       "      <td>5826.916346</td>\n",
       "      <td>45.429864</td>\n",
       "    </tr>\n",
       "    <tr>\n",
       "      <th>6</th>\n",
       "      <td>24759.381490</td>\n",
       "      <td>6353.419231</td>\n",
       "      <td>4089.475000</td>\n",
       "      <td>1373.876790</td>\n",
       "      <td>2439.531651</td>\n",
       "      <td>912.083292</td>\n",
       "      <td>6061.215064</td>\n",
       "      <td>42.653966</td>\n",
       "    </tr>\n",
       "  </tbody>\n",
       "</table>\n",
       "</div>"
      ],
      "text/plain": [
       "         power_demand      nuclear          gas        solar        hydro  \\\n",
       "weekday                                                                     \n",
       "0        29207.582306  6390.911769  6483.540032  1382.902420  2919.916173   \n",
       "1        29760.259375  6391.128526  6716.402003  1400.603377  2870.550401   \n",
       "2        29814.897436  6399.605689  6448.102244  1386.101098  2856.419471   \n",
       "3        29913.133253  6408.186458  6404.798397  1396.425420  2904.324439   \n",
       "4        29587.505689  6404.227003  6362.183894  1437.464229  3027.978526   \n",
       "5        26545.257933  6325.359535  4965.318109  1418.782988  2604.202644   \n",
       "6        24759.381490  6353.419231  4089.475000  1373.876790  2439.531651   \n",
       "\n",
       "                coal         wind  spot_price  \n",
       "weekday                                        \n",
       "0        1282.017737  5846.823379   49.239688  \n",
       "1        1478.384477  5795.669712   50.202580  \n",
       "2        1444.195997  6451.173798   48.811442  \n",
       "3        1364.827287  6452.391747   48.817388  \n",
       "4        1294.994618  6071.198638   48.785793  \n",
       "5        1057.801583  5826.916346   45.429864  \n",
       "6         912.083292  6061.215064   42.653966  "
      ]
     },
     "execution_count": 98,
     "metadata": {},
     "output_type": "execute_result"
    }
   ],
   "source": [
    "# average values per weekday for the columns in \"features\" list\n",
    "energy.groupby(\"weekday\").mean()[features]"
   ]
  },
  {
   "cell_type": "code",
   "execution_count": 99,
   "metadata": {
    "ExecuteTime": {
     "end_time": "2020-03-06T22:08:28.948838Z",
     "start_time": "2020-03-06T22:08:28.861054Z"
    }
   },
   "outputs": [],
   "source": [
    "# get_season function\n",
    "\n",
    "from datetime import date\n",
    "\n",
    "def get_season(date_to_convert):  # the function expects a datetime.date object as input\n",
    "    \n",
    "    # fix the year of the input\n",
    "    date_year = date_to_convert.year\n",
    "    \n",
    "    # create the list of tuples on which to loop\n",
    "    seasons = [\n",
    "        (\"winter\", date(date_year, 12, 21), date(date_year, 12, 31)),\n",
    "        (\"spring\", date(date_year, 3, 20), date(date_year, 6, 21)),\n",
    "        (\"summer\", date(date_year, 6, 22), date(date_year, 9, 21)),\n",
    "        (\"fall\", date(date_year, 9, 22), date(date_year, 12, 20)),\n",
    "        (\"winter\", date(date_year, 1, 1), date(date_year, 3, 19))\n",
    "    ]\n",
    "    \n",
    "    # loop for each season trying to find the season to which\n",
    "    # date_to_convert belongs to\n",
    "    for elem in seasons:  # season = tuple(name, start, end) = (elem[0], elem[1], elem[2])\n",
    "        if date_to_convert>=elem[1] and date_to_convert<=elem[2]:  \n",
    "            return elem[0]\n",
    "        \n",
    "energy[\"season\"] = energy[\"datetime\"].map(get_season)"
   ]
  },
  {
   "cell_type": "code",
   "execution_count": 100,
   "metadata": {
    "ExecuteTime": {
     "end_time": "2020-03-06T22:08:29.894579Z",
     "start_time": "2020-03-06T22:08:29.882376Z"
    }
   },
   "outputs": [
    {
     "data": {
      "text/html": [
       "<div>\n",
       "<style scoped>\n",
       "    .dataframe tbody tr th:only-of-type {\n",
       "        vertical-align: middle;\n",
       "    }\n",
       "\n",
       "    .dataframe tbody tr th {\n",
       "        vertical-align: top;\n",
       "    }\n",
       "\n",
       "    .dataframe thead th {\n",
       "        text-align: right;\n",
       "    }\n",
       "</style>\n",
       "<table border=\"1\" class=\"dataframe\">\n",
       "  <thead>\n",
       "    <tr style=\"text-align: right;\">\n",
       "      <th></th>\n",
       "      <th>power_demand</th>\n",
       "      <th>spot_price</th>\n",
       "    </tr>\n",
       "    <tr>\n",
       "      <th>season</th>\n",
       "      <th></th>\n",
       "      <th></th>\n",
       "    </tr>\n",
       "  </thead>\n",
       "  <tbody>\n",
       "    <tr>\n",
       "      <th>fall</th>\n",
       "      <td>28242.443241</td>\n",
       "      <td>43.562639</td>\n",
       "    </tr>\n",
       "    <tr>\n",
       "      <th>spring</th>\n",
       "      <td>27157.150399</td>\n",
       "      <td>48.790598</td>\n",
       "    </tr>\n",
       "    <tr>\n",
       "      <th>summer</th>\n",
       "      <td>29235.177536</td>\n",
       "      <td>46.509909</td>\n",
       "    </tr>\n",
       "    <tr>\n",
       "      <th>winter</th>\n",
       "      <td>29481.103975</td>\n",
       "      <td>52.033360</td>\n",
       "    </tr>\n",
       "  </tbody>\n",
       "</table>\n",
       "</div>"
      ],
      "text/plain": [
       "        power_demand  spot_price\n",
       "season                          \n",
       "fall    28242.443241   43.562639\n",
       "spring  27157.150399   48.790598\n",
       "summer  29235.177536   46.509909\n",
       "winter  29481.103975   52.033360"
      ]
     },
     "execution_count": 100,
     "metadata": {},
     "output_type": "execute_result"
    }
   ],
   "source": [
    "# average demand and price for each season\n",
    "\n",
    "energy.groupby(\"season\")[[\"power_demand\", \"spot_price\"]].mean()"
   ]
  },
  {
   "cell_type": "code",
   "execution_count": 101,
   "metadata": {
    "ExecuteTime": {
     "end_time": "2020-03-06T22:08:30.706579Z",
     "start_time": "2020-03-06T22:08:30.700642Z"
    }
   },
   "outputs": [
    {
     "data": {
      "text/plain": [
       "2392"
      ]
     },
     "execution_count": 101,
     "metadata": {},
     "output_type": "execute_result"
    }
   ],
   "source": [
    "# NaN in \"solar\" column\n",
    "# sun doesnt shine at night \n",
    "energy[\"solar\"].isnull().sum()"
   ]
  },
  {
   "cell_type": "code",
   "execution_count": 102,
   "metadata": {
    "ExecuteTime": {
     "end_time": "2020-03-06T22:08:31.306766Z",
     "start_time": "2020-03-06T22:08:31.281797Z"
    }
   },
   "outputs": [
    {
     "data": {
      "text/plain": [
       "{'power_demand': 12115827296.223999,\n",
       " 'nuclear': 2674992442.1679997,\n",
       " 'gas': 2577997502.639,\n",
       " 'solar': 430157479.785,\n",
       " 'hydro': 1179143190.696,\n",
       " 'coal': 591516973.36,\n",
       " 'wind': 2412917661.565}"
      ]
     },
     "execution_count": 102,
     "metadata": {},
     "output_type": "execute_result"
    }
   ],
   "source": [
    "# total income for generators and cost for consumers\n",
    "\n",
    "dict_cost_income = {}\n",
    "features_not_price = [feature for feature in features if feature != \"spot_price\"]\n",
    "\n",
    "for col in features_not_price:\n",
    "    dict_cost_income[col] = np.sum(energy[col] * energy[\"spot_price\"])\n",
    "    \n",
    "dict_cost_income"
   ]
  },
  {
   "cell_type": "code",
   "execution_count": 105,
   "metadata": {
    "ExecuteTime": {
     "end_time": "2020-03-06T22:09:16.224794Z",
     "start_time": "2020-03-06T22:09:15.930079Z"
    }
   },
   "outputs": [
    {
     "data": {
      "image/png": "[encoded data removed]",
      "text/plain": [
       "<Figure size 432x288 with 1 Axes>"
      ]
     },
     "metadata": {
      "needs_background": "light"
     },
     "output_type": "display_data"
    },
    {
     "data": {
      "image/png": "[encoded data removed]",
      "text/plain": [
       "<Figure size 432x288 with 1 Axes>"
      ]
     },
     "metadata": {
      "needs_background": "light"
     },
     "output_type": "display_data"
    }
   ],
   "source": [
    "# plots\n",
    "\n",
    "df_avg = energy.groupby(\"hour\").mean()[[\"power_demand\", \"spot_price\"]]\n",
    "\n",
    "plt.plot(df_avg.index, df_avg[\"power_demand\"])\n",
    "plt.show()\n",
    "\n",
    "plt.plot(df_avg.index, df_avg[\"spot_price\"])\n",
    "plt.show()"
   ]
  },
  {
   "cell_type": "code",
   "execution_count": 107,
   "metadata": {
    "ExecuteTime": {
     "end_time": "2020-03-06T22:11:49.466329Z",
     "start_time": "2020-03-06T22:11:49.438650Z"
    }
   },
   "outputs": [
    {
     "data": {
      "text/html": [
       "<div>\n",
       "<style scoped>\n",
       "    .dataframe tbody tr th:only-of-type {\n",
       "        vertical-align: middle;\n",
       "    }\n",
       "\n",
       "    .dataframe tbody tr th {\n",
       "        vertical-align: top;\n",
       "    }\n",
       "\n",
       "    .dataframe thead th {\n",
       "        text-align: right;\n",
       "    }\n",
       "</style>\n",
       "<table border=\"1\" class=\"dataframe\">\n",
       "  <thead>\n",
       "    <tr style=\"text-align: right;\">\n",
       "      <th></th>\n",
       "      <th>datetime</th>\n",
       "      <th>power_demand</th>\n",
       "      <th>nuclear</th>\n",
       "      <th>gas</th>\n",
       "      <th>solar</th>\n",
       "      <th>hydro</th>\n",
       "      <th>coal</th>\n",
       "      <th>wind</th>\n",
       "      <th>spot_price</th>\n",
       "      <th>year</th>\n",
       "      <th>month</th>\n",
       "      <th>day</th>\n",
       "      <th>hour</th>\n",
       "      <th>weekday</th>\n",
       "      <th>weekend</th>\n",
       "      <th>season</th>\n",
       "      <th>wind_category</th>\n",
       "    </tr>\n",
       "  </thead>\n",
       "  <tbody>\n",
       "    <tr>\n",
       "      <th>0</th>\n",
       "      <td>2018-12-31 23:00:00+00:00</td>\n",
       "      <td>23251.2</td>\n",
       "      <td>6059.2</td>\n",
       "      <td>2954.0</td>\n",
       "      <td>7.1</td>\n",
       "      <td>3202.8</td>\n",
       "      <td>1867.0</td>\n",
       "      <td>3830.3</td>\n",
       "      <td>66.88</td>\n",
       "      <td>2018</td>\n",
       "      <td>12</td>\n",
       "      <td>31</td>\n",
       "      <td>23</td>\n",
       "      <td>0</td>\n",
       "      <td>False</td>\n",
       "      <td>winter</td>\n",
       "      <td>low</td>\n",
       "    </tr>\n",
       "    <tr>\n",
       "      <th>1</th>\n",
       "      <td>2019-01-01 00:00:00+00:00</td>\n",
       "      <td>22485.0</td>\n",
       "      <td>6059.2</td>\n",
       "      <td>3044.1</td>\n",
       "      <td>8.0</td>\n",
       "      <td>2884.4</td>\n",
       "      <td>1618.0</td>\n",
       "      <td>3172.1</td>\n",
       "      <td>66.88</td>\n",
       "      <td>2019</td>\n",
       "      <td>1</td>\n",
       "      <td>1</td>\n",
       "      <td>0</td>\n",
       "      <td>1</td>\n",
       "      <td>False</td>\n",
       "      <td>winter</td>\n",
       "      <td>low</td>\n",
       "    </tr>\n",
       "    <tr>\n",
       "      <th>2</th>\n",
       "      <td>2019-01-01 01:00:00+00:00</td>\n",
       "      <td>20977.0</td>\n",
       "      <td>6059.2</td>\n",
       "      <td>3138.6</td>\n",
       "      <td>7.5</td>\n",
       "      <td>1950.8</td>\n",
       "      <td>1535.3</td>\n",
       "      <td>2980.5</td>\n",
       "      <td>66.00</td>\n",
       "      <td>2019</td>\n",
       "      <td>1</td>\n",
       "      <td>1</td>\n",
       "      <td>1</td>\n",
       "      <td>1</td>\n",
       "      <td>False</td>\n",
       "      <td>winter</td>\n",
       "      <td>low</td>\n",
       "    </tr>\n",
       "    <tr>\n",
       "      <th>3</th>\n",
       "      <td>2019-01-01 02:00:00+00:00</td>\n",
       "      <td>19754.2</td>\n",
       "      <td>6059.2</td>\n",
       "      <td>3596.2</td>\n",
       "      <td>7.5</td>\n",
       "      <td>1675.7</td>\n",
       "      <td>1344.0</td>\n",
       "      <td>2840.0</td>\n",
       "      <td>63.64</td>\n",
       "      <td>2019</td>\n",
       "      <td>1</td>\n",
       "      <td>1</td>\n",
       "      <td>2</td>\n",
       "      <td>1</td>\n",
       "      <td>False</td>\n",
       "      <td>winter</td>\n",
       "      <td>low</td>\n",
       "    </tr>\n",
       "    <tr>\n",
       "      <th>4</th>\n",
       "      <td>2019-01-01 03:00:00+00:00</td>\n",
       "      <td>19320.6</td>\n",
       "      <td>6063.4</td>\n",
       "      <td>3192.6</td>\n",
       "      <td>7.5</td>\n",
       "      <td>1581.8</td>\n",
       "      <td>1345.0</td>\n",
       "      <td>3253.4</td>\n",
       "      <td>58.85</td>\n",
       "      <td>2019</td>\n",
       "      <td>1</td>\n",
       "      <td>1</td>\n",
       "      <td>3</td>\n",
       "      <td>1</td>\n",
       "      <td>False</td>\n",
       "      <td>winter</td>\n",
       "      <td>low</td>\n",
       "    </tr>\n",
       "  </tbody>\n",
       "</table>\n",
       "</div>"
      ],
      "text/plain": [
       "                   datetime  power_demand  nuclear     gas  solar   hydro  \\\n",
       "0 2018-12-31 23:00:00+00:00       23251.2   6059.2  2954.0    7.1  3202.8   \n",
       "1 2019-01-01 00:00:00+00:00       22485.0   6059.2  3044.1    8.0  2884.4   \n",
       "2 2019-01-01 01:00:00+00:00       20977.0   6059.2  3138.6    7.5  1950.8   \n",
       "3 2019-01-01 02:00:00+00:00       19754.2   6059.2  3596.2    7.5  1675.7   \n",
       "4 2019-01-01 03:00:00+00:00       19320.6   6063.4  3192.6    7.5  1581.8   \n",
       "\n",
       "     coal    wind  spot_price  year  month  day  hour  weekday  weekend  \\\n",
       "0  1867.0  3830.3       66.88  2018     12   31    23        0    False   \n",
       "1  1618.0  3172.1       66.88  2019      1    1     0        1    False   \n",
       "2  1535.3  2980.5       66.00  2019      1    1     1        1    False   \n",
       "3  1344.0  2840.0       63.64  2019      1    1     2        1    False   \n",
       "4  1345.0  3253.4       58.85  2019      1    1     3        1    False   \n",
       "\n",
       "   season wind_category  \n",
       "0  winter           low  \n",
       "1  winter           low  \n",
       "2  winter           low  \n",
       "3  winter           low  \n",
       "4  winter           low  "
      ]
     },
     "execution_count": 107,
     "metadata": {},
     "output_type": "execute_result"
    }
   ],
   "source": [
    "# categorical variable from wind values\n",
    "# low, mid, high\n",
    "\n",
    "energy[\"wind_category\"] = pd.cut(energy[\"wind\"], bins=3, labels=[\"low\", \"mid\", \"high\"])\n",
    "energy.head()"
   ]
  },
  {
   "cell_type": "code",
   "execution_count": 111,
   "metadata": {
    "ExecuteTime": {
     "end_time": "2020-03-06T22:14:44.763479Z",
     "start_time": "2020-03-06T22:14:44.755880Z"
    }
   },
   "outputs": [
    {
     "data": {
      "text/plain": [
       "nuclear    55758093.0\n",
       "wind       53052571.9\n",
       "gas        51760818.5\n",
       "hydro      24492328.2\n",
       "coal       10854073.8\n",
       "solar       8878077.8\n",
       "dtype: float64"
      ]
     },
     "execution_count": 111,
     "metadata": {},
     "output_type": "execute_result"
    }
   ],
   "source": [
    "# technology that produces the most\n",
    "\n",
    "energy_generators = [\"nuclear\", \"gas\", \"solar\", \"hydro\", \"coal\", \"wind\"]\n",
    "\n",
    "energy[energy_generators].sum().sort_values(ascending=False)"
   ]
  },
  {
   "cell_type": "code",
   "execution_count": null,
   "metadata": {},
   "outputs": [],
   "source": []
  }
 ],
 "metadata": {
  "kernelspec": {
   "display_name": "Python (mbd)",
   "language": "python",
   "name": "mbd"
  },
  "language_info": {
   "codemirror_mode": {
    "name": "ipython",
    "version": 3
   },
   "file_extension": ".py",
   "mimetype": "text/x-python",
   "name": "python",
   "nbconvert_exporter": "python",
   "pygments_lexer": "ipython3",
   "version": "3.8.0"
  },
  "toc": {
   "base_numbering": 1,
   "nav_menu": {},
   "number_sections": true,
   "sideBar": true,
   "skip_h1_title": false,
   "title_cell": "Table of Contents",
   "title_sidebar": "Contents",
   "toc_cell": false,
   "toc_position": {},
   "toc_section_display": true,
   "toc_window_display": false
  }
 },
 "nbformat": 4,
 "nbformat_minor": 2
}
