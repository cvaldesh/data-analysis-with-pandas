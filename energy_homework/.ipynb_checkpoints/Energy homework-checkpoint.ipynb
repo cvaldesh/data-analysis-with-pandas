{
 "cells": [
  {
   "cell_type": "markdown",
   "metadata": {},
   "source": [
    "# Energy in Spain: dataset"
   ]
  },
  {
   "cell_type": "markdown",
   "metadata": {},
   "source": [
    "The \"energy.csv\" dataset contains timeseries regarding the power market in Spain.\n",
    "\n",
    "Explanation of columns:\n",
    "* datetime: moment at which the observation happened, in UTC (https://en.wikipedia.org/wiki/Coordinated_Universal_Time)\n",
    "* power_demand: total consumption of electricity in MWh (MegaWatt-hours) [consumption]\n",
    "* nuclear: total energy generated in nuclear power plants in MWh [power generation]\n",
    "* gas: total energy generated in gas powered plants in MWh [power generation]\n",
    "* solar: total energy generated in solar farms in MWh [power generation]\n",
    "* hydro: total energy generated in hydro dams in MWh [power generation]\n",
    "* coal: total energy generated in coal powered plants in MWh [power generation]\n",
    "* wind: total energy generated in wind farms in MWh [power generation]\n",
    "* spot_price: price at which the energy is sold (generation) or bought (consumption) in €/MWh [price]"
   ]
  },
  {
   "cell_type": "markdown",
   "metadata": {},
   "source": [
    "### Import needed libraries"
   ]
  },
  {
   "cell_type": "code",
   "execution_count": null,
   "metadata": {},
   "outputs": [],
   "source": [
    "import pandas as pd\n",
    "import numpy as np\n",
    "import matplotlib.pyplot as plt\n",
    "%matplotlib inline"
   ]
  },
  {
   "cell_type": "markdown",
   "metadata": {},
   "source": [
    "### Get the data as a pandas Dataframe"
   ]
  },
  {
   "cell_type": "code",
   "execution_count": null,
   "metadata": {},
   "outputs": [],
   "source": []
  },
  {
   "cell_type": "markdown",
   "metadata": {},
   "source": [
    "### Calculate the following"
   ]
  },
  {
   "cell_type": "markdown",
   "metadata": {},
   "source": [
    "#### Shape (1 p)"
   ]
  },
  {
   "cell_type": "code",
   "execution_count": null,
   "metadata": {},
   "outputs": [],
   "source": []
  },
  {
   "cell_type": "markdown",
   "metadata": {},
   "source": [
    "#### Create a list called \"features\" containing all the columns that are not \"datetime\" (1 p)"
   ]
  },
  {
   "cell_type": "code",
   "execution_count": null,
   "metadata": {},
   "outputs": [],
   "source": [
    "# use filter or list comprehensions or for loops or dark magic"
   ]
  },
  {
   "cell_type": "markdown",
   "metadata": {},
   "source": [
    "#### How many NaN are there in the dataset? (1 p)"
   ]
  },
  {
   "cell_type": "code",
   "execution_count": 1,
   "metadata": {
    "ExecuteTime": {
     "end_time": "2020-03-06T20:54:32.613280Z",
     "start_time": "2020-03-06T20:54:32.609720Z"
    }
   },
   "outputs": [],
   "source": [
    "# \"Dealing with missing values\" in the slides"
   ]
  },
  {
   "cell_type": "markdown",
   "metadata": {},
   "source": [
    "#### Convert the \"datetime\" column into a Series containing datetime objects (0.5 p)\n",
    "\n",
    "Pass utc=True as argument to your function of choice *cough* pd.to_dat... *cough*"
   ]
  },
  {
   "cell_type": "code",
   "execution_count": null,
   "metadata": {},
   "outputs": [],
   "source": [
    "# pandas datetime functionalities"
   ]
  },
  {
   "cell_type": "markdown",
   "metadata": {
    "ExecuteTime": {
     "end_time": "2020-03-06T21:06:59.967351Z",
     "start_time": "2020-03-06T21:06:59.960999Z"
    }
   },
   "source": [
    "#### Create the following columns (0.5 p)\n",
    "* year\n",
    "* month\n",
    "* day\n",
    "* hour\n",
    "* weekday"
   ]
  },
  {
   "cell_type": "code",
   "execution_count": null,
   "metadata": {},
   "outputs": [],
   "source": [
    "# pandas datetime functionalities"
   ]
  },
  {
   "cell_type": "markdown",
   "metadata": {},
   "source": [
    "#### Create a \"weekend\" column containing True if day is Sat/Sun or False if day is Mon/Tue/... (1 p)"
   ]
  },
  {
   "cell_type": "code",
   "execution_count": 3,
   "metadata": {
    "ExecuteTime": {
     "end_time": "2020-03-06T21:11:01.576113Z",
     "start_time": "2020-03-06T21:11:01.572485Z"
    }
   },
   "outputs": [],
   "source": [
    "# feature engineering\n",
    "# use your already beloved (map + lambda functions)\n",
    "# or list comprehensions"
   ]
  },
  {
   "cell_type": "markdown",
   "metadata": {},
   "source": [
    "#### Calculate the average values per weekday for the columns in \"features\" list (1 p)"
   ]
  },
  {
   "cell_type": "code",
   "execution_count": 4,
   "metadata": {
    "ExecuteTime": {
     "end_time": "2020-03-06T21:16:03.022096Z",
     "start_time": "2020-03-06T21:16:03.018931Z"
    }
   },
   "outputs": [],
   "source": [
    "# features is the list you created in the beginning"
   ]
  },
  {
   "cell_type": "markdown",
   "metadata": {},
   "source": [
    "#### Create a function that returns the season out of a datetime object (0.5 p)\n",
    "Use that function to create a \"season\" column"
   ]
  },
  {
   "cell_type": "code",
   "execution_count": 7,
   "metadata": {
    "ExecuteTime": {
     "end_time": "2020-03-06T21:20:10.045629Z",
     "start_time": "2020-03-06T21:20:10.035835Z"
    }
   },
   "outputs": [],
   "source": [
    "# easy peasy"
   ]
  },
  {
   "cell_type": "markdown",
   "metadata": {},
   "source": [
    "#### Calculate average demand and spot_price for each season (1 p)"
   ]
  },
  {
   "cell_type": "code",
   "execution_count": null,
   "metadata": {},
   "outputs": [],
   "source": []
  },
  {
   "cell_type": "markdown",
   "metadata": {},
   "source": [
    "#### Why are there so many NaN values in the \"solar\" column? (0.5 p - extra)"
   ]
  },
  {
   "cell_type": "code",
   "execution_count": null,
   "metadata": {},
   "outputs": [],
   "source": []
  },
  {
   "cell_type": "markdown",
   "metadata": {},
   "source": [
    "#### Calculate the total income for each type of power generation and total costs for consumption (4 p) \n",
    "Return a dictionary like the following one:\n",
    "\n",
    "{ \"consumption\": cost_consumption, \"wind\": income_wind, \"solar\": income_solar, \"gas\": income_gas, ...} "
   ]
  },
  {
   "cell_type": "code",
   "execution_count": 11,
   "metadata": {
    "ExecuteTime": {
     "end_time": "2020-03-06T21:55:22.636499Z",
     "start_time": "2020-03-06T21:55:22.633967Z"
    }
   },
   "outputs": [],
   "source": [
    "# Income = energy_generated * price\n",
    "# Cost = energy_bought * price"
   ]
  },
  {
   "cell_type": "markdown",
   "metadata": {},
   "source": [
    "#### Create two plots: (2 p)\n",
    "* Hourly average power demand\n",
    "* Hourly average spot price"
   ]
  },
  {
   "cell_type": "code",
   "execution_count": null,
   "metadata": {},
   "outputs": [],
   "source": []
  },
  {
   "cell_type": "markdown",
   "metadata": {
    "ExecuteTime": {
     "end_time": "2020-03-06T21:37:24.835762Z",
     "start_time": "2020-03-06T21:37:24.831582Z"
    }
   },
   "source": [
    "#### Create a categorical variable called \"wind_category\" using the \"wind\" column (2 p)\n",
    "Create 3 categories: low, mid, high"
   ]
  },
  {
   "cell_type": "code",
   "execution_count": null,
   "metadata": {},
   "outputs": [],
   "source": []
  },
  {
   "cell_type": "markdown",
   "metadata": {},
   "source": [
    "#### Which is the power generation type that has generated the most energy? And the least? (2 p)"
   ]
  },
  {
   "cell_type": "code",
   "execution_count": null,
   "metadata": {},
   "outputs": [],
   "source": []
  }
 ],
 "metadata": {
  "kernelspec": {
   "display_name": "Python (mbd)",
   "language": "python",
   "name": "mbd"
  },
  "language_info": {
   "codemirror_mode": {
    "name": "ipython",
    "version": 3
   },
   "file_extension": ".py",
   "mimetype": "text/x-python",
   "name": "python",
   "nbconvert_exporter": "python",
   "pygments_lexer": "ipython3",
   "version": "3.8.0"
  },
  "toc": {
   "base_numbering": 1,
   "nav_menu": {},
   "number_sections": true,
   "sideBar": true,
   "skip_h1_title": false,
   "title_cell": "Table of Contents",
   "title_sidebar": "Contents",
   "toc_cell": false,
   "toc_position": {},
   "toc_section_display": true,
   "toc_window_display": false
  }
 },
 "nbformat": 4,
 "nbformat_minor": 2
}
